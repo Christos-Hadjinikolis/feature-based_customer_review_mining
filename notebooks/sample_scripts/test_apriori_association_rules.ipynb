{
 "cells": [
  {
   "cell_type": "code",
   "execution_count": 1,
   "metadata": {},
   "outputs": [
    {
     "name": "stdout",
     "output_type": "stream",
     "text": [
      "Collecting apyori\n",
      "  Downloading apyori-1.1.2.tar.gz (8.6 kB)\n",
      "Building wheels for collected packages: apyori\n",
      "  Building wheel for apyori (setup.py) ... \u001b[?25ldone\n",
      "\u001b[?25h  Created wheel for apyori: filename=apyori-1.1.2-py3-none-any.whl size=7847 sha256=6795c972600cbff8e6de68d40712ab923a7c7bbe739123e440e7dc9d1edcdcae\n",
      "  Stored in directory: /Users/chadjinik/Library/Caches/pip/wheels/47/6f/0f/21a86f3679f7ed6bbe4dc6694f86818c5d85c2044bfab0f1e8\n",
      "Successfully built apyori\n",
      "Installing collected packages: apyori\n",
      "Successfully installed apyori-1.1.2\n"
     ]
    }
   ],
   "source": [
    "!pip install apyori"
   ]
  },
  {
   "cell_type": "code",
   "execution_count": 2,
   "metadata": {},
   "outputs": [
    {
     "name": "stdout",
     "output_type": "stream",
     "text": [
      "Requirement already up-to-date: pip in /Users/chadjinik/anaconda3/lib/python3.6/site-packages (20.1.1)\r\n"
     ]
    }
   ],
   "source": [
    "!pip install --upgrade pip"
   ]
  },
  {
   "cell_type": "code",
   "execution_count": 10,
   "metadata": {
    "collapsed": true
   },
   "outputs": [],
   "source": [
    "from apyori import apriori\n",
    "\n",
    "transactions = [\n",
    "    ['beer', 'nuts', 'sugar'],\n",
    "    ['beer', 'cheese', 'sugar'],\n",
    "    ['beer', 'cheese'],\n",
    "    ['beer', 'cheese', 'sugar'],\n",
    "]\n",
    "results = apriori(transactions)"
   ]
  },
  {
   "cell_type": "code",
   "execution_count": 11,
   "metadata": {},
   "outputs": [
    {
     "name": "stdout",
     "output_type": "stream",
     "text": [
      "RelationRecord(items=frozenset({'beer'}), support=1.0, ordered_statistics=[OrderedStatistic(items_base=frozenset(), items_add=frozenset({'beer'}), confidence=1.0, lift=1.0)])\n",
      "RelationRecord(items=frozenset({'cheese'}), support=0.75, ordered_statistics=[OrderedStatistic(items_base=frozenset(), items_add=frozenset({'cheese'}), confidence=0.75, lift=1.0)])\n",
      "RelationRecord(items=frozenset({'nuts'}), support=0.25, ordered_statistics=[OrderedStatistic(items_base=frozenset(), items_add=frozenset({'nuts'}), confidence=0.25, lift=1.0)])\n",
      "RelationRecord(items=frozenset({'sugar'}), support=0.75, ordered_statistics=[OrderedStatistic(items_base=frozenset(), items_add=frozenset({'sugar'}), confidence=0.75, lift=1.0)])\n",
      "RelationRecord(items=frozenset({'beer', 'cheese'}), support=0.75, ordered_statistics=[OrderedStatistic(items_base=frozenset(), items_add=frozenset({'beer', 'cheese'}), confidence=0.75, lift=1.0), OrderedStatistic(items_base=frozenset({'beer'}), items_add=frozenset({'cheese'}), confidence=0.75, lift=1.0), OrderedStatistic(items_base=frozenset({'cheese'}), items_add=frozenset({'beer'}), confidence=1.0, lift=1.0)])\n",
      "RelationRecord(items=frozenset({'beer', 'nuts'}), support=0.25, ordered_statistics=[OrderedStatistic(items_base=frozenset(), items_add=frozenset({'beer', 'nuts'}), confidence=0.25, lift=1.0), OrderedStatistic(items_base=frozenset({'beer'}), items_add=frozenset({'nuts'}), confidence=0.25, lift=1.0), OrderedStatistic(items_base=frozenset({'nuts'}), items_add=frozenset({'beer'}), confidence=1.0, lift=1.0)])\n",
      "RelationRecord(items=frozenset({'beer', 'sugar'}), support=0.75, ordered_statistics=[OrderedStatistic(items_base=frozenset(), items_add=frozenset({'beer', 'sugar'}), confidence=0.75, lift=1.0), OrderedStatistic(items_base=frozenset({'beer'}), items_add=frozenset({'sugar'}), confidence=0.75, lift=1.0), OrderedStatistic(items_base=frozenset({'sugar'}), items_add=frozenset({'beer'}), confidence=1.0, lift=1.0)])\n",
      "RelationRecord(items=frozenset({'sugar', 'cheese'}), support=0.5, ordered_statistics=[OrderedStatistic(items_base=frozenset(), items_add=frozenset({'sugar', 'cheese'}), confidence=0.5, lift=1.0), OrderedStatistic(items_base=frozenset({'cheese'}), items_add=frozenset({'sugar'}), confidence=0.6666666666666666, lift=0.8888888888888888), OrderedStatistic(items_base=frozenset({'sugar'}), items_add=frozenset({'cheese'}), confidence=0.6666666666666666, lift=0.8888888888888888)])\n",
      "RelationRecord(items=frozenset({'sugar', 'nuts'}), support=0.25, ordered_statistics=[OrderedStatistic(items_base=frozenset(), items_add=frozenset({'sugar', 'nuts'}), confidence=0.25, lift=1.0), OrderedStatistic(items_base=frozenset({'nuts'}), items_add=frozenset({'sugar'}), confidence=1.0, lift=1.3333333333333333), OrderedStatistic(items_base=frozenset({'sugar'}), items_add=frozenset({'nuts'}), confidence=0.3333333333333333, lift=1.3333333333333333)])\n",
      "RelationRecord(items=frozenset({'beer', 'sugar', 'cheese'}), support=0.5, ordered_statistics=[OrderedStatistic(items_base=frozenset(), items_add=frozenset({'beer', 'sugar', 'cheese'}), confidence=0.5, lift=1.0), OrderedStatistic(items_base=frozenset({'beer'}), items_add=frozenset({'sugar', 'cheese'}), confidence=0.5, lift=1.0), OrderedStatistic(items_base=frozenset({'cheese'}), items_add=frozenset({'beer', 'sugar'}), confidence=0.6666666666666666, lift=0.8888888888888888), OrderedStatistic(items_base=frozenset({'sugar'}), items_add=frozenset({'beer', 'cheese'}), confidence=0.6666666666666666, lift=0.8888888888888888), OrderedStatistic(items_base=frozenset({'beer', 'cheese'}), items_add=frozenset({'sugar'}), confidence=0.6666666666666666, lift=0.8888888888888888), OrderedStatistic(items_base=frozenset({'beer', 'sugar'}), items_add=frozenset({'cheese'}), confidence=0.6666666666666666, lift=0.8888888888888888), OrderedStatistic(items_base=frozenset({'sugar', 'cheese'}), items_add=frozenset({'beer'}), confidence=1.0, lift=1.0)])\n",
      "RelationRecord(items=frozenset({'beer', 'sugar', 'nuts'}), support=0.25, ordered_statistics=[OrderedStatistic(items_base=frozenset(), items_add=frozenset({'beer', 'sugar', 'nuts'}), confidence=0.25, lift=1.0), OrderedStatistic(items_base=frozenset({'beer'}), items_add=frozenset({'sugar', 'nuts'}), confidence=0.25, lift=1.0), OrderedStatistic(items_base=frozenset({'nuts'}), items_add=frozenset({'beer', 'sugar'}), confidence=1.0, lift=1.3333333333333333), OrderedStatistic(items_base=frozenset({'sugar'}), items_add=frozenset({'beer', 'nuts'}), confidence=0.3333333333333333, lift=1.3333333333333333), OrderedStatistic(items_base=frozenset({'beer', 'nuts'}), items_add=frozenset({'sugar'}), confidence=1.0, lift=1.3333333333333333), OrderedStatistic(items_base=frozenset({'beer', 'sugar'}), items_add=frozenset({'nuts'}), confidence=0.3333333333333333, lift=1.3333333333333333), OrderedStatistic(items_base=frozenset({'sugar', 'nuts'}), items_add=frozenset({'beer'}), confidence=1.0, lift=1.0)])\n"
     ]
    }
   ],
   "source": [
    "for result in results:\n",
    "    print(result)"
   ]
  },
  {
   "cell_type": "code",
   "execution_count": null,
   "metadata": {
    "collapsed": true
   },
   "outputs": [],
   "source": []
  }
 ],
 "metadata": {
  "kernelspec": {
   "display_name": "Python 3",
   "language": "python",
   "name": "python3"
  },
  "language_info": {
   "codemirror_mode": {
    "name": "ipython",
    "version": 3
   },
   "file_extension": ".py",
   "mimetype": "text/x-python",
   "name": "python",
   "nbconvert_exporter": "python",
   "pygments_lexer": "ipython3",
   "version": "3.6.7"
  }
 },
 "nbformat": 4,
 "nbformat_minor": 2
}
