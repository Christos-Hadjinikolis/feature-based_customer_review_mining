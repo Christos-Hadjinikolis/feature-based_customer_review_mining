{
 "cells": [
  {
   "cell_type": "markdown",
   "metadata": {},
   "source": [
    "# Grouping Domain Synonyms\n",
    "This note book is used for identifying and grouping domain synonyms in book reviews for each book. The approach relies on creating an `nltk.context` per book which will be used to compare only nouns. Nouns that appear to have a highly similar context, will be grouped together under the same name (either the one's or the other's). "
   ]
  },
  {
   "cell_type": "code",
   "execution_count": 1,
   "metadata": {
    "collapsed": true,
    "jupyter": {
     "outputs_hidden": true
    }
   },
   "outputs": [],
   "source": [
    "# For monitoring duration of pandas processes\n",
    "from tqdm import tqdm, tqdm_pandas\n",
    "\n",
    "# To avoid RuntimeError: Set changed size during iteration\n",
    "tqdm.monitor_interval = 0\n",
    "\n",
    "# Register `pandas.progress_apply` and `pandas.Series.map_apply` with `tqdm`\n",
    "# (can use `tqdm_gui`, `tqdm_notebook`, optional kwargs, etc.)\n",
    "tqdm.pandas(desc=\"Progress:\")\n",
    "\n",
    "# Now you can use `progress_apply` instead of `apply`\n",
    "# and `progress_map` instead of `map`\n",
    "# can also groupby:\n",
    "# df.groupby(0).progress_apply(lambda x: x**2)"
   ]
  },
  {
   "cell_type": "code",
   "execution_count": 2,
   "metadata": {},
   "outputs": [
    {
     "data": {
      "text/html": [
       "<div>\n",
       "<style scoped>\n",
       "    .dataframe tbody tr th:only-of-type {\n",
       "        vertical-align: middle;\n",
       "    }\n",
       "\n",
       "    .dataframe tbody tr th {\n",
       "        vertical-align: top;\n",
       "    }\n",
       "\n",
       "    .dataframe thead th {\n",
       "        text-align: right;\n",
       "    }\n",
       "</style>\n",
       "<table border=\"1\" class=\"dataframe\">\n",
       "  <thead>\n",
       "    <tr style=\"text-align: right;\">\n",
       "      <th></th>\n",
       "      <th>uniqueKey</th>\n",
       "      <th>reviewText</th>\n",
       "    </tr>\n",
       "  </thead>\n",
       "  <tbody>\n",
       "    <tr>\n",
       "      <th>0</th>\n",
       "      <td>A2XQ5LZHTD4AFT##000100039X</td>\n",
       "      <td>['timeless', ' gibran', ' backs', ' content', ...</td>\n",
       "    </tr>\n",
       "    <tr>\n",
       "      <th>1</th>\n",
       "      <td>AF7CSSGV93RXN##000100039X</td>\n",
       "      <td>[' prophet', ' kahlil', ' gibran', ' thirty', ...</td>\n",
       "    </tr>\n",
       "    <tr>\n",
       "      <th>2</th>\n",
       "      <td>A1NPNGWBVD9AK3##000100039X</td>\n",
       "      <td>[' first', ' books', ' recall', ' collection',...</td>\n",
       "    </tr>\n",
       "    <tr>\n",
       "      <th>3</th>\n",
       "      <td>A3IS4WGMFR4X65##000100039X</td>\n",
       "      <td>['prophet', ' kahlil', ' work', ' world', ' mi...</td>\n",
       "    </tr>\n",
       "    <tr>\n",
       "      <th>4</th>\n",
       "      <td>AWLFVCT9128JV##000100039X</td>\n",
       "      <td>['gibran', ' khalil', ' gibran', ' born', ' on...</td>\n",
       "    </tr>\n",
       "  </tbody>\n",
       "</table>\n",
       "</div>"
      ],
      "text/plain": [
       "                    uniqueKey  \\\n",
       "0  A2XQ5LZHTD4AFT##000100039X   \n",
       "1   AF7CSSGV93RXN##000100039X   \n",
       "2  A1NPNGWBVD9AK3##000100039X   \n",
       "3  A3IS4WGMFR4X65##000100039X   \n",
       "4   AWLFVCT9128JV##000100039X   \n",
       "\n",
       "                                          reviewText  \n",
       "0  ['timeless', ' gibran', ' backs', ' content', ...  \n",
       "1  [' prophet', ' kahlil', ' gibran', ' thirty', ...  \n",
       "2  [' first', ' books', ' recall', ' collection',...  \n",
       "3  ['prophet', ' kahlil', ' work', ' world', ' mi...  \n",
       "4  ['gibran', ' khalil', ' gibran', ' born', ' on...  "
      ]
     },
     "execution_count": 2,
     "metadata": {},
     "output_type": "execute_result"
    }
   ],
   "source": [
    "import pandas as pd\n",
    "df0 = pd.read_csv(\"../data/interim/002_keyed_nouns.csv\", sep=\"\\t\", low_memory=False)\n",
    "df0.head()"
   ]
  },
  {
   "cell_type": "markdown",
   "metadata": {},
   "source": [
    "Convert back to a string list."
   ]
  },
  {
   "cell_type": "code",
   "execution_count": 3,
   "metadata": {},
   "outputs": [
    {
     "name": "stderr",
     "output_type": "stream",
     "text": [
      "Progress:: 100%|██████████| 582711/582711 [00:11<00:00, 50114.32it/s]\n"
     ]
    },
    {
     "data": {
      "text/plain": [
       "0    [timeless,   gibran,   backs,   content,   mea...\n",
       "1    [ prophet,   kahlil,   gibran,   thirty,   yea...\n",
       "2    [ first,   books,   recall,   collection,   gi...\n",
       "3    [prophet,   kahlil,   work,   world,   million...\n",
       "4    [gibran,   khalil,   gibran,   born,   one tho...\n",
       "Name: reviewText, dtype: object"
      ]
     },
     "execution_count": 3,
     "metadata": {},
     "output_type": "execute_result"
    }
   ],
   "source": [
    "def convert_text_to_list(review):\n",
    "    return review.replace(\"[\",\"\").replace(\"]\",\"\").replace(\"'\",\"\").replace(\"\\t\",\"\").split(\",\")\n",
    "\n",
    "# Convert \"reviewText\" field to back to list\n",
    "df0['reviewText'] = df0['reviewText'].astype(str)\n",
    "df0['reviewText'] = df0['reviewText'].progress_apply(lambda text: convert_text_to_list(text));\n",
    "df0['reviewText'].head()"
   ]
  },
  {
   "cell_type": "markdown",
   "metadata": {},
   "source": [
    "Split unique key to `asin` and `unserId`."
   ]
  },
  {
   "cell_type": "code",
   "execution_count": 4,
   "metadata": {},
   "outputs": [
    {
     "data": {
      "text/html": [
       "<div>\n",
       "<style scoped>\n",
       "    .dataframe tbody tr th:only-of-type {\n",
       "        vertical-align: middle;\n",
       "    }\n",
       "\n",
       "    .dataframe tbody tr th {\n",
       "        vertical-align: top;\n",
       "    }\n",
       "\n",
       "    .dataframe thead th {\n",
       "        text-align: right;\n",
       "    }\n",
       "</style>\n",
       "<table border=\"1\" class=\"dataframe\">\n",
       "  <thead>\n",
       "    <tr style=\"text-align: right;\">\n",
       "      <th></th>\n",
       "      <th>userId</th>\n",
       "      <th>asin</th>\n",
       "    </tr>\n",
       "  </thead>\n",
       "  <tbody>\n",
       "    <tr>\n",
       "      <th>0</th>\n",
       "      <td>A2XQ5LZHTD4AFT</td>\n",
       "      <td>000100039X</td>\n",
       "    </tr>\n",
       "    <tr>\n",
       "      <th>1</th>\n",
       "      <td>AF7CSSGV93RXN</td>\n",
       "      <td>000100039X</td>\n",
       "    </tr>\n",
       "    <tr>\n",
       "      <th>2</th>\n",
       "      <td>A1NPNGWBVD9AK3</td>\n",
       "      <td>000100039X</td>\n",
       "    </tr>\n",
       "    <tr>\n",
       "      <th>3</th>\n",
       "      <td>A3IS4WGMFR4X65</td>\n",
       "      <td>000100039X</td>\n",
       "    </tr>\n",
       "    <tr>\n",
       "      <th>4</th>\n",
       "      <td>AWLFVCT9128JV</td>\n",
       "      <td>000100039X</td>\n",
       "    </tr>\n",
       "  </tbody>\n",
       "</table>\n",
       "</div>"
      ],
      "text/plain": [
       "           userId        asin\n",
       "0  A2XQ5LZHTD4AFT  000100039X\n",
       "1   AF7CSSGV93RXN  000100039X\n",
       "2  A1NPNGWBVD9AK3  000100039X\n",
       "3  A3IS4WGMFR4X65  000100039X\n",
       "4   AWLFVCT9128JV  000100039X"
      ]
     },
     "execution_count": 4,
     "metadata": {},
     "output_type": "execute_result"
    }
   ],
   "source": [
    "df1 = pd.DataFrame(df0.uniqueKey.str.split('##',1).tolist(),columns = ['userId','asin'])\n",
    "df1.head()"
   ]
  },
  {
   "cell_type": "code",
   "execution_count": 5,
   "metadata": {},
   "outputs": [
    {
     "data": {
      "text/html": [
       "<div>\n",
       "<style scoped>\n",
       "    .dataframe tbody tr th:only-of-type {\n",
       "        vertical-align: middle;\n",
       "    }\n",
       "\n",
       "    .dataframe tbody tr th {\n",
       "        vertical-align: top;\n",
       "    }\n",
       "\n",
       "    .dataframe thead th {\n",
       "        text-align: right;\n",
       "    }\n",
       "</style>\n",
       "<table border=\"1\" class=\"dataframe\">\n",
       "  <thead>\n",
       "    <tr style=\"text-align: right;\">\n",
       "      <th></th>\n",
       "      <th>reviewText</th>\n",
       "    </tr>\n",
       "  </thead>\n",
       "  <tbody>\n",
       "    <tr>\n",
       "      <th>0</th>\n",
       "      <td>[timeless,   gibran,   backs,   content,   mea...</td>\n",
       "    </tr>\n",
       "    <tr>\n",
       "      <th>1</th>\n",
       "      <td>[ prophet,   kahlil,   gibran,   thirty,   yea...</td>\n",
       "    </tr>\n",
       "    <tr>\n",
       "      <th>2</th>\n",
       "      <td>[ first,   books,   recall,   collection,   gi...</td>\n",
       "    </tr>\n",
       "    <tr>\n",
       "      <th>3</th>\n",
       "      <td>[prophet,   kahlil,   work,   world,   million...</td>\n",
       "    </tr>\n",
       "    <tr>\n",
       "      <th>4</th>\n",
       "      <td>[gibran,   khalil,   gibran,   born,   one tho...</td>\n",
       "    </tr>\n",
       "  </tbody>\n",
       "</table>\n",
       "</div>"
      ],
      "text/plain": [
       "                                          reviewText\n",
       "0  [timeless,   gibran,   backs,   content,   mea...\n",
       "1  [ prophet,   kahlil,   gibran,   thirty,   yea...\n",
       "2  [ first,   books,   recall,   collection,   gi...\n",
       "3  [prophet,   kahlil,   work,   world,   million...\n",
       "4  [gibran,   khalil,   gibran,   born,   one tho..."
      ]
     },
     "execution_count": 5,
     "metadata": {},
     "output_type": "execute_result"
    }
   ],
   "source": [
    "df_reviewText = pd.DataFrame(df0['reviewText'])\n",
    "df_reviewText.head()"
   ]
  },
  {
   "cell_type": "markdown",
   "metadata": {},
   "source": [
    "Create new dataframe with `userId`, `asin` and `reviewText`."
   ]
  },
  {
   "cell_type": "code",
   "execution_count": 6,
   "metadata": {
    "collapsed": true,
    "jupyter": {
     "outputs_hidden": true
    }
   },
   "outputs": [],
   "source": [
    "df_new = pd.concat([df1, df_reviewText], axis=1)"
   ]
  },
  {
   "cell_type": "code",
   "execution_count": 7,
   "metadata": {},
   "outputs": [
    {
     "data": {
      "text/html": [
       "<div>\n",
       "<style scoped>\n",
       "    .dataframe tbody tr th:only-of-type {\n",
       "        vertical-align: middle;\n",
       "    }\n",
       "\n",
       "    .dataframe tbody tr th {\n",
       "        vertical-align: top;\n",
       "    }\n",
       "\n",
       "    .dataframe thead th {\n",
       "        text-align: right;\n",
       "    }\n",
       "</style>\n",
       "<table border=\"1\" class=\"dataframe\">\n",
       "  <thead>\n",
       "    <tr style=\"text-align: right;\">\n",
       "      <th></th>\n",
       "      <th>userId</th>\n",
       "      <th>asin</th>\n",
       "      <th>reviewText</th>\n",
       "    </tr>\n",
       "  </thead>\n",
       "  <tbody>\n",
       "    <tr>\n",
       "      <th>0</th>\n",
       "      <td>A2XQ5LZHTD4AFT</td>\n",
       "      <td>000100039X</td>\n",
       "      <td>[timeless,   gibran,   backs,   content,   mea...</td>\n",
       "    </tr>\n",
       "    <tr>\n",
       "      <th>1</th>\n",
       "      <td>AF7CSSGV93RXN</td>\n",
       "      <td>000100039X</td>\n",
       "      <td>[ prophet,   kahlil,   gibran,   thirty,   yea...</td>\n",
       "    </tr>\n",
       "    <tr>\n",
       "      <th>2</th>\n",
       "      <td>A1NPNGWBVD9AK3</td>\n",
       "      <td>000100039X</td>\n",
       "      <td>[ first,   books,   recall,   collection,   gi...</td>\n",
       "    </tr>\n",
       "    <tr>\n",
       "      <th>3</th>\n",
       "      <td>A3IS4WGMFR4X65</td>\n",
       "      <td>000100039X</td>\n",
       "      <td>[prophet,   kahlil,   work,   world,   million...</td>\n",
       "    </tr>\n",
       "    <tr>\n",
       "      <th>4</th>\n",
       "      <td>AWLFVCT9128JV</td>\n",
       "      <td>000100039X</td>\n",
       "      <td>[gibran,   khalil,   gibran,   born,   one tho...</td>\n",
       "    </tr>\n",
       "  </tbody>\n",
       "</table>\n",
       "</div>"
      ],
      "text/plain": [
       "           userId        asin  \\\n",
       "0  A2XQ5LZHTD4AFT  000100039X   \n",
       "1   AF7CSSGV93RXN  000100039X   \n",
       "2  A1NPNGWBVD9AK3  000100039X   \n",
       "3  A3IS4WGMFR4X65  000100039X   \n",
       "4   AWLFVCT9128JV  000100039X   \n",
       "\n",
       "                                          reviewText  \n",
       "0  [timeless,   gibran,   backs,   content,   mea...  \n",
       "1  [ prophet,   kahlil,   gibran,   thirty,   yea...  \n",
       "2  [ first,   books,   recall,   collection,   gi...  \n",
       "3  [prophet,   kahlil,   work,   world,   million...  \n",
       "4  [gibran,   khalil,   gibran,   born,   one tho...  "
      ]
     },
     "execution_count": 7,
     "metadata": {},
     "output_type": "execute_result"
    }
   ],
   "source": [
    "df_new.head()"
   ]
  },
  {
   "cell_type": "markdown",
   "metadata": {},
   "source": [
    "Drop `userId` and groupby the same book."
   ]
  },
  {
   "cell_type": "code",
   "execution_count": 8,
   "metadata": {
    "collapsed": true,
    "jupyter": {
     "outputs_hidden": true
    }
   },
   "outputs": [],
   "source": [
    "df_books = df_new.drop(columns=['userId'])"
   ]
  },
  {
   "cell_type": "code",
   "execution_count": 9,
   "metadata": {},
   "outputs": [
    {
     "name": "stderr",
     "output_type": "stream",
     "text": [
      "Progress:: 100%|█████████▉| 59324/59325 [00:08<00:00, 6738.84it/s] \n"
     ]
    }
   ],
   "source": [
    "df_books_bigReviews = df_books.groupby(['asin'])['reviewText'].progress_apply(list)"
   ]
  },
  {
   "cell_type": "code",
   "execution_count": 10,
   "metadata": {},
   "outputs": [
    {
     "data": {
      "text/html": [
       "<div>\n",
       "<style scoped>\n",
       "    .dataframe tbody tr th:only-of-type {\n",
       "        vertical-align: middle;\n",
       "    }\n",
       "\n",
       "    .dataframe tbody tr th {\n",
       "        vertical-align: top;\n",
       "    }\n",
       "\n",
       "    .dataframe thead th {\n",
       "        text-align: right;\n",
       "    }\n",
       "</style>\n",
       "<table border=\"1\" class=\"dataframe\">\n",
       "  <thead>\n",
       "    <tr style=\"text-align: right;\">\n",
       "      <th></th>\n",
       "      <th>asin</th>\n",
       "      <th>reviewText</th>\n",
       "    </tr>\n",
       "  </thead>\n",
       "  <tbody>\n",
       "    <tr>\n",
       "      <th>0</th>\n",
       "      <td>000100039X</td>\n",
       "      <td>[[timeless,   gibran,   backs,   content,   me...</td>\n",
       "    </tr>\n",
       "    <tr>\n",
       "      <th>1</th>\n",
       "      <td>0002051850</td>\n",
       "      <td>[[ book,   takes,   civil,   war,   descriptio...</td>\n",
       "    </tr>\n",
       "    <tr>\n",
       "      <th>2</th>\n",
       "      <td>0002113570</td>\n",
       "      <td>[[ book,   great,   woman,   done,   great,   ...</td>\n",
       "    </tr>\n",
       "    <tr>\n",
       "      <th>3</th>\n",
       "      <td>0002117088</td>\n",
       "      <td>[[ renoir,   father,   quot,   bedside,   surg...</td>\n",
       "    </tr>\n",
       "    <tr>\n",
       "      <th>4</th>\n",
       "      <td>000215725X</td>\n",
       "      <td>[[ dalrymple,   great,   apetite,   context,  ...</td>\n",
       "    </tr>\n",
       "  </tbody>\n",
       "</table>\n",
       "</div>"
      ],
      "text/plain": [
       "         asin                                         reviewText\n",
       "0  000100039X  [[timeless,   gibran,   backs,   content,   me...\n",
       "1  0002051850  [[ book,   takes,   civil,   war,   descriptio...\n",
       "2  0002113570  [[ book,   great,   woman,   done,   great,   ...\n",
       "3  0002117088  [[ renoir,   father,   quot,   bedside,   surg...\n",
       "4  000215725X  [[ dalrymple,   great,   apetite,   context,  ..."
      ]
     },
     "execution_count": 10,
     "metadata": {},
     "output_type": "execute_result"
    }
   ],
   "source": [
    "df_books_bigReviews_df = pd.DataFrame(df_books_bigReviews).reset_index()\n",
    "df_books_bigReviews_df.head()"
   ]
  },
  {
   "cell_type": "code",
   "execution_count": 11,
   "metadata": {
    "collapsed": true,
    "jupyter": {
     "outputs_hidden": true
    }
   },
   "outputs": [],
   "source": [
    "def merge_list(reviewsList):\n",
    "    new_list = []\n",
    "    for review in reviewsList:\n",
    "        new_list = new_list + review\n",
    "    return list(set(new_list))"
   ]
  },
  {
   "cell_type": "code",
   "execution_count": 12,
   "metadata": {},
   "outputs": [
    {
     "name": "stderr",
     "output_type": "stream",
     "text": [
      "Progress:: 100%|██████████| 59324/59324 [00:05<00:00, 10496.55it/s]\n"
     ]
    },
    {
     "data": {
      "text/plain": [
       "asin\n",
       "000100039X    [  depression,   seeress,   journey,   eye,   ...\n",
       "0002051850    [  volunteer,   rest,   internal,   participan...\n",
       "0002113570    [  tanzania,   effort,   type,   journey,   cl...\n",
       "0002117088    [  elsewhere,   small,   art,   got,   say,   ...\n",
       "000215725X    [  punjabis,   journey,   eye,   visits,   fou...\n",
       "Name: reviewText, dtype: object"
      ]
     },
     "execution_count": 12,
     "metadata": {},
     "output_type": "execute_result"
    }
   ],
   "source": [
    "df_books_bigReviews_single_list_df = df_books_bigReviews.progress_apply(lambda reviewsList: merge_list(reviewsList))\n",
    "df_books_bigReviews_single_list_df.head()"
   ]
  },
  {
   "cell_type": "code",
   "execution_count": 13,
   "metadata": {},
   "outputs": [
    {
     "data": {
      "text/html": [
       "<div>\n",
       "<style scoped>\n",
       "    .dataframe tbody tr th:only-of-type {\n",
       "        vertical-align: middle;\n",
       "    }\n",
       "\n",
       "    .dataframe tbody tr th {\n",
       "        vertical-align: top;\n",
       "    }\n",
       "\n",
       "    .dataframe thead th {\n",
       "        text-align: right;\n",
       "    }\n",
       "</style>\n",
       "<table border=\"1\" class=\"dataframe\">\n",
       "  <thead>\n",
       "    <tr style=\"text-align: right;\">\n",
       "      <th></th>\n",
       "      <th>asin</th>\n",
       "      <th>reviewText</th>\n",
       "    </tr>\n",
       "  </thead>\n",
       "  <tbody>\n",
       "    <tr>\n",
       "      <th>0</th>\n",
       "      <td>000100039X</td>\n",
       "      <td>[  depression,   seeress,   journey,   eye,   ...</td>\n",
       "    </tr>\n",
       "    <tr>\n",
       "      <th>1</th>\n",
       "      <td>0002051850</td>\n",
       "      <td>[  volunteer,   rest,   internal,   participan...</td>\n",
       "    </tr>\n",
       "    <tr>\n",
       "      <th>2</th>\n",
       "      <td>0002113570</td>\n",
       "      <td>[  tanzania,   effort,   type,   journey,   cl...</td>\n",
       "    </tr>\n",
       "    <tr>\n",
       "      <th>3</th>\n",
       "      <td>0002117088</td>\n",
       "      <td>[  elsewhere,   small,   art,   got,   say,   ...</td>\n",
       "    </tr>\n",
       "    <tr>\n",
       "      <th>4</th>\n",
       "      <td>000215725X</td>\n",
       "      <td>[  punjabis,   journey,   eye,   visits,   fou...</td>\n",
       "    </tr>\n",
       "  </tbody>\n",
       "</table>\n",
       "</div>"
      ],
      "text/plain": [
       "         asin                                         reviewText\n",
       "0  000100039X  [  depression,   seeress,   journey,   eye,   ...\n",
       "1  0002051850  [  volunteer,   rest,   internal,   participan...\n",
       "2  0002113570  [  tanzania,   effort,   type,   journey,   cl...\n",
       "3  0002117088  [  elsewhere,   small,   art,   got,   say,   ...\n",
       "4  000215725X  [  punjabis,   journey,   eye,   visits,   fou..."
      ]
     },
     "execution_count": 13,
     "metadata": {},
     "output_type": "execute_result"
    }
   ],
   "source": [
    "df_books_vs_bigreviews = pd.DataFrame(df_books_bigReviews_single_list_df).reset_index()\n",
    "df_books_vs_bigreviews.head()"
   ]
  },
  {
   "cell_type": "code",
   "execution_count": 14,
   "metadata": {
    "collapsed": true,
    "jupyter": {
     "outputs_hidden": true
    }
   },
   "outputs": [],
   "source": [
    "df2 = df_books_vs_bigreviews"
   ]
  },
  {
   "cell_type": "code",
   "execution_count": 15,
   "metadata": {},
   "outputs": [
    {
     "data": {
      "text/plain": [
       "977"
      ]
     },
     "execution_count": 15,
     "metadata": {},
     "output_type": "execute_result"
    }
   ],
   "source": [
    "len(df2.reviewText[0])"
   ]
  },
  {
   "cell_type": "code",
   "execution_count": null,
   "metadata": {
    "jupyter": {
     "outputs_hidden": true
    }
   },
   "outputs": [
    {
     "name": "stderr",
     "output_type": "stream",
     "text": [
      "[nltk_data] Downloading package wordnet to\n",
      "[nltk_data]     /Users/chadjinik/nltk_data...\n",
      "[nltk_data]   Package wordnet is already up-to-date!\n"
     ]
    }
   ],
   "source": [
    "import nltk\n",
    "nltk.download('wordnet')\n",
    "from nltk.corpus import wordnet as wn\n",
    "from itertools import product\n",
    "\n",
    "def get_synonyms_dict(bigReview, theta):\n",
    "    \n",
    "    synonyms = {}\n",
    "    \n",
    "    for i in range(len(bigReview)):\n",
    "        wordx = bigReview[i]\n",
    "        for j in range(i,len(bigReview)):\n",
    "            wordy = bigReview[j]\n",
    "            \n",
    "            # don't compare with the same word\n",
    "            if(wordx == wordy):\n",
    "                continue\n",
    "            \n",
    "            sem1, sem2 = wn.synsets(wordx), wn.synsets(wordy)\n",
    "            prod = list(product(*[sem1,sem2]))\n",
    "            \n",
    "            maxscore = 0.0\n",
    "            for k,l in prod:\n",
    "                score = k.wup_similarity(l) # Wu-Palmer Similarity\n",
    "                if score is not None:\n",
    "                    if maxscore < score:\n",
    "                        maxscore = score\n",
    "            \n",
    "            if maxscore > theta and wordy not in synonyms:\n",
    "                synonyms[wordx] = wordy\n",
    "    return synonyms"
   ]
  },
  {
   "cell_type": "markdown",
   "metadata": {},
   "source": [
    "From this point onwards computation needs increase dramatically, so I will reduce the dataset I am using to just keep in 1000/59324 books. "
   ]
  },
  {
   "cell_type": "code",
   "execution_count": null,
   "metadata": {},
   "outputs": [
    {
     "name": "stderr",
     "output_type": "stream",
     "text": [
      "Progress:: 100%|██████████| 1000/1000 [1:15:43<00:00,  2.55s/it] \n"
     ]
    },
    {
     "data": {
      "text/html": [
       "<div>\n",
       "<style scoped>\n",
       "    .dataframe tbody tr th:only-of-type {\n",
       "        vertical-align: middle;\n",
       "    }\n",
       "\n",
       "    .dataframe tbody tr th {\n",
       "        vertical-align: top;\n",
       "    }\n",
       "\n",
       "    .dataframe thead th {\n",
       "        text-align: right;\n",
       "    }\n",
       "</style>\n",
       "<table border=\"1\" class=\"dataframe\">\n",
       "  <thead>\n",
       "    <tr style=\"text-align: right;\">\n",
       "      <th></th>\n",
       "      <th>asin</th>\n",
       "      <th>reviewText</th>\n",
       "      <th>synDict</th>\n",
       "    </tr>\n",
       "  </thead>\n",
       "  <tbody>\n",
       "    <tr>\n",
       "      <th>0</th>\n",
       "      <td>000100039X</td>\n",
       "      <td>[  depression,   seeress,   journey,   eye,   ...</td>\n",
       "      <td>{'gibrans': 'gibran'}</td>\n",
       "    </tr>\n",
       "    <tr>\n",
       "      <th>1</th>\n",
       "      <td>0002051850</td>\n",
       "      <td>[  volunteer,   rest,   internal,   participan...</td>\n",
       "      <td>{'authors': 'hemingways'}</td>\n",
       "    </tr>\n",
       "    <tr>\n",
       "      <th>2</th>\n",
       "      <td>0002113570</td>\n",
       "      <td>[  tanzania,   effort,   type,   journey,   cl...</td>\n",
       "      <td>{}</td>\n",
       "    </tr>\n",
       "    <tr>\n",
       "      <th>3</th>\n",
       "      <td>0002117088</td>\n",
       "      <td>[  elsewhere,   small,   art,   got,   say,   ...</td>\n",
       "      <td>{}</td>\n",
       "    </tr>\n",
       "    <tr>\n",
       "      <th>4</th>\n",
       "      <td>000215725X</td>\n",
       "      <td>[  punjabis,   journey,   eye,   visits,   fou...</td>\n",
       "      <td>{}</td>\n",
       "    </tr>\n",
       "  </tbody>\n",
       "</table>\n",
       "</div>"
      ],
      "text/plain": [
       "         asin                                         reviewText  \\\n",
       "0  000100039X  [  depression,   seeress,   journey,   eye,   ...   \n",
       "1  0002051850  [  volunteer,   rest,   internal,   participan...   \n",
       "2  0002113570  [  tanzania,   effort,   type,   journey,   cl...   \n",
       "3  0002117088  [  elsewhere,   small,   art,   got,   say,   ...   \n",
       "4  000215725X  [  punjabis,   journey,   eye,   visits,   fou...   \n",
       "\n",
       "                     synDict  \n",
       "0      {'gibrans': 'gibran'}  \n",
       "1  {'authors': 'hemingways'}  \n",
       "2                         {}  \n",
       "3                         {}  \n",
       "4                         {}  "
      ]
     },
     "execution_count": 17,
     "metadata": {},
     "output_type": "execute_result"
    }
   ],
   "source": [
    "# Get Synonym Dicts per Book Reviews\n",
    "df3 = df2[0:1000].assign(synDict = df2['reviewText'][0:1000].progress_apply(lambda big_review: get_synonyms_dict(big_review, 0.9)))\n",
    "df3.head()"
   ]
  },
  {
   "cell_type": "code",
   "execution_count": 29,
   "metadata": {},
   "outputs": [
    {
     "data": {
      "text/html": [
       "<div>\n",
       "<style scoped>\n",
       "    .dataframe tbody tr th:only-of-type {\n",
       "        vertical-align: middle;\n",
       "    }\n",
       "\n",
       "    .dataframe tbody tr th {\n",
       "        vertical-align: top;\n",
       "    }\n",
       "\n",
       "    .dataframe thead th {\n",
       "        text-align: right;\n",
       "    }\n",
       "</style>\n",
       "<table border=\"1\" class=\"dataframe\">\n",
       "  <thead>\n",
       "    <tr style=\"text-align: right;\">\n",
       "      <th></th>\n",
       "      <th>asin</th>\n",
       "      <th>synDict</th>\n",
       "    </tr>\n",
       "  </thead>\n",
       "  <tbody>\n",
       "    <tr>\n",
       "      <th>0</th>\n",
       "      <td>000100039X</td>\n",
       "      <td>{'gibrans': 'gibran'}</td>\n",
       "    </tr>\n",
       "    <tr>\n",
       "      <th>1</th>\n",
       "      <td>0002051850</td>\n",
       "      <td>{'authors': 'hemingways'}</td>\n",
       "    </tr>\n",
       "    <tr>\n",
       "      <th>2</th>\n",
       "      <td>0002113570</td>\n",
       "      <td>{}</td>\n",
       "    </tr>\n",
       "    <tr>\n",
       "      <th>3</th>\n",
       "      <td>0002117088</td>\n",
       "      <td>{}</td>\n",
       "    </tr>\n",
       "    <tr>\n",
       "      <th>4</th>\n",
       "      <td>000215725X</td>\n",
       "      <td>{}</td>\n",
       "    </tr>\n",
       "  </tbody>\n",
       "</table>\n",
       "</div>"
      ],
      "text/plain": [
       "         asin                    synDict\n",
       "0  000100039X      {'gibrans': 'gibran'}\n",
       "1  0002051850  {'authors': 'hemingways'}\n",
       "2  0002113570                         {}\n",
       "3  0002117088                         {}\n",
       "4  000215725X                         {}"
      ]
     },
     "execution_count": 29,
     "metadata": {},
     "output_type": "execute_result"
    }
   ],
   "source": [
    "df4 = df3.drop(columns=['reviewText'])\n",
    "df4.head()"
   ]
  },
  {
   "cell_type": "code",
   "execution_count": 30,
   "metadata": {},
   "outputs": [
    {
     "data": {
      "text/html": [
       "<div>\n",
       "<style scoped>\n",
       "    .dataframe tbody tr th:only-of-type {\n",
       "        vertical-align: middle;\n",
       "    }\n",
       "\n",
       "    .dataframe tbody tr th {\n",
       "        vertical-align: top;\n",
       "    }\n",
       "\n",
       "    .dataframe thead th {\n",
       "        text-align: right;\n",
       "    }\n",
       "</style>\n",
       "<table border=\"1\" class=\"dataframe\">\n",
       "  <thead>\n",
       "    <tr style=\"text-align: right;\">\n",
       "      <th></th>\n",
       "      <th>userId</th>\n",
       "      <th>asin</th>\n",
       "      <th>reviewText</th>\n",
       "      <th>synDict</th>\n",
       "    </tr>\n",
       "  </thead>\n",
       "  <tbody>\n",
       "    <tr>\n",
       "      <th>0</th>\n",
       "      <td>A2XQ5LZHTD4AFT</td>\n",
       "      <td>000100039X</td>\n",
       "      <td>[timeless,   gibran,   backs,   content,   mea...</td>\n",
       "      <td>{'gibrans': 'gibran'}</td>\n",
       "    </tr>\n",
       "    <tr>\n",
       "      <th>1</th>\n",
       "      <td>AF7CSSGV93RXN</td>\n",
       "      <td>000100039X</td>\n",
       "      <td>[ prophet,   kahlil,   gibran,   thirty,   yea...</td>\n",
       "      <td>{'gibrans': 'gibran'}</td>\n",
       "    </tr>\n",
       "    <tr>\n",
       "      <th>2</th>\n",
       "      <td>A1NPNGWBVD9AK3</td>\n",
       "      <td>000100039X</td>\n",
       "      <td>[ first,   books,   recall,   collection,   gi...</td>\n",
       "      <td>{'gibrans': 'gibran'}</td>\n",
       "    </tr>\n",
       "    <tr>\n",
       "      <th>3</th>\n",
       "      <td>A3IS4WGMFR4X65</td>\n",
       "      <td>000100039X</td>\n",
       "      <td>[prophet,   kahlil,   work,   world,   million...</td>\n",
       "      <td>{'gibrans': 'gibran'}</td>\n",
       "    </tr>\n",
       "    <tr>\n",
       "      <th>4</th>\n",
       "      <td>AWLFVCT9128JV</td>\n",
       "      <td>000100039X</td>\n",
       "      <td>[gibran,   khalil,   gibran,   born,   one tho...</td>\n",
       "      <td>{'gibrans': 'gibran'}</td>\n",
       "    </tr>\n",
       "  </tbody>\n",
       "</table>\n",
       "</div>"
      ],
      "text/plain": [
       "           userId        asin  \\\n",
       "0  A2XQ5LZHTD4AFT  000100039X   \n",
       "1   AF7CSSGV93RXN  000100039X   \n",
       "2  A1NPNGWBVD9AK3  000100039X   \n",
       "3  A3IS4WGMFR4X65  000100039X   \n",
       "4   AWLFVCT9128JV  000100039X   \n",
       "\n",
       "                                          reviewText                synDict  \n",
       "0  [timeless,   gibran,   backs,   content,   mea...  {'gibrans': 'gibran'}  \n",
       "1  [ prophet,   kahlil,   gibran,   thirty,   yea...  {'gibrans': 'gibran'}  \n",
       "2  [ first,   books,   recall,   collection,   gi...  {'gibrans': 'gibran'}  \n",
       "3  [prophet,   kahlil,   work,   world,   million...  {'gibrans': 'gibran'}  \n",
       "4  [gibran,   khalil,   gibran,   born,   one tho...  {'gibrans': 'gibran'}  "
      ]
     },
     "execution_count": 30,
     "metadata": {},
     "output_type": "execute_result"
    }
   ],
   "source": [
    "df5 = pd.merge(df_new[0:1000], df4, how='inner', on='asin')\n",
    "df5.head()"
   ]
  },
  {
   "cell_type": "code",
   "execution_count": 31,
   "metadata": {
    "jupyter": {
     "outputs_hidden": true
    }
   },
   "outputs": [
    {
     "name": "stderr",
     "output_type": "stream",
     "text": [
      "/Users/chadjinik/anaconda3/lib/python3.6/site-packages/ipykernel_launcher.py:1: FutureWarning: Method .as_matrix will be removed in a future version. Use .values instead.\n",
      "  \"\"\"Entry point for launching an IPython kernel.\n"
     ]
    }
   ],
   "source": [
    "matrix_m01 = df5.as_matrix()"
   ]
  },
  {
   "cell_type": "code",
   "execution_count": 32,
   "metadata": {
    "collapsed": true,
    "jupyter": {
     "outputs_hidden": true
    }
   },
   "outputs": [],
   "source": [
    "for i in range(5):\n",
    "    new_list = []\n",
    "    for word in matrix_m01[i][2]:\n",
    "        clean_word = word.replace(\" \", \"\");\n",
    "        if clean_word in matrix_m01[i][3].keys():\n",
    "            new_list.append(matrix_m01[i][3][clean_word])\n",
    "        else:\n",
    "            new_list.append(clean_word)\n",
    "    matrix_m01[i][2] =  new_list"
   ]
  },
  {
   "cell_type": "code",
   "execution_count": 33,
   "metadata": {},
   "outputs": [
    {
     "data": {
      "text/html": [
       "<div>\n",
       "<style scoped>\n",
       "    .dataframe tbody tr th:only-of-type {\n",
       "        vertical-align: middle;\n",
       "    }\n",
       "\n",
       "    .dataframe tbody tr th {\n",
       "        vertical-align: top;\n",
       "    }\n",
       "\n",
       "    .dataframe thead th {\n",
       "        text-align: right;\n",
       "    }\n",
       "</style>\n",
       "<table border=\"1\" class=\"dataframe\">\n",
       "  <thead>\n",
       "    <tr style=\"text-align: right;\">\n",
       "      <th></th>\n",
       "      <th>0</th>\n",
       "      <th>1</th>\n",
       "      <th>2</th>\n",
       "      <th>3</th>\n",
       "    </tr>\n",
       "  </thead>\n",
       "  <tbody>\n",
       "    <tr>\n",
       "      <th>0</th>\n",
       "      <td>A2XQ5LZHTD4AFT</td>\n",
       "      <td>000100039X</td>\n",
       "      <td>[timeless, gibran, backs, content, means, cent...</td>\n",
       "      <td>{'gibrans': 'gibran'}</td>\n",
       "    </tr>\n",
       "    <tr>\n",
       "      <th>1</th>\n",
       "      <td>AF7CSSGV93RXN</td>\n",
       "      <td>000100039X</td>\n",
       "      <td>[prophet, kahlil, gibran, thirty, years, ago, ...</td>\n",
       "      <td>{'gibrans': 'gibran'}</td>\n",
       "    </tr>\n",
       "    <tr>\n",
       "      <th>2</th>\n",
       "      <td>A1NPNGWBVD9AK3</td>\n",
       "      <td>000100039X</td>\n",
       "      <td>[first, books, recall, collection, gibran, see...</td>\n",
       "      <td>{'gibrans': 'gibran'}</td>\n",
       "    </tr>\n",
       "    <tr>\n",
       "      <th>3</th>\n",
       "      <td>A3IS4WGMFR4X65</td>\n",
       "      <td>000100039X</td>\n",
       "      <td>[prophet, kahlil, work, world, million, copies...</td>\n",
       "      <td>{'gibrans': 'gibran'}</td>\n",
       "    </tr>\n",
       "    <tr>\n",
       "      <th>4</th>\n",
       "      <td>AWLFVCT9128JV</td>\n",
       "      <td>000100039X</td>\n",
       "      <td>[gibran, khalil, gibran, born, onethousand, no...</td>\n",
       "      <td>{'gibrans': 'gibran'}</td>\n",
       "    </tr>\n",
       "  </tbody>\n",
       "</table>\n",
       "</div>"
      ],
      "text/plain": [
       "                0           1  \\\n",
       "0  A2XQ5LZHTD4AFT  000100039X   \n",
       "1   AF7CSSGV93RXN  000100039X   \n",
       "2  A1NPNGWBVD9AK3  000100039X   \n",
       "3  A3IS4WGMFR4X65  000100039X   \n",
       "4   AWLFVCT9128JV  000100039X   \n",
       "\n",
       "                                                   2                      3  \n",
       "0  [timeless, gibran, backs, content, means, cent...  {'gibrans': 'gibran'}  \n",
       "1  [prophet, kahlil, gibran, thirty, years, ago, ...  {'gibrans': 'gibran'}  \n",
       "2  [first, books, recall, collection, gibran, see...  {'gibrans': 'gibran'}  \n",
       "3  [prophet, kahlil, work, world, million, copies...  {'gibrans': 'gibran'}  \n",
       "4  [gibran, khalil, gibran, born, onethousand, no...  {'gibrans': 'gibran'}  "
      ]
     },
     "execution_count": 33,
     "metadata": {},
     "output_type": "execute_result"
    }
   ],
   "source": [
    "df_final = pd.DataFrame(matrix_m01)\n",
    "df_final.head()"
   ]
  },
  {
   "cell_type": "code",
   "execution_count": 34,
   "metadata": {},
   "outputs": [
    {
     "data": {
      "text/html": [
       "<div>\n",
       "<style scoped>\n",
       "    .dataframe tbody tr th:only-of-type {\n",
       "        vertical-align: middle;\n",
       "    }\n",
       "\n",
       "    .dataframe tbody tr th {\n",
       "        vertical-align: top;\n",
       "    }\n",
       "\n",
       "    .dataframe thead th {\n",
       "        text-align: right;\n",
       "    }\n",
       "</style>\n",
       "<table border=\"1\" class=\"dataframe\">\n",
       "  <thead>\n",
       "    <tr style=\"text-align: right;\">\n",
       "      <th></th>\n",
       "      <th>userId</th>\n",
       "      <th>asin</th>\n",
       "      <th>reviewText</th>\n",
       "      <th>synDict</th>\n",
       "    </tr>\n",
       "  </thead>\n",
       "  <tbody>\n",
       "    <tr>\n",
       "      <th>0</th>\n",
       "      <td>A2XQ5LZHTD4AFT</td>\n",
       "      <td>000100039X</td>\n",
       "      <td>[timeless, gibran, backs, content, means, cent...</td>\n",
       "      <td>{'gibrans': 'gibran'}</td>\n",
       "    </tr>\n",
       "    <tr>\n",
       "      <th>1</th>\n",
       "      <td>AF7CSSGV93RXN</td>\n",
       "      <td>000100039X</td>\n",
       "      <td>[prophet, kahlil, gibran, thirty, years, ago, ...</td>\n",
       "      <td>{'gibrans': 'gibran'}</td>\n",
       "    </tr>\n",
       "    <tr>\n",
       "      <th>2</th>\n",
       "      <td>A1NPNGWBVD9AK3</td>\n",
       "      <td>000100039X</td>\n",
       "      <td>[first, books, recall, collection, gibran, see...</td>\n",
       "      <td>{'gibrans': 'gibran'}</td>\n",
       "    </tr>\n",
       "    <tr>\n",
       "      <th>3</th>\n",
       "      <td>A3IS4WGMFR4X65</td>\n",
       "      <td>000100039X</td>\n",
       "      <td>[prophet, kahlil, work, world, million, copies...</td>\n",
       "      <td>{'gibrans': 'gibran'}</td>\n",
       "    </tr>\n",
       "    <tr>\n",
       "      <th>4</th>\n",
       "      <td>AWLFVCT9128JV</td>\n",
       "      <td>000100039X</td>\n",
       "      <td>[gibran, khalil, gibran, born, onethousand, no...</td>\n",
       "      <td>{'gibrans': 'gibran'}</td>\n",
       "    </tr>\n",
       "  </tbody>\n",
       "</table>\n",
       "</div>"
      ],
      "text/plain": [
       "           userId        asin  \\\n",
       "0  A2XQ5LZHTD4AFT  000100039X   \n",
       "1   AF7CSSGV93RXN  000100039X   \n",
       "2  A1NPNGWBVD9AK3  000100039X   \n",
       "3  A3IS4WGMFR4X65  000100039X   \n",
       "4   AWLFVCT9128JV  000100039X   \n",
       "\n",
       "                                          reviewText                synDict  \n",
       "0  [timeless, gibran, backs, content, means, cent...  {'gibrans': 'gibran'}  \n",
       "1  [prophet, kahlil, gibran, thirty, years, ago, ...  {'gibrans': 'gibran'}  \n",
       "2  [first, books, recall, collection, gibran, see...  {'gibrans': 'gibran'}  \n",
       "3  [prophet, kahlil, work, world, million, copies...  {'gibrans': 'gibran'}  \n",
       "4  [gibran, khalil, gibran, born, onethousand, no...  {'gibrans': 'gibran'}  "
      ]
     },
     "execution_count": 34,
     "metadata": {},
     "output_type": "execute_result"
    }
   ],
   "source": [
    "df_final.columns = ['userId','asin', 'reviewText', 'synDict']\n",
    "df_final.head()"
   ]
  },
  {
   "cell_type": "code",
   "execution_count": 35,
   "metadata": {
    "collapsed": true,
    "jupyter": {
     "outputs_hidden": true
    }
   },
   "outputs": [],
   "source": [
    "df_final = df_final.drop(columns=['synDict'])"
   ]
  },
  {
   "cell_type": "code",
   "execution_count": 36,
   "metadata": {},
   "outputs": [
    {
     "data": {
      "text/html": [
       "<div>\n",
       "<style scoped>\n",
       "    .dataframe tbody tr th:only-of-type {\n",
       "        vertical-align: middle;\n",
       "    }\n",
       "\n",
       "    .dataframe tbody tr th {\n",
       "        vertical-align: top;\n",
       "    }\n",
       "\n",
       "    .dataframe thead th {\n",
       "        text-align: right;\n",
       "    }\n",
       "</style>\n",
       "<table border=\"1\" class=\"dataframe\">\n",
       "  <thead>\n",
       "    <tr style=\"text-align: right;\">\n",
       "      <th></th>\n",
       "      <th>userId</th>\n",
       "      <th>asin</th>\n",
       "      <th>reviewText</th>\n",
       "    </tr>\n",
       "  </thead>\n",
       "  <tbody>\n",
       "    <tr>\n",
       "      <th>0</th>\n",
       "      <td>A2XQ5LZHTD4AFT</td>\n",
       "      <td>000100039X</td>\n",
       "      <td>[timeless, gibran, backs, content, means, cent...</td>\n",
       "    </tr>\n",
       "    <tr>\n",
       "      <th>1</th>\n",
       "      <td>AF7CSSGV93RXN</td>\n",
       "      <td>000100039X</td>\n",
       "      <td>[prophet, kahlil, gibran, thirty, years, ago, ...</td>\n",
       "    </tr>\n",
       "    <tr>\n",
       "      <th>2</th>\n",
       "      <td>A1NPNGWBVD9AK3</td>\n",
       "      <td>000100039X</td>\n",
       "      <td>[first, books, recall, collection, gibran, see...</td>\n",
       "    </tr>\n",
       "    <tr>\n",
       "      <th>3</th>\n",
       "      <td>A3IS4WGMFR4X65</td>\n",
       "      <td>000100039X</td>\n",
       "      <td>[prophet, kahlil, work, world, million, copies...</td>\n",
       "    </tr>\n",
       "    <tr>\n",
       "      <th>4</th>\n",
       "      <td>AWLFVCT9128JV</td>\n",
       "      <td>000100039X</td>\n",
       "      <td>[gibran, khalil, gibran, born, onethousand, no...</td>\n",
       "    </tr>\n",
       "  </tbody>\n",
       "</table>\n",
       "</div>"
      ],
      "text/plain": [
       "           userId        asin  \\\n",
       "0  A2XQ5LZHTD4AFT  000100039X   \n",
       "1   AF7CSSGV93RXN  000100039X   \n",
       "2  A1NPNGWBVD9AK3  000100039X   \n",
       "3  A3IS4WGMFR4X65  000100039X   \n",
       "4   AWLFVCT9128JV  000100039X   \n",
       "\n",
       "                                          reviewText  \n",
       "0  [timeless, gibran, backs, content, means, cent...  \n",
       "1  [prophet, kahlil, gibran, thirty, years, ago, ...  \n",
       "2  [first, books, recall, collection, gibran, see...  \n",
       "3  [prophet, kahlil, work, world, million, copies...  \n",
       "4  [gibran, khalil, gibran, born, onethousand, no...  "
      ]
     },
     "execution_count": 36,
     "metadata": {},
     "output_type": "execute_result"
    }
   ],
   "source": [
    "df_final.head()"
   ]
  },
  {
   "cell_type": "code",
   "execution_count": 37,
   "metadata": {
    "collapsed": true,
    "jupyter": {
     "outputs_hidden": true
    }
   },
   "outputs": [],
   "source": [
    "df_final.to_csv(\"../data/interim/004_synonyms_grouped_1k.csv\", sep='\\t', header=True, index=False);"
   ]
  },
  {
   "cell_type": "code",
   "execution_count": 38,
   "metadata": {
    "collapsed": true,
    "jupyter": {
     "outputs_hidden": true
    }
   },
   "outputs": [],
   "source": [
    "df_final.to_pickle(\"../data/interim/004_synonyms_grouped_1k.p\")"
   ]
  },
  {
   "cell_type": "code",
   "execution_count": 39,
   "metadata": {
    "collapsed": true,
    "jupyter": {
     "outputs_hidden": true
    }
   },
   "outputs": [],
   "source": [
    "# END OF FILE"
   ]
  }
 ],
 "metadata": {
  "kernelspec": {
   "display_name": "Python 3",
   "language": "python",
   "name": "python3"
  },
  "language_info": {
   "codemirror_mode": {
    "name": "ipython",
    "version": 3
   },
   "file_extension": ".py",
   "mimetype": "text/x-python",
   "name": "python",
   "nbconvert_exporter": "python",
   "pygments_lexer": "ipython3",
   "version": "3.6.7"
  }
 },
 "nbformat": 4,
 "nbformat_minor": 4
}
