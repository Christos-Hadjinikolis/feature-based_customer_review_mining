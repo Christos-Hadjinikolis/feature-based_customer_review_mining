{
 "cells": [
  {
   "cell_type": "markdown",
   "metadata": {},
   "source": [
    "# Grouping Domain Synonyms\n",
    "This note book is used for identifying and grouping domain synonyms in book reviews for each book. The approach relies on creating an `nltk.context` per book which will be used to compare only nouns. Nouns that appear to have a highly similar context, will be grouped together under the same name (either the one's or the other's). "
   ]
  },
  {
   "cell_type": "code",
   "execution_count": 1,
   "metadata": {
    "collapsed": true,
    "jupyter": {
     "outputs_hidden": true
    }
   },
   "outputs": [],
   "source": [
    "# For monitoring duration of pandas processes\n",
    "from tqdm import tqdm, tqdm_pandas\n",
    "\n",
    "# To avoid RuntimeError: Set changed size during iteration\n",
    "tqdm.monitor_interval = 0\n",
    "\n",
    "# Register `pandas.progress_apply` and `pandas.Series.map_apply` with `tqdm`\n",
    "# (can use `tqdm_gui`, `tqdm_notebook`, optional kwargs, etc.)\n",
    "tqdm.pandas(desc=\"Progress:\")\n",
    "\n",
    "# Now you can use `progress_apply` instead of `apply`\n",
    "# and `progress_map` instead of `map`\n",
    "# can also groupby:\n",
    "# df.groupby(0).progress_apply(lambda x: x**2)"
   ]
  },
  {
   "cell_type": "code",
   "execution_count": 2,
   "metadata": {},
   "outputs": [
    {
     "data": {
      "text/html": [
       "<div>\n",
       "<style scoped>\n",
       "    .dataframe tbody tr th:only-of-type {\n",
       "        vertical-align: middle;\n",
       "    }\n",
       "\n",
       "    .dataframe tbody tr th {\n",
       "        vertical-align: top;\n",
       "    }\n",
       "\n",
       "    .dataframe thead th {\n",
       "        text-align: right;\n",
       "    }\n",
       "</style>\n",
       "<table border=\"1\" class=\"dataframe\">\n",
       "  <thead>\n",
       "    <tr style=\"text-align: right;\">\n",
       "      <th></th>\n",
       "      <th>uniqueKey</th>\n",
       "      <th>reviewText</th>\n",
       "    </tr>\n",
       "  </thead>\n",
       "  <tbody>\n",
       "    <tr>\n",
       "      <th>0</th>\n",
       "      <td>A2XQ5LZHTD4AFT##000100039X</td>\n",
       "      <td>['timeless', ' gibran', ' backs', ' content', ...</td>\n",
       "    </tr>\n",
       "    <tr>\n",
       "      <th>1</th>\n",
       "      <td>AF7CSSGV93RXN##000100039X</td>\n",
       "      <td>[' prophet', ' kahlil', ' gibran', ' thirty', ...</td>\n",
       "    </tr>\n",
       "    <tr>\n",
       "      <th>2</th>\n",
       "      <td>A1NPNGWBVD9AK3##000100039X</td>\n",
       "      <td>[' first', ' books', ' recall', ' collection',...</td>\n",
       "    </tr>\n",
       "    <tr>\n",
       "      <th>3</th>\n",
       "      <td>A3IS4WGMFR4X65##000100039X</td>\n",
       "      <td>['prophet', ' kahlil', ' work', ' world', ' mi...</td>\n",
       "    </tr>\n",
       "    <tr>\n",
       "      <th>4</th>\n",
       "      <td>AWLFVCT9128JV##000100039X</td>\n",
       "      <td>['gibran', ' khalil', ' gibran', ' born', ' on...</td>\n",
       "    </tr>\n",
       "  </tbody>\n",
       "</table>\n",
       "</div>"
      ],
      "text/plain": [
       "                    uniqueKey  \\\n",
       "0  A2XQ5LZHTD4AFT##000100039X   \n",
       "1   AF7CSSGV93RXN##000100039X   \n",
       "2  A1NPNGWBVD9AK3##000100039X   \n",
       "3  A3IS4WGMFR4X65##000100039X   \n",
       "4   AWLFVCT9128JV##000100039X   \n",
       "\n",
       "                                          reviewText  \n",
       "0  ['timeless', ' gibran', ' backs', ' content', ...  \n",
       "1  [' prophet', ' kahlil', ' gibran', ' thirty', ...  \n",
       "2  [' first', ' books', ' recall', ' collection',...  \n",
       "3  ['prophet', ' kahlil', ' work', ' world', ' mi...  \n",
       "4  ['gibran', ' khalil', ' gibran', ' born', ' on...  "
      ]
     },
     "execution_count": 2,
     "metadata": {},
     "output_type": "execute_result"
    }
   ],
   "source": [
    "import pandas as pd\n",
    "df0 = pd.read_csv(\"../data/interim/002_keyed_nouns.csv\", sep=\"\\t\", low_memory=False)\n",
    "df0.head()"
   ]
  },
  {
   "cell_type": "markdown",
   "metadata": {},
   "source": [
    "Convert back to a string list."
   ]
  },
  {
   "cell_type": "code",
   "execution_count": 3,
   "metadata": {},
   "outputs": [
    {
     "name": "stderr",
     "output_type": "stream",
     "text": [
      "Progress:: 100%|██████████| 582711/582711 [00:10<00:00, 57162.29it/s]\n"
     ]
    },
    {
     "data": {
      "text/plain": [
       "0    [timeless,   gibran,   backs,   content,   mea...\n",
       "1    [ prophet,   kahlil,   gibran,   thirty,   yea...\n",
       "2    [ first,   books,   recall,   collection,   gi...\n",
       "3    [prophet,   kahlil,   work,   world,   million...\n",
       "4    [gibran,   khalil,   gibran,   born,   one tho...\n",
       "Name: reviewText, dtype: object"
      ]
     },
     "execution_count": 3,
     "metadata": {},
     "output_type": "execute_result"
    }
   ],
   "source": [
    "def convert_text_to_list(review):\n",
    "    return review.replace(\"[\",\"\").replace(\"]\",\"\").replace(\"'\",\"\").replace(\"\\t\",\"\").split(\",\")\n",
    "\n",
    "# Convert \"reviewText\" field to back to list\n",
    "df0['reviewText'] = df0['reviewText'].astype(str)\n",
    "df0['reviewText'] = df0['reviewText'].progress_apply(lambda text: convert_text_to_list(text));\n",
    "df0['reviewText'].head()"
   ]
  },
  {
   "cell_type": "markdown",
   "metadata": {},
   "source": [
    "Split unique key to `asin` and `unserId`."
   ]
  },
  {
   "cell_type": "code",
   "execution_count": 4,
   "metadata": {},
   "outputs": [
    {
     "data": {
      "text/html": [
       "<div>\n",
       "<style scoped>\n",
       "    .dataframe tbody tr th:only-of-type {\n",
       "        vertical-align: middle;\n",
       "    }\n",
       "\n",
       "    .dataframe tbody tr th {\n",
       "        vertical-align: top;\n",
       "    }\n",
       "\n",
       "    .dataframe thead th {\n",
       "        text-align: right;\n",
       "    }\n",
       "</style>\n",
       "<table border=\"1\" class=\"dataframe\">\n",
       "  <thead>\n",
       "    <tr style=\"text-align: right;\">\n",
       "      <th></th>\n",
       "      <th>userId</th>\n",
       "      <th>asin</th>\n",
       "    </tr>\n",
       "  </thead>\n",
       "  <tbody>\n",
       "    <tr>\n",
       "      <th>0</th>\n",
       "      <td>A2XQ5LZHTD4AFT</td>\n",
       "      <td>000100039X</td>\n",
       "    </tr>\n",
       "    <tr>\n",
       "      <th>1</th>\n",
       "      <td>AF7CSSGV93RXN</td>\n",
       "      <td>000100039X</td>\n",
       "    </tr>\n",
       "    <tr>\n",
       "      <th>2</th>\n",
       "      <td>A1NPNGWBVD9AK3</td>\n",
       "      <td>000100039X</td>\n",
       "    </tr>\n",
       "    <tr>\n",
       "      <th>3</th>\n",
       "      <td>A3IS4WGMFR4X65</td>\n",
       "      <td>000100039X</td>\n",
       "    </tr>\n",
       "    <tr>\n",
       "      <th>4</th>\n",
       "      <td>AWLFVCT9128JV</td>\n",
       "      <td>000100039X</td>\n",
       "    </tr>\n",
       "  </tbody>\n",
       "</table>\n",
       "</div>"
      ],
      "text/plain": [
       "           userId        asin\n",
       "0  A2XQ5LZHTD4AFT  000100039X\n",
       "1   AF7CSSGV93RXN  000100039X\n",
       "2  A1NPNGWBVD9AK3  000100039X\n",
       "3  A3IS4WGMFR4X65  000100039X\n",
       "4   AWLFVCT9128JV  000100039X"
      ]
     },
     "execution_count": 4,
     "metadata": {},
     "output_type": "execute_result"
    }
   ],
   "source": [
    "df1 = pd.DataFrame(df0.uniqueKey.str.split('##',1).tolist(),columns = ['userId','asin'])\n",
    "df1.head()"
   ]
  },
  {
   "cell_type": "code",
   "execution_count": 5,
   "metadata": {},
   "outputs": [
    {
     "data": {
      "text/html": [
       "<div>\n",
       "<style scoped>\n",
       "    .dataframe tbody tr th:only-of-type {\n",
       "        vertical-align: middle;\n",
       "    }\n",
       "\n",
       "    .dataframe tbody tr th {\n",
       "        vertical-align: top;\n",
       "    }\n",
       "\n",
       "    .dataframe thead th {\n",
       "        text-align: right;\n",
       "    }\n",
       "</style>\n",
       "<table border=\"1\" class=\"dataframe\">\n",
       "  <thead>\n",
       "    <tr style=\"text-align: right;\">\n",
       "      <th></th>\n",
       "      <th>reviewText</th>\n",
       "    </tr>\n",
       "  </thead>\n",
       "  <tbody>\n",
       "    <tr>\n",
       "      <th>0</th>\n",
       "      <td>[timeless,   gibran,   backs,   content,   mea...</td>\n",
       "    </tr>\n",
       "    <tr>\n",
       "      <th>1</th>\n",
       "      <td>[ prophet,   kahlil,   gibran,   thirty,   yea...</td>\n",
       "    </tr>\n",
       "    <tr>\n",
       "      <th>2</th>\n",
       "      <td>[ first,   books,   recall,   collection,   gi...</td>\n",
       "    </tr>\n",
       "    <tr>\n",
       "      <th>3</th>\n",
       "      <td>[prophet,   kahlil,   work,   world,   million...</td>\n",
       "    </tr>\n",
       "    <tr>\n",
       "      <th>4</th>\n",
       "      <td>[gibran,   khalil,   gibran,   born,   one tho...</td>\n",
       "    </tr>\n",
       "  </tbody>\n",
       "</table>\n",
       "</div>"
      ],
      "text/plain": [
       "                                          reviewText\n",
       "0  [timeless,   gibran,   backs,   content,   mea...\n",
       "1  [ prophet,   kahlil,   gibran,   thirty,   yea...\n",
       "2  [ first,   books,   recall,   collection,   gi...\n",
       "3  [prophet,   kahlil,   work,   world,   million...\n",
       "4  [gibran,   khalil,   gibran,   born,   one tho..."
      ]
     },
     "execution_count": 5,
     "metadata": {},
     "output_type": "execute_result"
    }
   ],
   "source": [
    "df_reviewText = pd.DataFrame(df0['reviewText'])\n",
    "df_reviewText.head()"
   ]
  },
  {
   "cell_type": "markdown",
   "metadata": {},
   "source": [
    "Create new dataframe with `userId`, `asin` and `reviewText`."
   ]
  },
  {
   "cell_type": "code",
   "execution_count": 6,
   "metadata": {
    "collapsed": true,
    "jupyter": {
     "outputs_hidden": true
    }
   },
   "outputs": [],
   "source": [
    "df_new = pd.concat([df1, df_reviewText], axis=1)"
   ]
  },
  {
   "cell_type": "code",
   "execution_count": 7,
   "metadata": {},
   "outputs": [
    {
     "data": {
      "text/html": [
       "<div>\n",
       "<style scoped>\n",
       "    .dataframe tbody tr th:only-of-type {\n",
       "        vertical-align: middle;\n",
       "    }\n",
       "\n",
       "    .dataframe tbody tr th {\n",
       "        vertical-align: top;\n",
       "    }\n",
       "\n",
       "    .dataframe thead th {\n",
       "        text-align: right;\n",
       "    }\n",
       "</style>\n",
       "<table border=\"1\" class=\"dataframe\">\n",
       "  <thead>\n",
       "    <tr style=\"text-align: right;\">\n",
       "      <th></th>\n",
       "      <th>userId</th>\n",
       "      <th>asin</th>\n",
       "      <th>reviewText</th>\n",
       "    </tr>\n",
       "  </thead>\n",
       "  <tbody>\n",
       "    <tr>\n",
       "      <th>0</th>\n",
       "      <td>A2XQ5LZHTD4AFT</td>\n",
       "      <td>000100039X</td>\n",
       "      <td>[timeless,   gibran,   backs,   content,   mea...</td>\n",
       "    </tr>\n",
       "    <tr>\n",
       "      <th>1</th>\n",
       "      <td>AF7CSSGV93RXN</td>\n",
       "      <td>000100039X</td>\n",
       "      <td>[ prophet,   kahlil,   gibran,   thirty,   yea...</td>\n",
       "    </tr>\n",
       "    <tr>\n",
       "      <th>2</th>\n",
       "      <td>A1NPNGWBVD9AK3</td>\n",
       "      <td>000100039X</td>\n",
       "      <td>[ first,   books,   recall,   collection,   gi...</td>\n",
       "    </tr>\n",
       "    <tr>\n",
       "      <th>3</th>\n",
       "      <td>A3IS4WGMFR4X65</td>\n",
       "      <td>000100039X</td>\n",
       "      <td>[prophet,   kahlil,   work,   world,   million...</td>\n",
       "    </tr>\n",
       "    <tr>\n",
       "      <th>4</th>\n",
       "      <td>AWLFVCT9128JV</td>\n",
       "      <td>000100039X</td>\n",
       "      <td>[gibran,   khalil,   gibran,   born,   one tho...</td>\n",
       "    </tr>\n",
       "  </tbody>\n",
       "</table>\n",
       "</div>"
      ],
      "text/plain": [
       "           userId        asin  \\\n",
       "0  A2XQ5LZHTD4AFT  000100039X   \n",
       "1   AF7CSSGV93RXN  000100039X   \n",
       "2  A1NPNGWBVD9AK3  000100039X   \n",
       "3  A3IS4WGMFR4X65  000100039X   \n",
       "4   AWLFVCT9128JV  000100039X   \n",
       "\n",
       "                                          reviewText  \n",
       "0  [timeless,   gibran,   backs,   content,   mea...  \n",
       "1  [ prophet,   kahlil,   gibran,   thirty,   yea...  \n",
       "2  [ first,   books,   recall,   collection,   gi...  \n",
       "3  [prophet,   kahlil,   work,   world,   million...  \n",
       "4  [gibran,   khalil,   gibran,   born,   one tho...  "
      ]
     },
     "execution_count": 7,
     "metadata": {},
     "output_type": "execute_result"
    }
   ],
   "source": [
    "df_new.head()"
   ]
  },
  {
   "cell_type": "markdown",
   "metadata": {},
   "source": [
    "Drop `userId` and groupby the same book."
   ]
  },
  {
   "cell_type": "code",
   "execution_count": 8,
   "metadata": {
    "collapsed": true,
    "jupyter": {
     "outputs_hidden": true
    }
   },
   "outputs": [],
   "source": [
    "df_books = df_new.drop(columns=['userId'])"
   ]
  },
  {
   "cell_type": "code",
   "execution_count": 9,
   "metadata": {},
   "outputs": [
    {
     "name": "stderr",
     "output_type": "stream",
     "text": [
      "Progress:: 100%|█████████▉| 59324/59325 [00:05<00:00, 10588.68it/s]\n"
     ]
    }
   ],
   "source": [
    "df_books_bigReviews = df_books.groupby(['asin'])['reviewText'].progress_apply(list)"
   ]
  },
  {
   "cell_type": "code",
   "execution_count": 10,
   "metadata": {},
   "outputs": [
    {
     "data": {
      "text/html": [
       "<div>\n",
       "<style scoped>\n",
       "    .dataframe tbody tr th:only-of-type {\n",
       "        vertical-align: middle;\n",
       "    }\n",
       "\n",
       "    .dataframe tbody tr th {\n",
       "        vertical-align: top;\n",
       "    }\n",
       "\n",
       "    .dataframe thead th {\n",
       "        text-align: right;\n",
       "    }\n",
       "</style>\n",
       "<table border=\"1\" class=\"dataframe\">\n",
       "  <thead>\n",
       "    <tr style=\"text-align: right;\">\n",
       "      <th></th>\n",
       "      <th>asin</th>\n",
       "      <th>reviewText</th>\n",
       "    </tr>\n",
       "  </thead>\n",
       "  <tbody>\n",
       "    <tr>\n",
       "      <th>0</th>\n",
       "      <td>000100039X</td>\n",
       "      <td>[[timeless,   gibran,   backs,   content,   me...</td>\n",
       "    </tr>\n",
       "    <tr>\n",
       "      <th>1</th>\n",
       "      <td>0002051850</td>\n",
       "      <td>[[ book,   takes,   civil,   war,   descriptio...</td>\n",
       "    </tr>\n",
       "    <tr>\n",
       "      <th>2</th>\n",
       "      <td>0002113570</td>\n",
       "      <td>[[ book,   great,   woman,   done,   great,   ...</td>\n",
       "    </tr>\n",
       "    <tr>\n",
       "      <th>3</th>\n",
       "      <td>0002117088</td>\n",
       "      <td>[[ renoir,   father,   quot,   bedside,   surg...</td>\n",
       "    </tr>\n",
       "    <tr>\n",
       "      <th>4</th>\n",
       "      <td>000215725X</td>\n",
       "      <td>[[ dalrymple,   great,   apetite,   context,  ...</td>\n",
       "    </tr>\n",
       "  </tbody>\n",
       "</table>\n",
       "</div>"
      ],
      "text/plain": [
       "         asin                                         reviewText\n",
       "0  000100039X  [[timeless,   gibran,   backs,   content,   me...\n",
       "1  0002051850  [[ book,   takes,   civil,   war,   descriptio...\n",
       "2  0002113570  [[ book,   great,   woman,   done,   great,   ...\n",
       "3  0002117088  [[ renoir,   father,   quot,   bedside,   surg...\n",
       "4  000215725X  [[ dalrymple,   great,   apetite,   context,  ..."
      ]
     },
     "execution_count": 10,
     "metadata": {},
     "output_type": "execute_result"
    }
   ],
   "source": [
    "df_books_bigReviews_df = pd.DataFrame(df_books_bigReviews).reset_index()\n",
    "df_books_bigReviews_df.head()"
   ]
  },
  {
   "cell_type": "code",
   "execution_count": 11,
   "metadata": {
    "collapsed": true,
    "jupyter": {
     "outputs_hidden": true
    }
   },
   "outputs": [],
   "source": [
    "def merge_list(reviewsList):\n",
    "    new_list = []\n",
    "    for review in reviewsList:\n",
    "        new_list = new_list + review\n",
    "    return list(set(new_list))"
   ]
  },
  {
   "cell_type": "code",
   "execution_count": 12,
   "metadata": {},
   "outputs": [
    {
     "name": "stderr",
     "output_type": "stream",
     "text": [
      "Progress:: 100%|██████████| 59324/59324 [00:04<00:00, 11900.50it/s]\n"
     ]
    },
    {
     "data": {
      "text/plain": [
       "asin\n",
       "000100039X    [  earlier,   attention,   melody,   came,   n...\n",
       "0002051850    [  beer,   jordon,   italy,   quot,   lean,   ...\n",
       "0002113570    [  level,   actions,   attention,   work,   su...\n",
       "0002117088    [  rough,   image,   index,   none,   quot,   ...\n",
       "000215725X    [  alive,   interviews,   gather,   introduces...\n",
       "Name: reviewText, dtype: object"
      ]
     },
     "execution_count": 12,
     "metadata": {},
     "output_type": "execute_result"
    }
   ],
   "source": [
    "df_books_bigReviews_single_list_df = df_books_bigReviews.progress_apply(lambda reviewsList: merge_list(reviewsList))\n",
    "df_books_bigReviews_single_list_df.head()"
   ]
  },
  {
   "cell_type": "code",
   "execution_count": 13,
   "metadata": {},
   "outputs": [
    {
     "data": {
      "text/html": [
       "<div>\n",
       "<style scoped>\n",
       "    .dataframe tbody tr th:only-of-type {\n",
       "        vertical-align: middle;\n",
       "    }\n",
       "\n",
       "    .dataframe tbody tr th {\n",
       "        vertical-align: top;\n",
       "    }\n",
       "\n",
       "    .dataframe thead th {\n",
       "        text-align: right;\n",
       "    }\n",
       "</style>\n",
       "<table border=\"1\" class=\"dataframe\">\n",
       "  <thead>\n",
       "    <tr style=\"text-align: right;\">\n",
       "      <th></th>\n",
       "      <th>asin</th>\n",
       "      <th>reviewText</th>\n",
       "    </tr>\n",
       "  </thead>\n",
       "  <tbody>\n",
       "    <tr>\n",
       "      <th>0</th>\n",
       "      <td>000100039X</td>\n",
       "      <td>[  earlier,   attention,   melody,   came,   n...</td>\n",
       "    </tr>\n",
       "    <tr>\n",
       "      <th>1</th>\n",
       "      <td>0002051850</td>\n",
       "      <td>[  beer,   jordon,   italy,   quot,   lean,   ...</td>\n",
       "    </tr>\n",
       "    <tr>\n",
       "      <th>2</th>\n",
       "      <td>0002113570</td>\n",
       "      <td>[  level,   actions,   attention,   work,   su...</td>\n",
       "    </tr>\n",
       "    <tr>\n",
       "      <th>3</th>\n",
       "      <td>0002117088</td>\n",
       "      <td>[  rough,   image,   index,   none,   quot,   ...</td>\n",
       "    </tr>\n",
       "    <tr>\n",
       "      <th>4</th>\n",
       "      <td>000215725X</td>\n",
       "      <td>[  alive,   interviews,   gather,   introduces...</td>\n",
       "    </tr>\n",
       "  </tbody>\n",
       "</table>\n",
       "</div>"
      ],
      "text/plain": [
       "         asin                                         reviewText\n",
       "0  000100039X  [  earlier,   attention,   melody,   came,   n...\n",
       "1  0002051850  [  beer,   jordon,   italy,   quot,   lean,   ...\n",
       "2  0002113570  [  level,   actions,   attention,   work,   su...\n",
       "3  0002117088  [  rough,   image,   index,   none,   quot,   ...\n",
       "4  000215725X  [  alive,   interviews,   gather,   introduces..."
      ]
     },
     "execution_count": 13,
     "metadata": {},
     "output_type": "execute_result"
    }
   ],
   "source": [
    "df_books_vs_bigreviews = pd.DataFrame(df_books_bigReviews_single_list_df).reset_index()\n",
    "df_books_vs_bigreviews.head()"
   ]
  },
  {
   "cell_type": "code",
   "execution_count": 14,
   "metadata": {
    "collapsed": true,
    "jupyter": {
     "outputs_hidden": true
    }
   },
   "outputs": [],
   "source": [
    "df2 = df_books_vs_bigreviews"
   ]
  },
  {
   "cell_type": "code",
   "execution_count": 15,
   "metadata": {},
   "outputs": [
    {
     "data": {
      "text/plain": [
       "977"
      ]
     },
     "execution_count": 15,
     "metadata": {},
     "output_type": "execute_result"
    }
   ],
   "source": [
    "len(df2.reviewText[0])"
   ]
  },
  {
   "cell_type": "code",
   "execution_count": 18,
   "metadata": {
    "jupyter": {
     "outputs_hidden": true
    }
   },
   "outputs": [
    {
     "name": "stderr",
     "output_type": "stream",
     "text": [
      "[nltk_data] Downloading package wordnet to\n",
      "[nltk_data]     /Users/chadjinik/nltk_data...\n",
      "[nltk_data]   Unzipping corpora/wordnet.zip.\n"
     ]
    }
   ],
   "source": [
    "import nltk\n",
    "nltk.download('wordnet')\n",
    "from nltk.corpus import wordnet as wn\n",
    "from itertools import product\n",
    "\n",
    "def get_synonyms_dict(bigReview, theta):\n",
    "    \n",
    "    synonyms = {}\n",
    "    \n",
    "    for i in range(len(bigReview)):\n",
    "        wordx = bigReview[i]\n",
    "        for j in range(i,len(bigReview)):\n",
    "            wordy = bigReview[j]\n",
    "            \n",
    "            # don't compare with the same word\n",
    "            if(wordx == wordy):\n",
    "                continue\n",
    "            \n",
    "            sem1, sem2 = wn.synsets(wordx), wn.synsets(wordy)\n",
    "            prod = list(product(*[sem1,sem2]))\n",
    "            \n",
    "            maxscore = 0.0\n",
    "            for k,l in prod:\n",
    "                score = k.wup_similarity(l) # Wu-Palmer Similarity\n",
    "                if score is not None:\n",
    "                    if maxscore < score:\n",
    "                        maxscore = score\n",
    "            \n",
    "            if maxscore > theta and wordy not in synonyms:\n",
    "                synonyms[wordx] = wordy\n",
    "    return synonyms"
   ]
  },
  {
   "cell_type": "markdown",
   "metadata": {},
   "source": [
    "From this point onwards computation needs increase dramatically, so I will reduce the dataset I am using to just keep in 1000/59324 books. "
   ]
  },
  {
   "cell_type": "code",
   "execution_count": null,
   "metadata": {},
   "outputs": [
    {
     "name": "stderr",
     "output_type": "stream",
     "text": [
      "\n",
      "Progress::   0%|          | 0/1000 [00:00<?, ?it/s]\u001b[A\n",
      "Progress::   0%|          | 2/1000 [00:11<1:33:55,  5.65s/it]\u001b[A\n",
      "Progress::   0%|          | 3/1000 [00:36<3:10:58, 11.49s/it]\u001b[A\n",
      "Progress::   0%|          | 4/1000 [00:36<2:15:09,  8.14s/it]\u001b[A\n",
      "Progress::   0%|          | 5/1000 [00:37<1:36:07,  5.80s/it]\u001b[A\n",
      "Progress::   1%|          | 6/1000 [00:41<1:28:24,  5.34s/it]\u001b[A\n",
      "Progress::   1%|          | 7/1000 [00:49<1:40:48,  6.09s/it]\u001b[A\n",
      "Progress::   1%|          | 8/1000 [00:51<1:19:49,  4.83s/it]\u001b[A\n",
      "Progress::   1%|          | 9/1000 [00:52<1:01:30,  3.72s/it]\u001b[A\n",
      "Progress::   1%|          | 10/1000 [01:20<3:01:05, 10.98s/it]\u001b[A\n",
      "Progress::   1%|          | 11/1000 [01:24<2:29:37,  9.08s/it]\u001b[A\n",
      "Progress::   1%|          | 12/1000 [01:26<1:54:56,  6.98s/it]\u001b[A\n",
      "Progress::   1%|▏         | 13/1000 [01:27<1:24:46,  5.15s/it]\u001b[A\n",
      "Progress::   1%|▏         | 14/1000 [01:28<1:00:53,  3.71s/it]\u001b[A\n",
      "Progress::   2%|▏         | 15/1000 [01:28<45:18,  2.76s/it]  \u001b[A\n",
      "Progress::   2%|▏         | 16/1000 [01:44<1:47:51,  6.58s/it]\u001b[A\n",
      "Progress::   2%|▏         | 17/1000 [01:46<1:29:12,  5.44s/it]\u001b[A\n",
      "Progress::   2%|▏         | 18/1000 [01:47<1:03:27,  3.88s/it]\u001b[A\n",
      "Progress::   2%|▏         | 19/1000 [01:47<47:44,  2.92s/it]  \u001b[A\n",
      "Progress::   2%|▏         | 20/1000 [01:57<1:19:48,  4.89s/it]\u001b[A\n",
      "Progress::   2%|▏         | 21/1000 [01:57<58:42,  3.60s/it]  \u001b[A\n",
      "Progress::   2%|▏         | 22/1000 [02:03<1:10:01,  4.30s/it]\u001b[A\n",
      "Progress::   2%|▏         | 23/1000 [02:06<1:01:29,  3.78s/it]\u001b[A\n",
      "Progress::   2%|▏         | 24/1000 [02:07<48:31,  2.98s/it]  \u001b[A\n",
      "Progress::   2%|▎         | 25/1000 [02:08<37:54,  2.33s/it]\u001b[A\n",
      "Progress::   3%|▎         | 26/1000 [02:08<28:18,  1.74s/it]\u001b[A\n",
      "Progress::   3%|▎         | 27/1000 [02:09<23:58,  1.48s/it]\u001b[A\n",
      "Progress::   3%|▎         | 28/1000 [02:10<19:58,  1.23s/it]\u001b[A\n",
      "Progress::   3%|▎         | 29/1000 [02:11<19:02,  1.18s/it]\u001b[A\n",
      "Progress::   3%|▎         | 30/1000 [02:12<17:20,  1.07s/it]\u001b[A\n",
      "Progress::   3%|▎         | 31/1000 [02:13<19:48,  1.23s/it]\u001b[A\n",
      "Progress::   3%|▎         | 32/1000 [02:20<46:50,  2.90s/it]\u001b[A\n",
      "Progress::   3%|▎         | 33/1000 [02:23<48:16,  2.99s/it]\u001b[A\n",
      "Progress::   3%|▎         | 34/1000 [02:25<40:07,  2.49s/it]\u001b[A\n",
      "Progress::   4%|▎         | 35/1000 [02:32<1:06:29,  4.13s/it]\u001b[A\n",
      "Progress::   4%|▎         | 36/1000 [02:36<1:02:38,  3.90s/it]\u001b[A\n",
      "Progress::   4%|▎         | 37/1000 [02:41<1:07:53,  4.23s/it]\u001b[A\n",
      "Progress::   4%|▍         | 38/1000 [02:41<48:17,  3.01s/it]  \u001b[A\n",
      "Progress::   4%|▍         | 39/1000 [02:58<1:57:43,  7.35s/it]\u001b[A\n",
      "Progress::   4%|▍         | 40/1000 [03:00<1:29:51,  5.62s/it]\u001b[A\n",
      "Progress::   4%|▍         | 41/1000 [03:00<1:03:19,  3.96s/it]\u001b[A\n",
      "Progress::   4%|▍         | 42/1000 [03:02<53:24,  3.34s/it]  \u001b[A\n",
      "Progress::   4%|▍         | 43/1000 [03:04<45:49,  2.87s/it]\u001b[A\n",
      "Progress::   4%|▍         | 44/1000 [03:08<53:24,  3.35s/it]\u001b[A\n",
      "Progress::   4%|▍         | 45/1000 [03:12<55:23,  3.48s/it]\u001b[A\n",
      "Progress::   5%|▍         | 46/1000 [03:13<41:36,  2.62s/it]\u001b[A\n",
      "Progress::   5%|▍         | 47/1000 [03:15<38:03,  2.40s/it]\u001b[A\n",
      "Progress::   5%|▍         | 48/1000 [03:15<29:20,  1.85s/it]\u001b[A\n",
      "Progress::   5%|▍         | 49/1000 [03:21<46:06,  2.91s/it]\u001b[A\n",
      "Progress::   5%|▌         | 50/1000 [03:22<40:18,  2.55s/it]\u001b[A\n",
      "Progress::   5%|▌         | 51/1000 [03:28<54:05,  3.42s/it]\u001b[A\n",
      "Progress::   5%|▌         | 52/1000 [03:30<49:02,  3.10s/it]\u001b[A\n",
      "Progress::   5%|▌         | 53/1000 [03:30<36:00,  2.28s/it]\u001b[A\n",
      "Progress::   5%|▌         | 54/1000 [03:34<44:08,  2.80s/it]\u001b[A\n",
      "Progress::   6%|▌         | 55/1000 [03:39<53:31,  3.40s/it]\u001b[A\n",
      "Progress::   6%|▌         | 56/1000 [03:43<57:26,  3.65s/it]\u001b[A\n",
      "Progress::   6%|▌         | 57/1000 [04:10<2:43:50, 10.42s/it]\u001b[A\n",
      "Progress::   6%|▌         | 58/1000 [04:11<2:02:59,  7.83s/it]\u001b[A\n",
      "Progress::   6%|▌         | 59/1000 [04:14<1:35:38,  6.10s/it]\u001b[A\n",
      "Progress::   6%|▌         | 60/1000 [04:28<2:14:49,  8.61s/it]\u001b[A\n",
      "Progress::   6%|▌         | 61/1000 [04:30<1:45:51,  6.76s/it]\u001b[A\n",
      "Progress::   6%|▌         | 62/1000 [04:33<1:26:49,  5.55s/it]\u001b[A\n",
      "Progress::   6%|▋         | 63/1000 [04:35<1:11:12,  4.56s/it]\u001b[A\n",
      "Progress::   6%|▋         | 64/1000 [04:36<53:17,  3.42s/it]  \u001b[A\n",
      "Progress::   6%|▋         | 65/1000 [04:37<40:04,  2.57s/it]\u001b[A\n",
      "Progress::   7%|▋         | 66/1000 [04:44<1:03:24,  4.07s/it]\u001b[A\n",
      "Progress::   7%|▋         | 67/1000 [04:47<57:30,  3.70s/it]  \u001b[A\n",
      "Progress::   7%|▋         | 68/1000 [04:51<1:00:00,  3.86s/it]\u001b[A\n",
      "Progress::   7%|▋         | 69/1000 [04:57<1:07:17,  4.34s/it]\u001b[A\n",
      "Progress::   7%|▋         | 70/1000 [04:58<50:18,  3.25s/it]  \u001b[A\n",
      "Progress::   7%|▋         | 71/1000 [04:58<37:03,  2.39s/it]\u001b[A\n",
      "Progress::   7%|▋         | 72/1000 [05:02<43:14,  2.80s/it]\u001b[A\n",
      "Progress::   7%|▋         | 73/1000 [05:02<33:02,  2.14s/it]\u001b[A\n",
      "Progress::   7%|▋         | 74/1000 [05:04<29:16,  1.90s/it]\u001b[A\n",
      "Progress::   8%|▊         | 75/1000 [05:07<34:44,  2.25s/it]\u001b[A\n",
      "Progress::   8%|▊         | 76/1000 [05:07<26:22,  1.71s/it]\u001b[A\n",
      "Progress::   8%|▊         | 77/1000 [05:08<23:59,  1.56s/it]\u001b[A\n",
      "Progress::   8%|▊         | 78/1000 [05:11<28:11,  1.83s/it]\u001b[A\n",
      "Progress::   8%|▊         | 79/1000 [05:13<28:41,  1.87s/it]\u001b[A\n",
      "Progress::   8%|▊         | 80/1000 [05:17<41:41,  2.72s/it]\u001b[A\n",
      "Progress::   8%|▊         | 81/1000 [05:27<1:12:37,  4.74s/it]\u001b[A\n",
      "Progress::   8%|▊         | 82/1000 [05:33<1:19:03,  5.17s/it]\u001b[A\n",
      "Progress::   8%|▊         | 83/1000 [05:36<1:09:45,  4.56s/it]\u001b[A\n",
      "Progress::   8%|▊         | 84/1000 [05:39<1:02:30,  4.09s/it]\u001b[A\n",
      "Progress::   8%|▊         | 85/1000 [06:05<2:42:33, 10.66s/it]\u001b[A\n",
      "Progress::   9%|▊         | 86/1000 [06:07<2:03:08,  8.08s/it]\u001b[A\n",
      "Progress::   9%|▊         | 87/1000 [06:10<1:38:04,  6.45s/it]\u001b[A\n",
      "Progress::   9%|▉         | 88/1000 [06:14<1:28:43,  5.84s/it]\u001b[A\n",
      "Progress::   9%|▉         | 89/1000 [06:16<1:10:25,  4.64s/it]\u001b[A\n",
      "Progress::   9%|▉         | 90/1000 [06:17<52:01,  3.43s/it]  \u001b[A\n",
      "Progress::   9%|▉         | 91/1000 [06:34<1:54:46,  7.58s/it]\u001b[A\n",
      "Progress::   9%|▉         | 92/1000 [06:38<1:36:50,  6.40s/it]\u001b[A\n",
      "Progress::   9%|▉         | 93/1000 [06:45<1:41:01,  6.68s/it]\u001b[A\n",
      "Progress::   9%|▉         | 94/1000 [06:46<1:13:22,  4.86s/it]\u001b[A\n",
      "Progress::  10%|▉         | 95/1000 [06:46<54:44,  3.63s/it]  \u001b[A\n",
      "Progress::  10%|▉         | 96/1000 [06:50<52:20,  3.47s/it]\u001b[A\n",
      "Progress::  10%|▉         | 97/1000 [06:50<38:23,  2.55s/it]\u001b[A\n",
      "Progress::  10%|▉         | 98/1000 [07:10<1:55:31,  7.68s/it]\u001b[A\n",
      "Progress::  10%|▉         | 99/1000 [07:11<1:26:45,  5.78s/it]\u001b[A\n",
      "Progress::  10%|█         | 100/1000 [07:11<1:03:06,  4.21s/it]\u001b[A\n",
      "Progress::  10%|█         | 101/1000 [07:13<50:13,  3.35s/it]  \u001b[A\n",
      "Progress::  10%|█         | 102/1000 [07:14<40:58,  2.74s/it]\u001b[A\n",
      "Progress::  10%|█         | 103/1000 [07:14<29:12,  1.95s/it]\u001b[A\n",
      "Progress::  10%|█         | 104/1000 [07:20<44:50,  3.00s/it]\u001b[A\n",
      "Progress::  10%|█         | 105/1000 [07:22<39:34,  2.65s/it]\u001b[A\n",
      "Progress::  11%|█         | 106/1000 [07:24<39:51,  2.67s/it]\u001b[A\n",
      "Progress::  11%|█         | 107/1000 [07:35<1:16:30,  5.14s/it]\u001b[A\n",
      "Progress::  11%|█         | 108/1000 [07:40<1:16:57,  5.18s/it]\u001b[A\n",
      "Progress::  11%|█         | 109/1000 [07:44<1:08:08,  4.59s/it]\u001b[A\n",
      "Progress::  11%|█         | 110/1000 [07:45<55:10,  3.72s/it]  \u001b[A\n",
      "Progress::  11%|█         | 111/1000 [07:49<53:35,  3.62s/it]\u001b[A\n",
      "Progress::  11%|█         | 112/1000 [07:49<40:14,  2.72s/it]\u001b[A\n",
      "Progress::  11%|█▏        | 113/1000 [07:55<55:15,  3.74s/it]\u001b[A\n",
      "Progress::  11%|█▏        | 114/1000 [07:58<48:01,  3.25s/it]\u001b[A\n",
      "Progress::  12%|█▏        | 115/1000 [08:01<49:35,  3.36s/it]\u001b[A\n",
      "Progress::  12%|█▏        | 116/1000 [08:02<40:31,  2.75s/it]\u001b[A\n",
      "Progress::  12%|█▏        | 117/1000 [08:16<1:26:35,  5.88s/it]\u001b[A\n",
      "Progress::  12%|█▏        | 118/1000 [08:33<2:18:19,  9.41s/it]\u001b[A\n",
      "Progress::  12%|█▏        | 119/1000 [08:40<2:04:00,  8.45s/it]\u001b[A\n",
      "Progress::  12%|█▏        | 120/1000 [08:53<2:27:16, 10.04s/it]\u001b[A\n",
      "Progress::  12%|█▏        | 121/1000 [08:59<2:08:50,  8.79s/it]\u001b[A\n",
      "Progress::  12%|█▏        | 122/1000 [09:00<1:32:36,  6.33s/it]\u001b[A\n",
      "Progress::  12%|█▏        | 123/1000 [09:08<1:39:19,  6.80s/it]\u001b[A\n",
      "Progress::  12%|█▏        | 124/1000 [09:11<1:24:56,  5.82s/it]\u001b[A\n",
      "Progress::  12%|█▎        | 125/1000 [09:12<1:03:30,  4.36s/it]\u001b[A\n"
     ]
    },
    {
     "name": "stderr",
     "output_type": "stream",
     "text": [
      "Progress::  13%|█▎        | 126/1000 [09:14<52:39,  3.61s/it]  \u001b[A\n",
      "Progress::  13%|█▎        | 127/1000 [09:14<37:47,  2.60s/it]\u001b[A\n",
      "Progress::  13%|█▎        | 128/1000 [09:15<31:53,  2.19s/it]\u001b[A\n",
      "Progress::  13%|█▎        | 129/1000 [09:18<34:28,  2.38s/it]\u001b[A\n",
      "Progress::  13%|█▎        | 130/1000 [09:28<1:07:11,  4.63s/it]\u001b[A\n",
      "Progress::  13%|█▎        | 131/1000 [09:42<1:48:15,  7.48s/it]\u001b[A\n",
      "Progress::  13%|█▎        | 132/1000 [09:46<1:31:35,  6.33s/it]\u001b[A\n",
      "Progress::  13%|█▎        | 133/1000 [09:48<1:11:49,  4.97s/it]\u001b[A\n",
      "Progress::  13%|█▎        | 134/1000 [09:58<1:33:40,  6.49s/it]\u001b[A\n",
      "Progress::  14%|█▎        | 135/1000 [10:01<1:19:30,  5.51s/it]\u001b[A\n",
      "Progress::  14%|█▎        | 136/1000 [10:10<1:33:12,  6.47s/it]\u001b[A\n",
      "Progress::  14%|█▎        | 137/1000 [10:11<1:09:47,  4.85s/it]\u001b[A\n",
      "Progress::  14%|█▍        | 138/1000 [10:11<50:09,  3.49s/it]  \u001b[A\n",
      "Progress::  14%|█▍        | 139/1000 [10:27<1:43:43,  7.23s/it]\u001b[A\n",
      "Progress::  14%|█▍        | 140/1000 [10:30<1:24:32,  5.90s/it]\u001b[A\n",
      "Progress::  14%|█▍        | 141/1000 [10:55<2:46:14, 11.61s/it]\u001b[A\n",
      "Progress::  14%|█▍        | 142/1000 [11:11<3:06:37, 13.05s/it]\u001b[A\n",
      "Progress::  14%|█▍        | 143/1000 [11:18<2:39:46, 11.19s/it]\u001b[A\n",
      "Progress::  14%|█▍        | 144/1000 [11:19<1:56:55,  8.20s/it]\u001b[A\n",
      "Progress::  14%|█▍        | 145/1000 [11:29<2:02:35,  8.60s/it]\u001b[A\n",
      "Progress::  15%|█▍        | 146/1000 [11:31<1:34:59,  6.67s/it]\u001b[A\n",
      "Progress::  15%|█▍        | 147/1000 [11:32<1:09:51,  4.91s/it]\u001b[A\n",
      "Progress::  15%|█▍        | 148/1000 [11:59<2:43:38, 11.52s/it]\u001b[A\n",
      "Progress::  15%|█▍        | 149/1000 [12:00<2:00:07,  8.47s/it]\u001b[A\n",
      "Progress::  15%|█▌        | 150/1000 [12:36<3:58:12, 16.82s/it]\u001b[A\n",
      "Progress::  15%|█▌        | 151/1000 [13:16<5:34:33, 23.64s/it]\u001b[A\n",
      "Progress::  15%|█▌        | 152/1000 [13:20<4:11:20, 17.78s/it]\u001b[A\n",
      "Progress::  15%|█▌        | 153/1000 [13:21<2:59:05, 12.69s/it]\u001b[A\n",
      "Progress::  15%|█▌        | 154/1000 [13:21<2:07:25,  9.04s/it]\u001b[A\n",
      "Progress::  16%|█▌        | 155/1000 [13:23<1:34:10,  6.69s/it]\u001b[A\n",
      "Progress::  16%|█▌        | 156/1000 [13:23<1:08:08,  4.84s/it]\u001b[A\n",
      "Progress::  16%|█▌        | 157/1000 [13:27<1:02:07,  4.42s/it]\u001b[A\n",
      "Progress::  16%|█▌        | 158/1000 [13:29<54:47,  3.90s/it]  \u001b[A\n",
      "Progress::  16%|█▌        | 159/1000 [13:30<41:18,  2.95s/it]\u001b[A\n",
      "Progress::  16%|█▌        | 160/1000 [13:31<31:20,  2.24s/it]\u001b[A\n",
      "Progress::  16%|█▌        | 161/1000 [13:34<38:05,  2.72s/it]\u001b[A\n",
      "Progress::  16%|█▌        | 162/1000 [13:35<28:55,  2.07s/it]\u001b[A\n",
      "Progress::  16%|█▋        | 163/1000 [13:36<26:12,  1.88s/it]\u001b[A\n",
      "Progress::  16%|█▋        | 164/1000 [13:38<24:09,  1.73s/it]\u001b[A\n",
      "Progress::  16%|█▋        | 165/1000 [13:45<47:51,  3.44s/it]\u001b[A\n",
      "Progress::  17%|█▋        | 166/1000 [13:53<1:07:05,  4.83s/it]\u001b[A\n",
      "Progress::  17%|█▋        | 167/1000 [13:54<50:07,  3.61s/it]  \u001b[A\n",
      "Progress::  17%|█▋        | 168/1000 [13:55<41:05,  2.96s/it]\u001b[A\n",
      "Progress::  17%|█▋        | 169/1000 [13:56<32:20,  2.33s/it]\u001b[A\n",
      "Progress::  17%|█▋        | 170/1000 [13:57<25:36,  1.85s/it]\u001b[A\n",
      "Progress::  17%|█▋        | 171/1000 [13:58<22:28,  1.63s/it]\u001b[A\n",
      "Progress::  17%|█▋        | 172/1000 [14:01<27:08,  1.97s/it]\u001b[A\n",
      "Progress::  17%|█▋        | 173/1000 [14:02<21:15,  1.54s/it]\u001b[A\n",
      "Progress::  17%|█▋        | 174/1000 [14:21<1:35:14,  6.92s/it]\u001b[A\n",
      "Progress::  18%|█▊        | 175/1000 [14:28<1:34:16,  6.86s/it]\u001b[A\n",
      "Progress::  18%|█▊        | 176/1000 [14:28<1:06:20,  4.83s/it]\u001b[A\n",
      "Progress::  18%|█▊        | 177/1000 [14:30<53:33,  3.90s/it]  \u001b[A\n",
      "Progress::  18%|█▊        | 178/1000 [14:34<55:28,  4.05s/it]\u001b[A\n",
      "Progress::  18%|█▊        | 179/1000 [14:35<44:20,  3.24s/it]\u001b[A\n",
      "Progress::  18%|█▊        | 180/1000 [14:37<36:38,  2.68s/it]\u001b[A\n",
      "Progress::  18%|█▊        | 181/1000 [14:37<28:45,  2.11s/it]\u001b[A\n",
      "Progress::  18%|█▊        | 182/1000 [14:38<23:03,  1.69s/it]\u001b[A\n",
      "Progress::  18%|█▊        | 183/1000 [14:39<19:17,  1.42s/it]\u001b[A\n",
      "Progress::  18%|█▊        | 184/1000 [14:43<30:15,  2.22s/it]\u001b[A\n",
      "Progress::  18%|█▊        | 185/1000 [14:43<22:17,  1.64s/it]\u001b[A\n",
      "Progress::  19%|█▊        | 186/1000 [14:46<27:31,  2.03s/it]\u001b[A\n",
      "Progress::  19%|█▊        | 187/1000 [14:52<43:15,  3.19s/it]\u001b[A\n",
      "Progress::  19%|█▉        | 188/1000 [14:55<41:19,  3.05s/it]\u001b[A\n",
      "Progress::  19%|█▉        | 189/1000 [14:56<32:53,  2.43s/it]\u001b[A\n",
      "Progress::  19%|█▉        | 190/1000 [15:03<52:30,  3.89s/it]\u001b[A\n",
      "Progress::  19%|█▉        | 191/1000 [15:53<3:57:17, 17.60s/it]\u001b[A\n",
      "Progress::  19%|█▉        | 192/1000 [16:12<4:02:26, 18.00s/it]\u001b[A\n",
      "Progress::  19%|█▉        | 193/1000 [16:12<2:52:25, 12.82s/it]\u001b[A\n",
      "Progress::  19%|█▉        | 194/1000 [16:14<2:07:13,  9.47s/it]\u001b[A\n",
      "Progress::  20%|█▉        | 195/1000 [16:16<1:36:25,  7.19s/it]\u001b[A\n",
      "Progress::  20%|█▉        | 196/1000 [16:16<1:08:54,  5.14s/it]\u001b[A\n",
      "Progress::  20%|█▉        | 197/1000 [16:19<58:01,  4.34s/it]  \u001b[A\n",
      "Progress::  20%|█▉        | 198/1000 [16:21<51:16,  3.84s/it]\u001b[A\n",
      "Progress::  20%|█▉        | 199/1000 [16:23<41:03,  3.08s/it]\u001b[A\n",
      "Progress::  20%|██        | 200/1000 [16:24<32:37,  2.45s/it]\u001b[A\n",
      "Progress::  20%|██        | 201/1000 [16:24<23:58,  1.80s/it]\u001b[A\n",
      "Progress::  20%|██        | 202/1000 [16:25<19:49,  1.49s/it]\u001b[A\n",
      "Progress::  20%|██        | 203/1000 [16:25<16:49,  1.27s/it]\u001b[A\n",
      "Progress::  20%|██        | 204/1000 [16:26<12:27,  1.06it/s]\u001b[A\n",
      "Progress::  20%|██        | 205/1000 [16:26<10:03,  1.32it/s]\u001b[A\n",
      "Progress::  21%|██        | 206/1000 [16:26<08:16,  1.60it/s]\u001b[A\n",
      "Progress::  21%|██        | 207/1000 [16:27<08:18,  1.59it/s]\u001b[A\n",
      "Progress::  21%|██        | 208/1000 [16:27<07:45,  1.70it/s]\u001b[A\n",
      "Progress::  21%|██        | 210/1000 [16:28<06:20,  2.08it/s]\u001b[A\n",
      "Progress::  21%|██        | 211/1000 [16:28<05:03,  2.60it/s]\u001b[A\n",
      "Progress::  21%|██        | 212/1000 [16:29<08:16,  1.59it/s]\u001b[A\n",
      "Progress::  21%|██▏       | 213/1000 [16:32<15:50,  1.21s/it]\u001b[A\n",
      "Progress::  21%|██▏       | 214/1000 [16:33<15:11,  1.16s/it]\u001b[A\n",
      "Progress::  22%|██▏       | 215/1000 [16:33<12:09,  1.08it/s]\u001b[A\n",
      "Progress::  22%|██▏       | 216/1000 [16:33<09:04,  1.44it/s]\u001b[A\n",
      "Progress::  22%|██▏       | 217/1000 [16:34<08:15,  1.58it/s]\u001b[A\n",
      "Progress::  22%|██▏       | 218/1000 [16:38<21:40,  1.66s/it]\u001b[A\n",
      "Progress::  22%|██▏       | 219/1000 [16:39<17:29,  1.34s/it]\u001b[A\n",
      "Progress::  22%|██▏       | 220/1000 [16:39<14:03,  1.08s/it]\u001b[A\n",
      "Progress::  22%|██▏       | 221/1000 [16:39<10:21,  1.25it/s]\u001b[A\n",
      "Progress::  22%|██▏       | 222/1000 [16:39<07:58,  1.63it/s]\u001b[A\n",
      "Progress::  22%|██▏       | 223/1000 [16:43<20:43,  1.60s/it]\u001b[A\n",
      "Progress::  22%|██▏       | 224/1000 [16:44<15:36,  1.21s/it]\u001b[A\n",
      "Progress::  22%|██▎       | 225/1000 [16:45<15:49,  1.22s/it]\u001b[A\n",
      "Progress::  23%|██▎       | 226/1000 [16:50<30:17,  2.35s/it]\u001b[A\n",
      "Progress::  23%|██▎       | 227/1000 [16:50<22:58,  1.78s/it]\u001b[A\n",
      "Progress::  23%|██▎       | 228/1000 [16:51<19:52,  1.54s/it]\u001b[A\n",
      "Progress::  23%|██▎       | 229/1000 [16:52<18:26,  1.44s/it]\u001b[A\n",
      "Progress::  23%|██▎       | 230/1000 [16:53<16:04,  1.25s/it]\u001b[A\n",
      "Progress::  23%|██▎       | 231/1000 [16:54<12:19,  1.04it/s]\u001b[A\n",
      "Progress::  23%|██▎       | 232/1000 [16:54<11:38,  1.10it/s]\u001b[A\n",
      "Progress::  23%|██▎       | 233/1000 [16:55<09:51,  1.30it/s]\u001b[A\n",
      "Progress::  23%|██▎       | 234/1000 [16:55<08:21,  1.53it/s]\u001b[A\n",
      "Progress::  24%|██▎       | 235/1000 [16:56<08:17,  1.54it/s]\u001b[A\n",
      "Progress::  24%|██▎       | 236/1000 [16:57<08:40,  1.47it/s]\u001b[A\n",
      "Progress::  24%|██▎       | 237/1000 [16:58<10:19,  1.23it/s]\u001b[A\n",
      "Progress::  24%|██▍       | 238/1000 [16:58<08:17,  1.53it/s]\u001b[A\n",
      "Progress::  24%|██▍       | 239/1000 [17:05<31:04,  2.45s/it]\u001b[A\n",
      "Progress::  24%|██▍       | 240/1000 [17:05<22:50,  1.80s/it]\u001b[A\n",
      "Progress::  24%|██▍       | 241/1000 [17:05<17:30,  1.38s/it]\u001b[A\n",
      "Progress::  24%|██▍       | 242/1000 [17:06<15:09,  1.20s/it]\u001b[A\n",
      "Progress::  24%|██▍       | 243/1000 [17:06<11:34,  1.09it/s]\u001b[A\n",
      "Progress::  24%|██▍       | 244/1000 [17:07<10:49,  1.16it/s]\u001b[A\n",
      "Progress::  24%|██▍       | 245/1000 [17:07<08:32,  1.47it/s]\u001b[A\n",
      "Progress::  25%|██▍       | 246/1000 [17:08<07:41,  1.63it/s]\u001b[A\n",
      "Progress::  25%|██▍       | 247/1000 [17:09<10:10,  1.23it/s]\u001b[A\n",
      "Progress::  25%|██▍       | 248/1000 [17:14<23:55,  1.91s/it]\u001b[A\n",
      "Progress::  25%|██▍       | 249/1000 [17:16<26:15,  2.10s/it]\u001b[A\n",
      "Progress::  25%|██▌       | 250/1000 [17:16<20:02,  1.60s/it]\u001b[A\n"
     ]
    },
    {
     "name": "stderr",
     "output_type": "stream",
     "text": [
      "Progress::  25%|██▌       | 251/1000 [17:17<15:36,  1.25s/it]\u001b[A\n",
      "Progress::  25%|██▌       | 252/1000 [17:17<12:45,  1.02s/it]\u001b[A\n",
      "Progress::  25%|██▌       | 253/1000 [17:26<39:55,  3.21s/it]\u001b[A\n",
      "Progress::  25%|██▌       | 254/1000 [17:26<28:53,  2.32s/it]\u001b[A\n",
      "Progress::  26%|██▌       | 255/1000 [17:28<26:56,  2.17s/it]\u001b[A\n",
      "Progress::  26%|██▌       | 256/1000 [17:44<1:19:35,  6.42s/it]\u001b[A\n",
      "Progress::  26%|██▌       | 257/1000 [17:45<58:07,  4.69s/it]  \u001b[A\n",
      "Progress::  26%|██▌       | 258/1000 [17:46<46:29,  3.76s/it]\u001b[A\n",
      "Progress::  26%|██▌       | 259/1000 [17:48<38:54,  3.15s/it]\u001b[A\n",
      "Progress::  26%|██▌       | 260/1000 [17:58<1:04:07,  5.20s/it]\u001b[A\n",
      "Progress::  26%|██▌       | 261/1000 [18:00<50:41,  4.12s/it]  \u001b[A\n",
      "Progress::  26%|██▌       | 262/1000 [18:37<2:53:36, 14.12s/it]\u001b[A\n",
      "Progress::  26%|██▋       | 263/1000 [18:39<2:08:35, 10.47s/it]\u001b[A\n",
      "Progress::  26%|██▋       | 264/1000 [18:43<1:46:07,  8.65s/it]\u001b[A\n",
      "Progress::  26%|██▋       | 265/1000 [18:44<1:16:41,  6.26s/it]\u001b[A\n",
      "Progress::  27%|██▋       | 266/1000 [18:46<1:00:03,  4.91s/it]\u001b[A\n",
      "Progress::  27%|██▋       | 267/1000 [18:48<47:56,  3.92s/it]  \u001b[A\n",
      "Progress::  27%|██▋       | 268/1000 [18:56<1:04:20,  5.27s/it]\u001b[A\n",
      "Progress::  27%|██▋       | 269/1000 [18:56<46:29,  3.82s/it]  \u001b[A\n",
      "Progress::  27%|██▋       | 270/1000 [18:58<37:21,  3.07s/it]\u001b[A\n",
      "Progress::  27%|██▋       | 271/1000 [18:58<27:55,  2.30s/it]\u001b[A\n",
      "Progress::  27%|██▋       | 272/1000 [19:01<29:06,  2.40s/it]\u001b[A\n",
      "Progress::  27%|██▋       | 273/1000 [19:03<27:20,  2.26s/it]\u001b[A\n",
      "Progress::  27%|██▋       | 274/1000 [19:06<29:50,  2.47s/it]\u001b[A\n",
      "Progress::  28%|██▊       | 275/1000 [19:10<35:43,  2.96s/it]\u001b[A\n",
      "Progress::  28%|██▊       | 276/1000 [19:11<29:56,  2.48s/it]\u001b[A\n",
      "Progress::  28%|██▊       | 277/1000 [19:15<34:45,  2.88s/it]\u001b[A\n",
      "Progress::  28%|██▊       | 278/1000 [19:16<26:53,  2.23s/it]\u001b[A\n",
      "Progress::  28%|██▊       | 279/1000 [19:17<22:48,  1.90s/it]\u001b[A\n",
      "Progress::  28%|██▊       | 280/1000 [19:18<21:44,  1.81s/it]\u001b[A\n",
      "Progress::  28%|██▊       | 281/1000 [19:20<22:30,  1.88s/it]\u001b[A\n",
      "Progress::  28%|██▊       | 282/1000 [19:25<33:17,  2.78s/it]\u001b[A\n",
      "Progress::  28%|██▊       | 283/1000 [19:29<35:58,  3.01s/it]\u001b[A\n",
      "Progress::  28%|██▊       | 284/1000 [19:42<1:10:58,  5.95s/it]\u001b[A\n",
      "Progress::  28%|██▊       | 285/1000 [19:43<52:41,  4.42s/it]  \u001b[A\n",
      "Progress::  29%|██▊       | 286/1000 [19:49<1:00:18,  5.07s/it]\u001b[A\n",
      "Progress::  29%|██▊       | 287/1000 [19:52<52:51,  4.45s/it]  \u001b[A\n",
      "Progress::  29%|██▉       | 288/1000 [19:53<38:21,  3.23s/it]\u001b[A\n",
      "Progress::  29%|██▉       | 289/1000 [19:56<40:18,  3.40s/it]\u001b[A\n",
      "Progress::  29%|██▉       | 290/1000 [19:57<30:22,  2.57s/it]\u001b[A\n",
      "Progress::  29%|██▉       | 291/1000 [19:59<28:38,  2.42s/it]\u001b[A\n",
      "Progress::  29%|██▉       | 292/1000 [20:02<29:49,  2.53s/it]\u001b[A\n",
      "Progress::  29%|██▉       | 293/1000 [20:03<23:14,  1.97s/it]\u001b[A\n",
      "Progress::  29%|██▉       | 294/1000 [20:03<16:58,  1.44s/it]\u001b[A\n",
      "Progress::  30%|██▉       | 295/1000 [20:03<12:55,  1.10s/it]\u001b[A\n",
      "Progress::  30%|██▉       | 296/1000 [20:05<17:35,  1.50s/it]\u001b[A\n",
      "Progress::  30%|██▉       | 297/1000 [20:08<20:20,  1.74s/it]\u001b[A\n",
      "Progress::  30%|██▉       | 298/1000 [20:09<18:35,  1.59s/it]\u001b[A\n",
      "Progress::  30%|██▉       | 299/1000 [20:13<26:00,  2.23s/it]\u001b[A\n",
      "Progress::  30%|███       | 300/1000 [20:14<24:13,  2.08s/it]\u001b[A\n",
      "Progress::  30%|███       | 301/1000 [20:16<20:52,  1.79s/it]\u001b[A\n",
      "Progress::  30%|███       | 302/1000 [20:28<58:21,  5.02s/it]\u001b[A\n",
      "Progress::  30%|███       | 303/1000 [20:30<46:46,  4.03s/it]\u001b[A\n",
      "Progress::  30%|███       | 304/1000 [20:31<37:00,  3.19s/it]\u001b[A\n",
      "Progress::  30%|███       | 305/1000 [20:32<27:41,  2.39s/it]\u001b[A\n",
      "Progress::  31%|███       | 306/1000 [20:33<23:14,  2.01s/it]\u001b[A\n",
      "Progress::  31%|███       | 307/1000 [20:39<38:54,  3.37s/it]\u001b[A\n",
      "Progress::  31%|███       | 308/1000 [20:43<40:07,  3.48s/it]\u001b[A\n",
      "Progress::  31%|███       | 309/1000 [20:43<29:00,  2.52s/it]\u001b[A\n",
      "Progress::  31%|███       | 310/1000 [20:49<40:25,  3.52s/it]\u001b[A\n",
      "Progress::  31%|███       | 311/1000 [20:53<41:27,  3.61s/it]\u001b[A\n",
      "Progress::  31%|███       | 312/1000 [20:57<41:21,  3.61s/it]\u001b[A\n",
      "Progress::  31%|███▏      | 313/1000 [20:57<31:17,  2.73s/it]\u001b[A\n",
      "Progress::  31%|███▏      | 314/1000 [20:57<22:46,  1.99s/it]\u001b[A\n",
      "Progress::  32%|███▏      | 315/1000 [20:59<19:26,  1.70s/it]\u001b[A\n",
      "Progress::  32%|███▏      | 316/1000 [21:00<17:58,  1.58s/it]\u001b[A\n",
      "Progress::  32%|███▏      | 317/1000 [21:01<15:59,  1.40s/it]\u001b[A\n",
      "Progress::  32%|███▏      | 318/1000 [21:06<28:04,  2.47s/it]\u001b[A\n",
      "Progress::  32%|███▏      | 319/1000 [21:14<46:24,  4.09s/it]\u001b[A\n",
      "Progress::  32%|███▏      | 320/1000 [21:17<42:50,  3.78s/it]\u001b[A\n",
      "Progress::  32%|███▏      | 321/1000 [21:18<33:05,  2.92s/it]\u001b[A\n",
      "Progress::  32%|███▏      | 322/1000 [21:21<34:41,  3.07s/it]\u001b[A\n",
      "Progress::  32%|███▏      | 323/1000 [21:27<43:32,  3.86s/it]\u001b[A\n",
      "Progress::  32%|███▏      | 324/1000 [21:28<35:25,  3.14s/it]\u001b[A\n",
      "Progress::  32%|███▎      | 325/1000 [21:31<33:43,  3.00s/it]\u001b[A\n",
      "Progress::  33%|███▎      | 326/1000 [21:34<33:00,  2.94s/it]\u001b[A\n",
      "Progress::  33%|███▎      | 327/1000 [21:45<1:02:27,  5.57s/it]\u001b[A\n",
      "Progress::  33%|███▎      | 328/1000 [21:46<45:33,  4.07s/it]  \u001b[A\n",
      "Progress::  33%|███▎      | 329/1000 [21:47<36:11,  3.24s/it]\u001b[A\n",
      "Progress::  33%|███▎      | 330/1000 [21:48<28:20,  2.54s/it]\u001b[A\n",
      "Progress::  33%|███▎      | 331/1000 [21:49<22:43,  2.04s/it]\u001b[A\n",
      "Progress::  33%|███▎      | 332/1000 [21:50<19:59,  1.80s/it]\u001b[A\n",
      "Progress::  33%|███▎      | 333/1000 [21:54<27:41,  2.49s/it]\u001b[A\n",
      "Progress::  33%|███▎      | 334/1000 [21:55<22:39,  2.04s/it]\u001b[A\n",
      "Progress::  34%|███▎      | 335/1000 [21:56<18:05,  1.63s/it]\u001b[A\n",
      "Progress::  34%|███▎      | 336/1000 [21:57<17:15,  1.56s/it]\u001b[A\n",
      "Progress::  34%|███▎      | 337/1000 [22:01<23:14,  2.10s/it]\u001b[A\n",
      "Progress::  34%|███▍      | 338/1000 [22:06<33:57,  3.08s/it]\u001b[A\n",
      "Progress::  34%|███▍      | 339/1000 [22:07<28:14,  2.56s/it]\u001b[A\n",
      "Progress::  34%|███▍      | 340/1000 [22:08<20:45,  1.89s/it]\u001b[A\n",
      "Progress::  34%|███▍      | 341/1000 [22:09<18:28,  1.68s/it]\u001b[A\n",
      "Progress::  34%|███▍      | 342/1000 [22:22<55:39,  5.08s/it]\u001b[A\n",
      "Progress::  34%|███▍      | 343/1000 [22:25<48:42,  4.45s/it]\u001b[A\n",
      "Progress::  34%|███▍      | 344/1000 [22:36<1:11:28,  6.54s/it]\u001b[A\n",
      "Progress::  34%|███▍      | 345/1000 [22:38<56:03,  5.13s/it]  \u001b[A\n",
      "Progress::  35%|███▍      | 346/1000 [22:39<41:19,  3.79s/it]\u001b[A\n",
      "Progress::  35%|███▍      | 347/1000 [22:41<36:01,  3.31s/it]\u001b[A\n",
      "Progress::  35%|███▍      | 348/1000 [22:44<35:18,  3.25s/it]\u001b[A\n",
      "Progress::  35%|███▍      | 349/1000 [22:46<31:37,  2.91s/it]\u001b[A\n",
      "Progress::  35%|███▌      | 350/1000 [22:47<23:52,  2.20s/it]\u001b[A\n",
      "Progress::  35%|███▌      | 351/1000 [22:48<19:24,  1.79s/it]\u001b[A\n",
      "Progress::  35%|███▌      | 352/1000 [22:57<43:24,  4.02s/it]\u001b[A\n",
      "Progress::  35%|███▌      | 353/1000 [23:01<42:05,  3.90s/it]\u001b[A\n",
      "Progress::  35%|███▌      | 354/1000 [23:02<32:45,  3.04s/it]\u001b[A\n",
      "Progress::  36%|███▌      | 355/1000 [23:02<23:58,  2.23s/it]\u001b[A\n",
      "Progress::  36%|███▌      | 356/1000 [23:04<22:25,  2.09s/it]\u001b[A\n",
      "Progress::  36%|███▌      | 357/1000 [23:06<22:52,  2.14s/it]\u001b[A\n",
      "Progress::  36%|███▌      | 358/1000 [23:09<26:24,  2.47s/it]\u001b[A\n",
      "Progress::  36%|███▌      | 359/1000 [23:10<20:16,  1.90s/it]\u001b[A\n",
      "Progress::  36%|███▌      | 360/1000 [23:10<16:31,  1.55s/it]\u001b[A\n",
      "Progress::  36%|███▌      | 361/1000 [23:39<1:41:47,  9.56s/it]\u001b[A\n",
      "Progress::  36%|███▌      | 362/1000 [23:40<1:14:07,  6.97s/it]\u001b[A\n",
      "Progress::  36%|███▋      | 363/1000 [23:46<1:12:16,  6.81s/it]\u001b[A\n",
      "Progress::  36%|███▋      | 364/1000 [23:53<1:13:24,  6.93s/it]\u001b[A\n",
      "Progress::  36%|███▋      | 365/1000 [23:57<1:04:19,  6.08s/it]\u001b[A\n",
      "Progress::  37%|███▋      | 366/1000 [23:59<48:38,  4.60s/it]  \u001b[A\n",
      "Progress::  37%|███▋      | 367/1000 [24:01<42:34,  4.03s/it]\u001b[A\n",
      "Progress::  37%|███▋      | 368/1000 [24:02<31:31,  2.99s/it]\u001b[A\n",
      "Progress::  37%|███▋      | 369/1000 [24:18<1:12:19,  6.88s/it]\u001b[A\n",
      "Progress::  37%|███▋      | 370/1000 [24:18<52:52,  5.04s/it]  \u001b[A\n",
      "Progress::  37%|███▋      | 371/1000 [24:20<41:43,  3.98s/it]\u001b[A\n",
      "Progress::  37%|███▋      | 372/1000 [24:20<30:20,  2.90s/it]\u001b[A\n",
      "Progress::  37%|███▋      | 373/1000 [24:22<25:06,  2.40s/it]\u001b[A\n",
      "Progress::  37%|███▋      | 374/1000 [24:57<2:07:12, 12.19s/it]\u001b[A\n",
      "Progress::  38%|███▊      | 375/1000 [25:01<1:41:32,  9.75s/it]\u001b[A\n"
     ]
    },
    {
     "name": "stderr",
     "output_type": "stream",
     "text": [
      "Progress::  38%|███▊      | 376/1000 [25:02<1:14:16,  7.14s/it]\u001b[A\n",
      "Progress::  38%|███▊      | 377/1000 [25:03<54:57,  5.29s/it]  \u001b[A\n",
      "Progress::  38%|███▊      | 378/1000 [25:04<40:57,  3.95s/it]\u001b[A\n",
      "Progress::  38%|███▊      | 379/1000 [25:07<40:02,  3.87s/it]\u001b[A\n",
      "Progress::  38%|███▊      | 380/1000 [25:16<56:18,  5.45s/it]\u001b[A\n",
      "Progress::  38%|███▊      | 381/1000 [25:19<46:49,  4.54s/it]\u001b[A\n",
      "Progress::  38%|███▊      | 382/1000 [25:20<36:15,  3.52s/it]\u001b[A\n",
      "Progress::  38%|███▊      | 383/1000 [25:21<28:49,  2.80s/it]\u001b[A\n",
      "Progress::  38%|███▊      | 384/1000 [25:23<25:08,  2.45s/it]\u001b[A\n",
      "Progress::  38%|███▊      | 385/1000 [25:26<26:10,  2.55s/it]\u001b[A\n",
      "Progress::  39%|███▊      | 386/1000 [25:27<22:42,  2.22s/it]\u001b[A\n",
      "Progress::  39%|███▊      | 387/1000 [25:28<19:02,  1.86s/it]\u001b[A\n",
      "Progress::  39%|███▉      | 388/1000 [25:29<16:50,  1.65s/it]\u001b[A\n",
      "Progress::  39%|███▉      | 389/1000 [25:33<22:37,  2.22s/it]\u001b[A\n",
      "Progress::  39%|███▉      | 390/1000 [25:33<18:08,  1.78s/it]\u001b[A\n",
      "Progress::  39%|███▉      | 391/1000 [25:34<14:56,  1.47s/it]\u001b[A\n",
      "Progress::  39%|███▉      | 392/1000 [25:36<14:27,  1.43s/it]\u001b[A\n",
      "Progress::  39%|███▉      | 393/1000 [25:41<27:28,  2.72s/it]\u001b[A\n",
      "Progress::  39%|███▉      | 394/1000 [25:42<22:19,  2.21s/it]\u001b[A\n",
      "Progress::  40%|███▉      | 395/1000 [25:43<17:46,  1.76s/it]\u001b[A\n",
      "Progress::  40%|███▉      | 396/1000 [25:45<17:10,  1.71s/it]\u001b[A\n",
      "Progress::  40%|███▉      | 397/1000 [25:46<16:38,  1.66s/it]\u001b[A\n",
      "Progress::  40%|███▉      | 398/1000 [25:47<15:31,  1.55s/it]\u001b[A\n",
      "Progress::  40%|███▉      | 399/1000 [25:49<14:45,  1.47s/it]\u001b[A\n",
      "Progress::  40%|████      | 400/1000 [25:51<16:22,  1.64s/it]\u001b[A\n",
      "Progress::  40%|████      | 401/1000 [25:58<33:06,  3.32s/it]\u001b[A\n",
      "Progress::  40%|████      | 402/1000 [26:00<29:27,  2.96s/it]\u001b[A\n",
      "Progress::  40%|████      | 403/1000 [26:02<25:19,  2.55s/it]\u001b[A\n",
      "Progress::  40%|████      | 404/1000 [26:02<19:23,  1.95s/it]\u001b[A\n",
      "Progress::  40%|████      | 405/1000 [26:03<16:41,  1.68s/it]\u001b[A\n",
      "Progress::  41%|████      | 406/1000 [26:04<14:57,  1.51s/it]\u001b[A\n",
      "Progress::  41%|████      | 407/1000 [26:12<33:52,  3.43s/it]\u001b[A"
     ]
    }
   ],
   "source": [
    "# Get Synonym Dicts per Book Reviews\n",
    "df3 = df2[0:1000].assign(synDict = df2['reviewText'][0:1000].progress_apply(lambda big_review: get_synonyms_dict(big_review, 0.9)))\n",
    "df3.head()"
   ]
  },
  {
   "cell_type": "code",
   "execution_count": null,
   "metadata": {},
   "outputs": [],
   "source": [
    "df4 = df3.drop(columns=['reviewText'])\n",
    "df4.head()"
   ]
  },
  {
   "cell_type": "code",
   "execution_count": null,
   "metadata": {},
   "outputs": [],
   "source": [
    "df5 = pd.merge(df_new[0:1000], df4, how='inner', on='asin')\n",
    "df5.head()"
   ]
  },
  {
   "cell_type": "code",
   "execution_count": null,
   "metadata": {
    "collapsed": true,
    "jupyter": {
     "outputs_hidden": true
    }
   },
   "outputs": [],
   "source": [
    "matrix_m01 = df5.as_matrix()"
   ]
  },
  {
   "cell_type": "code",
   "execution_count": null,
   "metadata": {
    "collapsed": true,
    "jupyter": {
     "outputs_hidden": true
    }
   },
   "outputs": [],
   "source": [
    "for i in range(5):\n",
    "    new_list = []\n",
    "    for word in matrix_m01[i][2]:\n",
    "        clean_word = word.replace(\" \", \"\");\n",
    "        if clean_word in matrix_m01[i][3].keys():\n",
    "            new_list.append(matrix_m01[i][3][clean_word])\n",
    "        else:\n",
    "            new_list.append(clean_word)\n",
    "    matrix_m01[i][2] =  new_list"
   ]
  },
  {
   "cell_type": "code",
   "execution_count": null,
   "metadata": {},
   "outputs": [],
   "source": [
    "df_final = pd.DataFrame(matrix_m01)\n",
    "df_final.head()"
   ]
  },
  {
   "cell_type": "code",
   "execution_count": null,
   "metadata": {},
   "outputs": [],
   "source": [
    "df_final.columns = ['userId','asin', 'reviewText', 'synDict']\n",
    "df_final.head()"
   ]
  },
  {
   "cell_type": "code",
   "execution_count": null,
   "metadata": {
    "collapsed": true,
    "jupyter": {
     "outputs_hidden": true
    }
   },
   "outputs": [],
   "source": [
    "df_final = df_final.drop(columns=['synDict'])"
   ]
  },
  {
   "cell_type": "code",
   "execution_count": null,
   "metadata": {},
   "outputs": [],
   "source": [
    "df_final.head()"
   ]
  },
  {
   "cell_type": "code",
   "execution_count": null,
   "metadata": {
    "collapsed": true,
    "jupyter": {
     "outputs_hidden": true
    }
   },
   "outputs": [],
   "source": [
    "df_final.to_csv(\"../data/interim/004_synonyms_grouped_1k.csv\", sep='\\t', header=True, index=False);"
   ]
  },
  {
   "cell_type": "code",
   "execution_count": null,
   "metadata": {
    "collapsed": true,
    "jupyter": {
     "outputs_hidden": true
    }
   },
   "outputs": [],
   "source": [
    "df_final.to_pickle(\"../data/interim/004_synonyms_grouped_1k.p\")"
   ]
  },
  {
   "cell_type": "code",
   "execution_count": 129,
   "metadata": {
    "collapsed": true,
    "jupyter": {
     "outputs_hidden": true
    }
   },
   "outputs": [],
   "source": [
    "# END OF FILE"
   ]
  }
 ],
 "metadata": {
  "kernelspec": {
   "display_name": "Python 3",
   "language": "python",
   "name": "python3"
  },
  "language_info": {
   "codemirror_mode": {
    "name": "ipython",
    "version": 3
   },
   "file_extension": ".py",
   "mimetype": "text/x-python",
   "name": "python",
   "nbconvert_exporter": "python",
   "pygments_lexer": "ipython3",
   "version": "3.6.7"
  }
 },
 "nbformat": 4,
 "nbformat_minor": 4
}
