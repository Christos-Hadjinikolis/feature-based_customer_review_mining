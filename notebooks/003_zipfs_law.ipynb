{
 "cells": [
  {
   "cell_type": "markdown",
   "metadata": {},
   "source": [
    "# Word Frequencies & Zipf's Law\n",
    "This note book is used for generating a dictionary of word frequencies across the whole corpus as well as confirming Zipf's law. "
   ]
  },
  {
   "cell_type": "code",
   "execution_count": 11,
   "metadata": {
    "collapsed": true,
    "jupyter": {
     "outputs_hidden": true
    }
   },
   "outputs": [],
   "source": [
    "# For monitoring duration of pandas processes\n",
    "from tqdm import tqdm, tqdm_pandas\n",
    "\n",
    "# To avoid RuntimeError: Set changed size during iteration\n",
    "tqdm.monitor_interval = 0\n",
    "\n",
    "# Register `pandas.progress_apply` and `pandas.Series.map_apply` with `tqdm`\n",
    "# (can use `tqdm_gui`, `tqdm_notebook`, optional kwargs, etc.)\n",
    "tqdm.pandas(desc=\"Progress:\")\n",
    "\n",
    "# Now you can use `progress_apply` instead of `apply`\n",
    "# and `progress_map` instead of `map`\n",
    "# can also groupby:\n",
    "# df.groupby(0).progress_apply(lambda x: x**2)"
   ]
  },
  {
   "cell_type": "code",
   "execution_count": 12,
   "metadata": {},
   "outputs": [
    {
     "data": {
      "text/html": [
       "<div>\n",
       "<style scoped>\n",
       "    .dataframe tbody tr th:only-of-type {\n",
       "        vertical-align: middle;\n",
       "    }\n",
       "\n",
       "    .dataframe tbody tr th {\n",
       "        vertical-align: top;\n",
       "    }\n",
       "\n",
       "    .dataframe thead th {\n",
       "        text-align: right;\n",
       "    }\n",
       "</style>\n",
       "<table border=\"1\" class=\"dataframe\">\n",
       "  <thead>\n",
       "    <tr style=\"text-align: right;\">\n",
       "      <th></th>\n",
       "      <th>uniqueKey</th>\n",
       "      <th>reviewText</th>\n",
       "    </tr>\n",
       "  </thead>\n",
       "  <tbody>\n",
       "    <tr>\n",
       "      <th>0</th>\n",
       "      <td>A2XQ5LZHTD4AFT##000100039X</td>\n",
       "      <td>['timeless', 'classic', 'demanding', 'assuming...</td>\n",
       "    </tr>\n",
       "    <tr>\n",
       "      <th>1</th>\n",
       "      <td>AF7CSSGV93RXN##000100039X</td>\n",
       "      <td>['first', 'read', 'prophet', 'kahlil', 'gibran...</td>\n",
       "    </tr>\n",
       "    <tr>\n",
       "      <th>2</th>\n",
       "      <td>A1NPNGWBVD9AK3##000100039X</td>\n",
       "      <td>['one', 'first', 'literary', 'books', 'recall'...</td>\n",
       "    </tr>\n",
       "    <tr>\n",
       "      <th>3</th>\n",
       "      <td>A3IS4WGMFR4X65##000100039X</td>\n",
       "      <td>['prophet', 'kahlil', 'gibrans', 'best', 'know...</td>\n",
       "    </tr>\n",
       "    <tr>\n",
       "      <th>4</th>\n",
       "      <td>AWLFVCT9128JV##000100039X</td>\n",
       "      <td>['gibran', 'khalil', 'gibran', 'born', 'one th...</td>\n",
       "    </tr>\n",
       "  </tbody>\n",
       "</table>\n",
       "</div>"
      ],
      "text/plain": [
       "                    uniqueKey  \\\n",
       "0  A2XQ5LZHTD4AFT##000100039X   \n",
       "1   AF7CSSGV93RXN##000100039X   \n",
       "2  A1NPNGWBVD9AK3##000100039X   \n",
       "3  A3IS4WGMFR4X65##000100039X   \n",
       "4   AWLFVCT9128JV##000100039X   \n",
       "\n",
       "                                          reviewText  \n",
       "0  ['timeless', 'classic', 'demanding', 'assuming...  \n",
       "1  ['first', 'read', 'prophet', 'kahlil', 'gibran...  \n",
       "2  ['one', 'first', 'literary', 'books', 'recall'...  \n",
       "3  ['prophet', 'kahlil', 'gibrans', 'best', 'know...  \n",
       "4  ['gibran', 'khalil', 'gibran', 'born', 'one th...  "
      ]
     },
     "execution_count": 12,
     "metadata": {},
     "output_type": "execute_result"
    }
   ],
   "source": [
    "import pandas as pd\n",
    "df0 = pd.read_csv(\"../data/interim/001_normalised_keyed_reviews.csv\", sep=\"\\t\", low_memory=False)\n",
    "df0.head()"
   ]
  },
  {
   "cell_type": "code",
   "execution_count": 13,
   "metadata": {
    "collapsed": true,
    "jupyter": {
     "outputs_hidden": true
    }
   },
   "outputs": [],
   "source": [
    "def convert_text_to_list(review):\n",
    "    return review.replace(\"[\",\"\").replace(\"]\",\"\").replace(\"'\",\"\").replace(\"\\t\",\"\").split(\",\")"
   ]
  },
  {
   "cell_type": "code",
   "execution_count": 14,
   "metadata": {},
   "outputs": [
    {
     "name": "stderr",
     "output_type": "stream",
     "text": [
      "Progress:: 100%|██████████| 582711/582711 [00:16<00:00, 36088.64it/s]\n"
     ]
    },
    {
     "data": {
      "text/plain": [
       "0    [timeless,  classic,  demanding,  assuming,  t...\n",
       "1    [first,  read,  prophet,  kahlil,  gibran,  th...\n",
       "2    [one,  first,  literary,  books,  recall,  rea...\n",
       "3    [prophet,  kahlil,  gibrans,  best,  known,  w...\n",
       "4    [gibran,  khalil,  gibran,  born,  one thousan...\n",
       "Name: reviewText, dtype: object"
      ]
     },
     "execution_count": 14,
     "metadata": {},
     "output_type": "execute_result"
    }
   ],
   "source": [
    "# Convert \"reviewText\" field to back to list\n",
    "df0['reviewText'] = df0['reviewText'].astype(str)\n",
    "df0['reviewText'] = df0['reviewText'].progress_apply(lambda text: convert_text_to_list(text));\n",
    "df0['reviewText'].head()"
   ]
  },
  {
   "cell_type": "code",
   "execution_count": 15,
   "metadata": {
    "collapsed": true,
    "jupyter": {
     "outputs_hidden": true
    }
   },
   "outputs": [],
   "source": [
    "# Split negs\n",
    "def split_neg(review):\n",
    "    new_review = []\n",
    "    for token in review:\n",
    "        if '_' in token:\n",
    "            split_words = token.split(\"_\")\n",
    "            new_review.append(split_words[0])\n",
    "            new_review.append(split_words[1])\n",
    "        else:\n",
    "            new_review.append(token)\n",
    "    return new_review"
   ]
  },
  {
   "cell_type": "code",
   "execution_count": 16,
   "metadata": {},
   "outputs": [
    {
     "name": "stderr",
     "output_type": "stream",
     "text": [
      "Progress:: 100%|██████████| 582711/582711 [00:12<00:00, 48015.77it/s]\n"
     ]
    },
    {
     "data": {
      "text/plain": [
       "0    [timeless,  classic,  demanding,  assuming,  t...\n",
       "1    [first,  read,  prophet,  kahlil,  gibran,  th...\n",
       "2    [one,  first,  literary,  books,  recall,  rea...\n",
       "3    [prophet,  kahlil,  gibrans,  best,  known,  w...\n",
       "4    [gibran,  khalil,  gibran,  born,  one thousan...\n",
       "Name: reviewText, dtype: object"
      ]
     },
     "execution_count": 16,
     "metadata": {},
     "output_type": "execute_result"
    }
   ],
   "source": [
    "df0[\"reviewText\"] = df0[\"reviewText\"].progress_apply(lambda review: split_neg(review))\n",
    "df0[\"reviewText\"].head()"
   ]
  },
  {
   "cell_type": "code",
   "execution_count": 17,
   "metadata": {
    "collapsed": true,
    "jupyter": {
     "outputs_hidden": true
    }
   },
   "outputs": [],
   "source": [
    "### Remove Stop Words\n",
    "from nltk.corpus import stopwords\n",
    "stop_words = set(stopwords.words('english'))\n",
    "\n",
    "def remove_stopwords(review):\n",
    "    return [token for token in review if not token in stop_words]"
   ]
  },
  {
   "cell_type": "code",
   "execution_count": 18,
   "metadata": {},
   "outputs": [
    {
     "name": "stderr",
     "output_type": "stream",
     "text": [
      "Progress:: 100%|██████████| 582711/582711 [00:13<00:00, 44732.06it/s]\n"
     ]
    },
    {
     "data": {
      "text/plain": [
       "0    [timeless,  classic,  demanding,  assuming,  t...\n",
       "1    [first,  read,  prophet,  kahlil,  gibran,  th...\n",
       "2    [one,  first,  literary,  books,  recall,  rea...\n",
       "3    [prophet,  kahlil,  gibrans,  best,  known,  w...\n",
       "4    [gibran,  khalil,  gibran,  born,  one thousan...\n",
       "Name: reviewText, dtype: object"
      ]
     },
     "execution_count": 18,
     "metadata": {},
     "output_type": "execute_result"
    }
   ],
   "source": [
    "df0[\"reviewText\"] = df0[\"reviewText\"].progress_apply(lambda review: remove_stopwords(review))\n",
    "df0[\"reviewText\"].head()"
   ]
  },
  {
   "cell_type": "code",
   "execution_count": 19,
   "metadata": {
    "collapsed": true,
    "jupyter": {
     "outputs_hidden": true
    }
   },
   "outputs": [],
   "source": [
    "import nltk\n",
    "from nltk.probability import FreqDist\n",
    "\n",
    "def collect_zipfs_law_metrics(review, fd):\n",
    "    for token in review:\n",
    "        fd.update([token])"
   ]
  },
  {
   "cell_type": "code",
   "execution_count": 20,
   "metadata": {},
   "outputs": [
    {
     "name": "stderr",
     "output_type": "stream",
     "text": [
      "Progress:: 100%|██████████| 582711/582711 [03:26<00:00, 2818.63it/s]\n"
     ]
    }
   ],
   "source": [
    "fd = FreqDist()\n",
    "df0['reviewText'].progress_apply(lambda review: collect_zipfs_law_metrics(review, fd));"
   ]
  },
  {
   "cell_type": "code",
   "execution_count": 21,
   "metadata": {},
   "outputs": [
    {
     "data": {
      "text/plain": [
       "FreqDist({'timeless': 24,\n",
       "          ' classic': 17871,\n",
       "          ' demanding': 2491,\n",
       "          ' assuming': 2899,\n",
       "          ' title': 31230,\n",
       "          ' gibran': 63,\n",
       "          ' backs': 1845,\n",
       "          ' excellent': 48524,\n",
       "          ' style': 53970,\n",
       "          ' content': 17129,\n",
       "          ' means': 32574,\n",
       "          ' publish': 2894,\n",
       "          ' century': 34567,\n",
       "          ' two': 222498,\n",
       "          ' earlier': 20684,\n",
       "          ' could': 187423,\n",
       "          ' inspired': 7751,\n",
       "          ' new': 195053,\n",
       "          ' religion': 26470,\n",
       "          ' mouth': 5185,\n",
       "          ' old': 76716,\n",
       "          ' man': 110539,\n",
       "          ' sail': 786,\n",
       "          ' away': 69565,\n",
       "          ' far': 73261,\n",
       "          ' destination': 1466,\n",
       "          ' hear': 17210,\n",
       "          ' wisdom': 13031,\n",
       "          ' life': 259771,\n",
       "          ' important': 60534,\n",
       "          ' aspects': 16832,\n",
       "          ' messege': 7,\n",
       "          ' guide': 23971,\n",
       "          ' book': 1503414,\n",
       "          ' sufi': 247,\n",
       "          ' sermon': 1264,\n",
       "          ' much': 269783,\n",
       "          ' put': 80536,\n",
       "          ' perspective': 25152,\n",
       "          ' without': 96433,\n",
       "          ' hint': 3918,\n",
       "          ' dogma': 1796,\n",
       "          ' hints': 4378,\n",
       "          ' birth': 10416,\n",
       "          ' place': 69021,\n",
       "          ' lebanon': 758,\n",
       "          ' many': 273700,\n",
       "          ' prophets': 1307,\n",
       "          ' walked': 3368,\n",
       "          ' earth': 23695,\n",
       "          ' project': 11061,\n",
       "          ' first': 245271,\n",
       "          ' germinated': 18,\n",
       "          ' likely': 21867,\n",
       "          ' probably': 55608,\n",
       "          ' becuase': 361,\n",
       "          ' written': 124819,\n",
       "          ' english': 26262,\n",
       "          ' originally': 6372,\n",
       "          ' writing': 124470,\n",
       "          ' flows': 3171,\n",
       "          ' pleasant': 4323,\n",
       "          ' read': 484457,\n",
       "          ' charcoal': 199,\n",
       "          ' drawings': 3062,\n",
       "          ' author': 213722,\n",
       "          ' decorating': 850,\n",
       "          ' pages': 90183,\n",
       "          ' plus': 13371,\n",
       "          ' loved': 53684,\n",
       "          ' cover': 33550,\n",
       "          'first': 13818,\n",
       "          ' prophet': 2486,\n",
       "          ' kahlil': 47,\n",
       "          ' thirty': 16097,\n",
       "          ' years': 154930,\n",
       "          ' ago': 34136,\n",
       "          ' times': 90311,\n",
       "          ' since': 82975,\n",
       "          ' gibrans': 30,\n",
       "          ' messages': 4379,\n",
       "          ' timeless': 2538,\n",
       "          ' always': 76774,\n",
       "          ' influenced': 4137,\n",
       "          ' relationships': 18894,\n",
       "          ' used': 61590,\n",
       "          ' gift': 14447,\n",
       "          ' persons': 6691,\n",
       "          ' cared': 3611,\n",
       "          ' paperback': 5169,\n",
       "          ' version': 26048,\n",
       "          ' lovely': 7585,\n",
       "          ' makes': 103052,\n",
       "          ' nice': 28996,\n",
       "          ' yet': 82826,\n",
       "          ' inexpensive': 1078,\n",
       "          ' containing': 2024,\n",
       "          ' valuable': 12297,\n",
       "          ' lessons': 10978,\n",
       "          ' anyone': 72441,\n",
       "          ' purchased': 7558,\n",
       "          ' three': 116884,\n",
       "          ' future': 41299,\n",
       "          ' giving': 26968,\n",
       "          ' special': 20530,\n",
       "          ' price': 19479,\n",
       "          ' offered': 7561,\n",
       "          'one': 8092,\n",
       "          ' literary': 18413,\n",
       "          ' books': 262213,\n",
       "          ' recall': 4392,\n",
       "          ' reading': 201445,\n",
       "          ' mother': 45729,\n",
       "          ' kept': 29316,\n",
       "          ' collection': 20002,\n",
       "          ' works': 51622,\n",
       "          ' often': 69474,\n",
       "          ' curious': 7605,\n",
       "          ' see': 147317,\n",
       "          ' attracted': 4682,\n",
       "          ' looked': 12127,\n",
       "          ' either': 43706,\n",
       "          ' eight': 18647,\n",
       "          ' nine': 20259,\n",
       "          ' time': 288720,\n",
       "          ' believe': 69028,\n",
       "          ' taste': 10662,\n",
       "          ' spirituality': 4328,\n",
       "          ' seemed': 35629,\n",
       "          ' relevant': 8373,\n",
       "          ' forcefed': 69,\n",
       "          ' nuns': 946,\n",
       "          ' catechism': 598,\n",
       "          ' class': 22264,\n",
       "          ' rereading': 2995,\n",
       "          ' im': 116864,\n",
       "          ' struck': 5151,\n",
       "          ' notion': 6559,\n",
       "          ' hesse': 312,\n",
       "          ' must': 84116,\n",
       "          ' aware': 13425,\n",
       "          ' texts': 6630,\n",
       "          ' wrote': 27255,\n",
       "          ' siddhartha': 219,\n",
       "          ' contain': 6078,\n",
       "          ' themes': 10705,\n",
       "          ' one': 660626,\n",
       "          ' else': 38923,\n",
       "          ' path': 13374,\n",
       "          ' select': 2146,\n",
       "          ' course': 59950,\n",
       "          ' preachers': 724,\n",
       "          ' dime': 779,\n",
       "          ' dozen': 4810,\n",
       "          ' true': 73076,\n",
       "          ' comes': 56298,\n",
       "          ' within': 40940,\n",
       "          ' teaching': 12712,\n",
       "          ' love': 192421,\n",
       "          ' particularly': 29928,\n",
       "          ' stage': 9053,\n",
       "          ' quot': 235935,\n",
       "          ' even': 260625,\n",
       "          ' crowns': 96,\n",
       "          ' shall': 4064,\n",
       "          ' crucify': 97,\n",
       "          ' growth': 10578,\n",
       "          ' pruning': 165,\n",
       "          ' ascends': 79,\n",
       "          ' height': 1588,\n",
       "          ' caresses': 47,\n",
       "          ' tenderest': 7,\n",
       "          ' branches': 1189,\n",
       "          ' quiver': 105,\n",
       "          ' sun': 6431,\n",
       "          ' descend': 510,\n",
       "          ' roots': 5205,\n",
       "          ' shake': 2782,\n",
       "          ' clinging': 496,\n",
       "          ' like': 403304,\n",
       "          ' sheaves': 8,\n",
       "          ' corn': 1946,\n",
       "          ' gathers': 504,\n",
       "          ' unto': 1190,\n",
       "          ' threshes': 2,\n",
       "          ' make': 175284,\n",
       "          ' naked': 3083,\n",
       "          ' sifts': 63,\n",
       "          ' free': 37043,\n",
       "          ' husks': 30,\n",
       "          ' grinds': 153,\n",
       "          ' whiteness': 111,\n",
       "          ' kneads': 5,\n",
       "          ' pliant': 38,\n",
       "          ' assigns': 343,\n",
       "          ' sacred': 4086,\n",
       "          ' fire': 14008,\n",
       "          ' may': 121560,\n",
       "          ' become': 57624,\n",
       "          ' bread': 6212,\n",
       "          ' gods': 18475,\n",
       "          ' feast': 1404,\n",
       "          ' look': 75413,\n",
       "          ' appear': 11729,\n",
       "          ' simplistic': 3931,\n",
       "          ' jaundiced': 143,\n",
       "          ' eye': 14569,\n",
       "          ' also': 267480,\n",
       "          ' provide': 22030,\n",
       "          ' inspiration': 5958,\n",
       "          ' need': 88468,\n",
       "          ' lifes': 3357,\n",
       "          ' travails': 488,\n",
       "          'prophet': 10,\n",
       "          ' best': 118474,\n",
       "          ' known': 32789,\n",
       "          ' work': 165838,\n",
       "          ' western': 17782,\n",
       "          ' world': 183169,\n",
       "          ' twenty-five': 6757,\n",
       "          ' million': 9966,\n",
       "          ' copies': 5061,\n",
       "          ' sold': 6198,\n",
       "          ' said': 62995,\n",
       "          ' spent': 21312,\n",
       "          ' twenty': 21763,\n",
       "          ' held': 12901,\n",
       "          ' onto': 7436,\n",
       "          ' manuscript': 2793,\n",
       "          ' four': 68297,\n",
       "          ' finally': 43007,\n",
       "          ' releasing': 835,\n",
       "          ' publication': 5808,\n",
       "          ' referred': 4255,\n",
       "          ' strange': 15392,\n",
       "          ' little': 148494,\n",
       "          ' black': 31445,\n",
       "          ' reference': 18777,\n",
       "          ' working': 29648,\n",
       "          ' counsels': 177,\n",
       "          ' final': 25415,\n",
       "          ' consisting': 832,\n",
       "          ' twenty-six': 2101,\n",
       "          ' verses': 2442,\n",
       "          ' philosophy': 18928,\n",
       "          ' east': 12344,\n",
       "          ' west': 15209,\n",
       "          ' meet': 18724,\n",
       "          ' union': 9094,\n",
       "          ' unparalleled': 536,\n",
       "          ' literature': 20031,\n",
       "          ' early': 44620,\n",
       "          ' 20th': 7263,\n",
       "          ' acknowledged': 1545,\n",
       "          ' multitude': 1372,\n",
       "          ' writers': 25669,\n",
       "          ' evident': 4099,\n",
       "          ' throughout': 39746,\n",
       "          ' notably': 2292,\n",
       "          ' visions': 2873,\n",
       "          ' william': 9752,\n",
       "          ' blake': 2845,\n",
       "          ' poetprophet': 2,\n",
       "          ' parexcellence': 4,\n",
       "          ' incidentally': 1162,\n",
       "          ' kahlils': 1,\n",
       "          ' mentors': 582,\n",
       "          ' sculptor': 227,\n",
       "          ' rodin': 21,\n",
       "          ' called': 32767,\n",
       "          ' heavily': 5855,\n",
       "          ' bible': 35390,\n",
       "          ' buddhism': 3454,\n",
       "          ' hinduism': 699,\n",
       "          ' romantics': 203,\n",
       "          ' ralph': 1289,\n",
       "          ' waldo': 238,\n",
       "          ' emerson': 1137,\n",
       "          ' walt': 1001,\n",
       "          ' whitman': 485,\n",
       "          ' friedrich': 273,\n",
       "          ' nietzsche': 1716,\n",
       "          ' ameen': 2,\n",
       "          ' rihani': 1,\n",
       "          ' christian': 39913,\n",
       "          ' mysticism': 1505,\n",
       "          ' published': 24938,\n",
       "          ' critic': 2268,\n",
       "          ' claude': 436,\n",
       "          ' bragdon': 1,\n",
       "          ' extraordinary': 6950,\n",
       "          ' dramatic': 6172,\n",
       "          ' power': 49773,\n",
       "          ' deep': 24722,\n",
       "          ' erudition': 658,\n",
       "          ' lightninglike': 1,\n",
       "          ' intuition': 1978,\n",
       "          ' lyrical': 2092,\n",
       "          ' lift': 1402,\n",
       "          ' metrical': 20,\n",
       "          ' mastery': 1812,\n",
       "          ' message': 19255,\n",
       "          ' presented': 19947,\n",
       "          ' beauty': 14181,\n",
       "          ' permeates': 647,\n",
       "          ' entire': 33404,\n",
       "          ' pattern': 6912,\n",
       "          ' wow': 6309,\n",
       "          ' thats': 63516,\n",
       "          ' powerful': 24350,\n",
       "          ' critique': 4331,\n",
       "          ' lets': 15670,\n",
       "          ' listen': 8511,\n",
       "          ' close': 26288,\n",
       "          ' friend': 37370,\n",
       "          ' biographers': 721,\n",
       "          ' mary': 14287,\n",
       "          ' haskell': 154,\n",
       "          ' received': 13553,\n",
       "          ' copy': 24156,\n",
       "          ' beloved': 6168,\n",
       "          ' came': 44175,\n",
       "          ' today': 35749,\n",
       "          ' realize': 20261,\n",
       "          ' hopes': 8351,\n",
       "          ' compacted': 52,\n",
       "          ' form': 27771,\n",
       "          ' open': 25266,\n",
       "          ' doors': 2662,\n",
       "          ' desire': 14230,\n",
       "          ' imagination': 9411,\n",
       "          ' create': 22516,\n",
       "          ' universe': 16759,\n",
       "          ' nimbus': 24,\n",
       "          ' treasures': 1099,\n",
       "          ' darkness': 5921,\n",
       "          ' find': 150494,\n",
       "          ' heaven': 7742,\n",
       "          ' generations': 5820,\n",
       "          ' exhaust': 212,\n",
       "          ' instead': 57287,\n",
       "          ' generation': 10150,\n",
       "          ' would': 356268,\n",
       "          ' fain': 23,\n",
       "          ' better': 118517,\n",
       "          ' men': 58630,\n",
       "          ' grow': 12475,\n",
       "          ' riper': 18,\n",
       "          ' loving': 11315,\n",
       "          ' ever': 82810,\n",
       "          ' add': 23543,\n",
       "          ' good': 262358,\n",
       "          ' point': 95304,\n",
       "          'gibran': 2,\n",
       "          ' khalil': 69,\n",
       "          ' born': 13662,\n",
       "          ' one thousand': 90918,\n",
       "          ' eight hundred and eighty-three': 110,\n",
       "          ' northern': 3797,\n",
       "          ' nine hundred and nine': 168,\n",
       "          ' went': 34049,\n",
       "          ' paris': 7055,\n",
       "          ' study': 29008,\n",
       "          ' strict': 2497,\n",
       "          ' education': 15747,\n",
       "          ' traveled': 2162,\n",
       "          ' eventually': 19178,\n",
       "          ' moving': 17356,\n",
       "          ' york': 17801,\n",
       "          ' became': 28891,\n",
       "          ' artist': 8053,\n",
       "          ' writer': 43923,\n",
       "          ' nine hundred and twenty-three': 256,\n",
       "          ' generally': 13537,\n",
       "          ' considered': 14568,\n",
       "          ' greatest': 14929,\n",
       "          ' died': 15347,\n",
       "          ' cancer': 8630,\n",
       "          ' hospital': 6144,\n",
       "          ' young': 64432,\n",
       "          ' age': 37522,\n",
       "          ' forty-eight': 1179,\n",
       "          ' story': 366204,\n",
       "          ' almustafa': 5,\n",
       "          ' living': 40856,\n",
       "          ' twelve': 14234,\n",
       "          ' orphalese': 3,\n",
       "          ' depart': 344,\n",
       "          ' aboard': 1080,\n",
       "          ' ship': 7253,\n",
       "          ' return': 17844,\n",
       "          ' home': 54633,\n",
       "          ' goes': 47903,\n",
       "          ' group': 28599,\n",
       "          ' people': 246638,\n",
       "          ' stop': 26236,\n",
       "          ' teaches': 6728,\n",
       "          ' secrets': 12715,\n",
       "          ' writes': 32726,\n",
       "          ' poetic': 4112,\n",
       "          ' manner': 14484,\n",
       "          ' wonderful': 44488,\n",
       "          'days': 134,\n",
       "          ' gets': 43637,\n",
       "          ' dismissed': 1986,\n",
       "          ' hippie': 704,\n",
       "          ' bestseller': 2214,\n",
       "          ' long': 93983,\n",
       "          ' 1960s': 3457,\n",
       "          ' almost': 71686,\n",
       "          ' instantly': 3637,\n",
       "          ' hit': 13471,\n",
       "          ' well': 247783,\n",
       "          ' great': 194213,\n",
       "          ' depression': 9084,\n",
       "          ' claim': 14336,\n",
       "          ' fame': 4015,\n",
       "          ' third': 27341,\n",
       "          ' bestselling': 2025,\n",
       "          ' poet': 3322,\n",
       "          ' behind': 31353,\n",
       "          ' shakespeare': 4307,\n",
       "          ' lao': 233,\n",
       "          ' tzu': 404,\n",
       "          ' pretty': 44277,\n",
       "          ' entirely': 12527,\n",
       "          ' based': 39242,\n",
       "          ' sales': 5466,\n",
       "          ' publisher': 8869,\n",
       "          ' alfred': 1222,\n",
       "          ' knopf': 200,\n",
       "          ' asked': 11954,\n",
       "          ' audience': 13195,\n",
       "          ' flippantly': 64,\n",
       "          ' question': 33253,\n",
       "          ' cult': 3511,\n",
       "          ' retorted': 27,\n",
       "          ' whats': 17491,\n",
       "          ' incredible': 11392,\n",
       "          ' theres': 45585,\n",
       "          ' absolutely': 23031,\n",
       "          ' marketing': 7558,\n",
       "          ' hype': 2838,\n",
       "          ' success': 19983,\n",
       "          ' gone': 19028,\n",
       "          ' political': 47655,\n",
       "          ' religious': 26530,\n",
       "          ' commercial': 3172,\n",
       "          ' enterprise': 2310,\n",
       "          ' attached': 2953,\n",
       "          ' name': 35655,\n",
       "          ' bent': 2515,\n",
       "          ' winning': 5177,\n",
       "          ' souls': 5273,\n",
       "          ' profits': 2340,\n",
       "          ' estate': 5826,\n",
       "          ' merely': 12074,\n",
       "          ' licensing': 187,\n",
       "          ' year': 50847,\n",
       "          ' response': 8692,\n",
       "          ' demand': 4376,\n",
       "          ' fueled': 885,\n",
       "          ' wordofmouth': 95,\n",
       "          ' chance': 19270,\n",
       "          ' discovery': 6943,\n",
       "          ' fact': 90100,\n",
       "          ' twentysix': 187,\n",
       "          ' poems': 3352,\n",
       "          ' surprising': 7190,\n",
       "          ' suprassing': 1,\n",
       "          ' relevance': 2026,\n",
       "          ' insight': 18964,\n",
       "          ' compassion': 5495,\n",
       "          ' broken': 9893,\n",
       "          ' several': 59350,\n",
       "          ' topics': 14968,\n",
       "          ' joy': 10776,\n",
       "          ' sorrow': 1855,\n",
       "          ' etc': 45972,\n",
       "          ' recounts': 2561,\n",
       "          ' sermons': 900,\n",
       "          ' fictional': 7689,\n",
       "          ' leaving': 12510,\n",
       "          ' knowledge': 32566,\n",
       "          ' leaves': 17636,\n",
       "          ' homeland': 1769,\n",
       "          ' found': 130947,\n",
       "          ' setting': 19110,\n",
       "          ' poem': 3056,\n",
       "          ' children': 56198,\n",
       "          ' local': 17875,\n",
       "          ' washington': 9565,\n",
       "          ' c': 18335,\n",
       "          ' singers': 578,\n",
       "          ' sweet': 13468,\n",
       "          ' honey': 1512,\n",
       "          ' rock': 7159,\n",
       "          ' album': 1215,\n",
       "          ' breaths': 196,\n",
       "          ' sons': 6342,\n",
       "          ' daughters': 6699,\n",
       "          ' longing': 2124,\n",
       "          ' come': 86985,\n",
       "          ' though': 102985,\n",
       "          ' belong': 2913,\n",
       "          ' leave': 26118,\n",
       "          ' college': 20060,\n",
       "          ' eighteen': 6364,\n",
       "          ' parents': 32076,\n",
       "          ' roof': 1079,\n",
       "          ' made': 116109,\n",
       "          ' restless': 681,\n",
       "          ' autonomy': 512,\n",
       "          ' eloquently': 1208,\n",
       "          ' expressed': 4183,\n",
       "          ' everything': 62561,\n",
       "          ' yearning': 1026,\n",
       "          ' say': 118413,\n",
       "          ' hours': 18009,\n",
       "          ' frustration': 3715,\n",
       "          ' adolescent': 1827,\n",
       "          ' angst': 3361,\n",
       "          ' later': 45714,\n",
       "          ' proved': 4100,\n",
       "          ' turn': 29874,\n",
       "          ' needed': 26066,\n",
       "          ' confidence': 5004,\n",
       "          ' live': 45355,\n",
       "          ' independent': 6992,\n",
       "          ' fulfilling': 1677,\n",
       "          ' still': 121858,\n",
       "          ' maintaining': 2503,\n",
       "          ' respect': 16466,\n",
       "          ' towards': 18519,\n",
       "          ' raised': 9883,\n",
       "          ' understate': 269,\n",
       "          ' grounded': 1949,\n",
       "          ' sane': 1319,\n",
       "          ' troubling': 1732,\n",
       "          ' modern': 40355,\n",
       "          ' lives': 57198,\n",
       "          ' hectic': 364,\n",
       "          ' stressful': 796,\n",
       "          ' busy': 4846,\n",
       "          ' wrought': 918,\n",
       "          ' drama': 10507,\n",
       "          ' brings': 18154,\n",
       "          ' back': 121740,\n",
       "          ' middle': 28913,\n",
       "          ' ground': 12261,\n",
       "          ' sage': 1218,\n",
       "          ' clarity': 5037,\n",
       "          ' helpful': 22086,\n",
       "          ' unwinding': 134,\n",
       "          ' coming': 28289,\n",
       "          ' bring': 23597,\n",
       "          ' whcih': 23,\n",
       "          ' wider': 1981,\n",
       "          ' despite': 30572,\n",
       "          ' conceit': 644,\n",
       "          ' really': 227708,\n",
       "          ' applicable': 1789,\n",
       "          ' atheist': 3465,\n",
       "          ' poetry': 6726,\n",
       "          ' mostly': 21698,\n",
       "          ' imagistic': 18,\n",
       "          ' expect': 24809,\n",
       "          ' academic': 9446,\n",
       "          ' poetics': 79,\n",
       "          ' contemporaries': 1272,\n",
       "          ' eliot': 1016,\n",
       "          ' pound': 1640,\n",
       "          ' frost': 1060,\n",
       "          ' aim': 2328,\n",
       "          ' accessible': 6918,\n",
       "          ' immediate': 4246,\n",
       "          ' reader': 112432,\n",
       "          ' rely': 3658,\n",
       "          ' clear': 45289,\n",
       "          ' metaphors': 2456,\n",
       "          ' vivid': 8311,\n",
       "          ' imagery': 3477,\n",
       "          ' hard': 67709,\n",
       "          ' perhaps': 52693,\n",
       "          ' check': 14460,\n",
       "          ' table': 9988,\n",
       "          ' contexts': 712,\n",
       "          ' using': 40500,\n",
       "          ' amazons': 1197,\n",
       "          ' search': 14826,\n",
       "          ' inside': 18504,\n",
       "          ' feature': 4893,\n",
       "          ' bookstore': 4368,\n",
       "          ' addresses': 5249,\n",
       "          ' problem': 51223,\n",
       "          ' issue': 23007,\n",
       "          ' dealing': 12821,\n",
       "          ' start': 50677,\n",
       "          ' chances': 2911,\n",
       "          ' something': 111464,\n",
       "          ' speaks': 7597,\n",
       "          ' level': 31646,\n",
       "          'book': 39530,\n",
       "          ' took': 37950,\n",
       "          ' pains': 1901,\n",
       "          ' joys': 1396,\n",
       "          ' millions': 7662,\n",
       "          ' somehow': 13981,\n",
       "          ' managed': 8836,\n",
       "          ' encapsulate': 168,\n",
       "          ' wonders': 4749,\n",
       "          ' unique': 22608,\n",
       "          ' explored': 3889,\n",
       "          ' every': 110779,\n",
       "          ' facet': 804,\n",
       "          ' human': 67423,\n",
       "          ' existence': 12159,\n",
       "          ' although': 60539,\n",
       "          ' charm': 3876,\n",
       "          ' universal': 5189,\n",
       "          ' appeal': 8605,\n",
       "          ' allow': 12616,\n",
       "          ' persuassion': 4,\n",
       "          ' enjoy': 48354,\n",
       "          ' gem': 3343,\n",
       "          ' wouldnt': 21011,\n",
       "          ' surprised': 15394,\n",
       "          ' hundred': 10160,\n",
       "          ' theologians': 1305,\n",
       "          ' unearth': 220,\n",
       "          ' conclude': 2675,\n",
       "          'certainly': 292,\n",
       "          ' words': 54065,\n",
       "          ' eternally': 523,\n",
       "          ' present': 29667,\n",
       "          ' divine': 6251,\n",
       "          ' told': 40729,\n",
       "          ' source': 14423,\n",
       "          ' sources': 15288,\n",
       "          ' ready': 12375,\n",
       "          ' receive': 4952,\n",
       "          ' destined': 2266,\n",
       "          ' know': 174454,\n",
       "          ' meaning': 18088,\n",
       "          ' meanings': 2406,\n",
       "          ' five': 74363,\n",
       "          ' valued': 942,\n",
       "          ' keep': 63258,\n",
       "          ' refering': 132,\n",
       "          ' solace': 882,\n",
       "          ' peace': 14062,\n",
       "          ' rather': 79423,\n",
       "          ' instrument': 1092,\n",
       "          ' write': 47714,\n",
       "          ' reached': 5287,\n",
       "          ' original': 30600,\n",
       "          ' available': 18457,\n",
       "          ' humankind': 996,\n",
       "          ' music': 15818,\n",
       "          ' truth': 41326,\n",
       "          ' salute': 434,\n",
       "          ' us': 173063,\n",
       "          ' dispenses': 202,\n",
       "          ' ultimate': 9177,\n",
       "          ' ones': 39919,\n",
       "          ' bids': 143,\n",
       "          ' fare': 1851,\n",
       "          ' defines': 2288,\n",
       "          ' never': 154869,\n",
       "          ' define': 3596,\n",
       "          ' appropriately': 1552,\n",
       "          ' sense': 65599,\n",
       "          ' discovered': 11419,\n",
       "          ' refused': 3274,\n",
       "          ' rush': 4418,\n",
       "          ' lesson': 7511,\n",
       "          ' understanding': 37558,\n",
       "          ' ability': 22860,\n",
       "          ' way': 222005,\n",
       "          ' everyday': 7862,\n",
       "          ' dispense': 265,\n",
       "          ' ending': 35858,\n",
       "          ' treasure': 4865,\n",
       "          ' myth': 7694,\n",
       "          ' whose': 28625,\n",
       "          ' word': 39411,\n",
       "          ' drips': 184,\n",
       "          ' thought': 88804,\n",
       "          ' swimming': 1184,\n",
       "          ' realitybut': 4,\n",
       "          ' reality': 27716,\n",
       "          ' till': 3802,\n",
       "          ' knew': 32928,\n",
       "          ' shared': 6789,\n",
       "          ' bit': 75206,\n",
       "          ' wonder': 22621,\n",
       "          ' simplicity': 2912,\n",
       "          ' preaching': 2441,\n",
       "          ' able': 50575,\n",
       "          ' feel': 89215,\n",
       "          ' gut': 2014,\n",
       "          ' characters': 208572,\n",
       "          ' unsurpassed': 265,\n",
       "          ' speaking': 9807,\n",
       "          ' ways': 38925,\n",
       "          ' weakest': 1386,\n",
       "          ' prayer': 7008,\n",
       "          ' certainly': 41823,\n",
       "          ' relies': 2447,\n",
       "          ' jesus': 38064,\n",
       "          ' allusions': 1044,\n",
       "          ' wordsand': 15,\n",
       "          ' actions': 19361,\n",
       "          ' wineskin': 10,\n",
       "          ' right': 95926,\n",
       "          ' bedrock': 302,\n",
       "          ' obviously': 17784,\n",
       "          ' enlightened': 2339,\n",
       "          ' completely': 35612,\n",
       "          ' psychologically': 1115,\n",
       "          ' spiritually': 1684,\n",
       "          ' healthy': 12514,\n",
       "          ' consider': 20270,\n",
       "          ' standard': 13209,\n",
       "          ' simply': 55443,\n",
       "          ' simpleminded': 254,\n",
       "          ' high': 49320,\n",
       "          ' school': 43037,\n",
       "          ' students': 18502,\n",
       "          ' gaining': 1891,\n",
       "          ' ten': 35808,\n",
       "          ' typically': 3689,\n",
       "          ' remind': 4137,\n",
       "          ' however': 113908,\n",
       "          ' gave': 28878,\n",
       "          ' son': 29177,\n",
       "          ' showed': 6920,\n",
       "          ' signs': 4328,\n",
       "          ' risk': 10376,\n",
       "          ' seventeen': 5489,\n",
       "          ' significant': 11348,\n",
       "          ' positive': 18276,\n",
       "          ' impact': 12415,\n",
       "          ' responsible': 7815,\n",
       "          ' balanced': 6243,\n",
       "          ' telephone': 991,\n",
       "          ' evening': 3884,\n",
       "          ' passages': 9368,\n",
       "          ' think': 171969,\n",
       "          ' get': 224609,\n",
       "          ' teenager': 4292,\n",
       "          ' thing': 77312,\n",
       "          'kahlil': 1,\n",
       "          ' eighteen million': 894,\n",
       "          ' eight hundred and thirty-one thousand': 32,\n",
       "          ' nine hundred and thirty-one': 292,\n",
       "          ' lebaneseamerican': 6,\n",
       "          ' mystic': 1190,\n",
       "          ' anything': 61177,\n",
       "          ' finer': 739,\n",
       "          ' volume': 20537,\n",
       "          ' masterwork': 368,\n",
       "          ' nothing': 71559,\n",
       "          ' beyond': 29468,\n",
       "          ' remembered': 3248,\n",
       "          ' perpetuity': 52,\n",
       "          ' brief': 13648,\n",
       "          ' chapter': 76828,\n",
       "          ' aspect': 12936,\n",
       "          ' condition': 6263,\n",
       "          ' including': 38088,\n",
       "          ' marriage': 25430,\n",
       "          ' pleasure': 10763,\n",
       "          ' buying': 13328,\n",
       "          ' selling': 6723,\n",
       "          ' eating': 14831,\n",
       "          ' drinking': 4928,\n",
       "          ' espouses': 370,\n",
       "          ' particular': 27387,\n",
       "          ' ethical': 3217,\n",
       "          ' moral': 16063,\n",
       "          ' system': 33295,\n",
       "          ' includes': 17343,\n",
       "          ' slim': 2161,\n",
       "          ' tome': 3491,\n",
       "          ' seems': 84636,\n",
       "          ' quill': 146,\n",
       "          ' light': 33559,\n",
       "          ' ink': 1626,\n",
       "          ' higher': 11642,\n",
       "          ' whatever': 17387,\n",
       "          ' call': 26308,\n",
       "          ' spoke': 3905,\n",
       "          ' perfect': 32477,\n",
       "          ' letter': 7460,\n",
       "          ' ages': 8070,\n",
       "          ' expression': 3708,\n",
       "          ' humanity': 10560,\n",
       "          'father': 158,\n",
       "          ' huge': 21031,\n",
       "          ' remember': 23278,\n",
       "          ' around': 74548,\n",
       "          ' amidst': 1289,\n",
       "          ' sea': 9537,\n",
       "          ' small': 44738,\n",
       "          ' sit': 7445,\n",
       "          ' changed': 18842,\n",
       "          ' talks': 11501,\n",
       "          ' friendship': 8276,\n",
       "          ' death': 53057,\n",
       "          ' answers': 15212,\n",
       "          ' spend': 16487,\n",
       "          ' searching': 5817,\n",
       "          ' tells': 31538,\n",
       "          ' things': 130557,\n",
       "          ' already': 49910,\n",
       "          ' heads': 5681,\n",
       "          ' dont': 178867,\n",
       "          ' ignoring': 2844,\n",
       "          ' default': 1558,\n",
       "          ' go': 103632,\n",
       "          ' doesnt': 96369,\n",
       "          ' follow': 32577,\n",
       "          ' teacher': 11625,\n",
       "          ' despised': 897,\n",
       "          ' talking': 17408,\n",
       "          ' favorite': 33011,\n",
       "          ' got': 66283,\n",
       "          ' excited': 8055,\n",
       "          ' thinking': 42378,\n",
       "          ' common': 27676,\n",
       "          ' someone': 59975,\n",
       "          ' despise': 1000,\n",
       "          ' guess': 17924,\n",
       "          ' forget': 15355,\n",
       "          ' waited': 2698,\n",
       "          ' coastal': 555,\n",
       "          ' town': 22097,\n",
       "          ' bear': 7018,\n",
       "          ' misses': 2547,\n",
       "          ' waiting': 14134,\n",
       "          ' knows': 33586,\n",
       "          ' mystery': 40316,\n",
       "          ' departs': 327,\n",
       "          ' townspeople': 534,\n",
       "          ' gather': 2085,\n",
       "          ' wish': 29118,\n",
       "          ' seeress': 20,\n",
       "          ' asks': 7372,\n",
       "          ' share': 17483,\n",
       "          ' endure': 2567,\n",
       "          ' reveals': 7717,\n",
       "          ' pain': 16722,\n",
       "          ' profound': 7867,\n",
       "          ' advice': 26360,\n",
       "          ' judge': 7586,\n",
       "          ' together': 59235,\n",
       "          ' forevermore': 56,\n",
       "          ' white': 29934,\n",
       "          ' wings': 1954,\n",
       "          ' scatter': 144,\n",
       "          ' days': 39964,\n",
       "          ' aye': 71,\n",
       "          ' silent': 3270,\n",
       "          ' memory': 11492,\n",
       "          ' god': 77445,\n",
       "          ' let': 44010,\n",
       "          ' spaces': 1255,\n",
       "          ' togetherness': 128,\n",
       "          ' winds': 1839,\n",
       "          ' heavens': 1280,\n",
       "          ' dance': 3690,\n",
       "          ' another': 114078,\n",
       "          ' bond': 5905,\n",
       "          ' shores': 647,\n",
       "          ' fill': 6766,\n",
       "          ' others': 79402,\n",
       "          ' cup': 3638,\n",
       "          ' drink': 4861,\n",
       "          ' give': 88949,\n",
       "          ' eat': 18186,\n",
       "          ' loaf': 629,\n",
       "          ' sing': 1669,\n",
       "          ' joyous': 433,\n",
       "          ' alone': 28266,\n",
       "          ' strings': 1558,\n",
       "          ' lute': 52,\n",
       "          ' hearts': 5496,\n",
       "          ' keeping': 12032,\n",
       "          ' hand': 32992,\n",
       "          ' stand': 19026,\n",
       "          ' near': 16645,\n",
       "          ' pillars': 863,\n",
       "          ' temple': 3026,\n",
       "          ' apart': 12502,\n",
       "          ' oak': 482,\n",
       "          ' tree': 5376,\n",
       "          ' cypress': 67,\n",
       "          ' shadow': 5540,\n",
       "          ' similar': 22780,\n",
       "          ' thetao': 4,\n",
       "          ' te': 455,\n",
       "          ' ching': 621,\n",
       "          ' perennial': 513,\n",
       "          ' classics': 4027,\n",
       "          ' border': 2814,\n",
       "          ' guard': 3457,\n",
       "          ' recognises': 115,\n",
       "          ' exile': 1653,\n",
       "          ' five hundred': 5798,\n",
       "          ' translated': 3499,\n",
       "          ' tao': 1181,\n",
       "          ' contains': 14741,\n",
       "          ' principles': 11010,\n",
       "          ' use': 85284,\n",
       "          ' youre': 48012,\n",
       "          ' ego': 3821,\n",
       "          ' opens': 6840,\n",
       "          ' recommend': 76790,\n",
       "          ' stephen': 7924,\n",
       "          ' mitchell': 1826,\n",
       "          ' hope': 43943,\n",
       "          ' useful': 25374,\n",
       "          ' menu': 1478,\n",
       "          ' lebanese': 256,\n",
       "          ' restaurant': 4021,\n",
       "          ' sought': 3686,\n",
       "          ' fully': 16620,\n",
       "          ' parts': 29955,\n",
       "          ' barely': 8785,\n",
       "          ' touch': 11878,\n",
       "          ' onlove': 1,\n",
       "          ' insecurities': 1260,\n",
       "          ' doubts': 3433,\n",
       "          ' going': 98901,\n",
       "          ' rough': 4380,\n",
       "          ' unanswered': 1988,\n",
       "          ' questions': 34239,\n",
       "          ' certain': 30689,\n",
       "          ' lucid': 2131,\n",
       "          ' insightful': 8045,\n",
       "          ' foodi': 2,\n",
       "          ' thankfully': 3110,\n",
       "          ' given': 55054,\n",
       "          ' journeyed': 169,\n",
       "          ' overseas': 1274,\n",
       "          ' spiritual': 21093,\n",
       "          ' quest': 8221,\n",
       "          ' month': 7841,\n",
       "          ' lost': 41479,\n",
       "          ' job': 57953,\n",
       "          ' relationship': 46202,\n",
       "          ' unsteady': 72,\n",
       "          ' felt': 61444,\n",
       "          ' isolated': 3059,\n",
       "          ' skipping': 2568,\n",
       "          ' sections': 14005,\n",
       "          ' immediately': 16463,\n",
       "          ' pertained': 79,\n",
       "          ' cried': 2829,\n",
       "          ' safe': 9128,\n",
       "          ' sadness': 2903,\n",
       "          ' enlightenment': 3948,\n",
       "          ' experiences': 19789,\n",
       "          ' thoughts': 20884,\n",
       "          ' detailed': 19956,\n",
       "          ' accounts': 9841,\n",
       "          ' applies': 2920,\n",
       "          ' everyone': 45962,\n",
       "          ' writings': 8790,\n",
       "          ' layers': 3181,\n",
       "          ' therefore': 13687,\n",
       "          ' breaking': 5351,\n",
       "          ' shell': 3827,\n",
       "          ' encloses': 21,\n",
       "          'atheist': 38,\n",
       "          ' seem': 52005,\n",
       "          ' holds': 7607,\n",
       "          ' references': 15387,\n",
       "          ' walks': 4109,\n",
       "          ' relate': 9471,\n",
       "          ' prose': 19494,\n",
       "          ' greatly': 7099,\n",
       "          ' celebrated': 1483,\n",
       "          ' countries': 11446,\n",
       "          ' simple': 38601,\n",
       "          ' biting': 1375,\n",
       "          ' phrases': 4416,\n",
       "          ' sentences': 8535,\n",
       "          ' legacy': 4330,\n",
       "          ' thoughtaltering': 1,\n",
       "          ' quote': 8216,\n",
       "          ' uses': 23781,\n",
       "          ' short': 56837,\n",
       "          ' lines': 15636,\n",
       "          ' freestyle': 48,\n",
       "          ' rich': 22733,\n",
       "          ' medium': 2600,\n",
       "          ' deliver': 4632,\n",
       "          ' section': 30151,\n",
       "          ...})"
      ]
     },
     "execution_count": 21,
     "metadata": {},
     "output_type": "execute_result"
    }
   ],
   "source": [
    "fd"
   ]
  },
  {
   "cell_type": "code",
   "execution_count": 22,
   "metadata": {
    "collapsed": true,
    "jupyter": {
     "outputs_hidden": true
    }
   },
   "outputs": [],
   "source": [
    "words = []\n",
    "freqs = []"
   ]
  },
  {
   "cell_type": "code",
   "execution_count": 23,
   "metadata": {
    "collapsed": true
   },
   "outputs": [],
   "source": [
    "for rank, word in enumerate(fd):\n",
    "    words.append(word)\n",
    "    freqs.append(fd[word])"
   ]
  },
  {
   "cell_type": "code",
   "execution_count": 24,
   "metadata": {
    "collapsed": true
   },
   "outputs": [],
   "source": [
    "frequencies = {'word': words, 'frequency':freqs}\n",
    "frequencies_df = pd.DataFrame(frequencies)"
   ]
  },
  {
   "cell_type": "code",
   "execution_count": 25,
   "metadata": {},
   "outputs": [
    {
     "data": {
      "text/html": [
       "<div>\n",
       "<style scoped>\n",
       "    .dataframe tbody tr th:only-of-type {\n",
       "        vertical-align: middle;\n",
       "    }\n",
       "\n",
       "    .dataframe tbody tr th {\n",
       "        vertical-align: top;\n",
       "    }\n",
       "\n",
       "    .dataframe thead th {\n",
       "        text-align: right;\n",
       "    }\n",
       "</style>\n",
       "<table border=\"1\" class=\"dataframe\">\n",
       "  <thead>\n",
       "    <tr style=\"text-align: right;\">\n",
       "      <th></th>\n",
       "      <th>word</th>\n",
       "      <th>frequency</th>\n",
       "    </tr>\n",
       "  </thead>\n",
       "  <tbody>\n",
       "    <tr>\n",
       "      <th>0</th>\n",
       "      <td>book</td>\n",
       "      <td>1503414</td>\n",
       "    </tr>\n",
       "    <tr>\n",
       "      <th>1</th>\n",
       "      <td>one</td>\n",
       "      <td>660626</td>\n",
       "    </tr>\n",
       "    <tr>\n",
       "      <th>2</th>\n",
       "      <td>read</td>\n",
       "      <td>484457</td>\n",
       "    </tr>\n",
       "    <tr>\n",
       "      <th>3</th>\n",
       "      <td>like</td>\n",
       "      <td>403304</td>\n",
       "    </tr>\n",
       "    <tr>\n",
       "      <th>4</th>\n",
       "      <td>story</td>\n",
       "      <td>366204</td>\n",
       "    </tr>\n",
       "  </tbody>\n",
       "</table>\n",
       "</div>"
      ],
      "text/plain": [
       "     word  frequency\n",
       "0    book    1503414\n",
       "1     one     660626\n",
       "2    read     484457\n",
       "3    like     403304\n",
       "4   story     366204"
      ]
     },
     "execution_count": 25,
     "metadata": {},
     "output_type": "execute_result"
    }
   ],
   "source": [
    "frequencies_df.head()"
   ]
  },
  {
   "cell_type": "code",
   "execution_count": 26,
   "metadata": {
    "collapsed": true
   },
   "outputs": [],
   "source": [
    "frequencies_df = frequencies_df.sort_values(['frequency'], ascending=[False])\n",
    "frequencies_df = frequencies_df.reset_index()\n",
    "frequencies_df = frequencies_df.drop(columns=['index'])"
   ]
  },
  {
   "cell_type": "code",
   "execution_count": 27,
   "metadata": {},
   "outputs": [
    {
     "data": {
      "text/html": [
       "<div>\n",
       "<style scoped>\n",
       "    .dataframe tbody tr th:only-of-type {\n",
       "        vertical-align: middle;\n",
       "    }\n",
       "\n",
       "    .dataframe tbody tr th {\n",
       "        vertical-align: top;\n",
       "    }\n",
       "\n",
       "    .dataframe thead th {\n",
       "        text-align: right;\n",
       "    }\n",
       "</style>\n",
       "<table border=\"1\" class=\"dataframe\">\n",
       "  <thead>\n",
       "    <tr style=\"text-align: right;\">\n",
       "      <th></th>\n",
       "      <th>word</th>\n",
       "      <th>frequency</th>\n",
       "    </tr>\n",
       "  </thead>\n",
       "  <tbody>\n",
       "    <tr>\n",
       "      <th>0</th>\n",
       "      <td>book</td>\n",
       "      <td>1503414</td>\n",
       "    </tr>\n",
       "    <tr>\n",
       "      <th>1</th>\n",
       "      <td>one</td>\n",
       "      <td>660626</td>\n",
       "    </tr>\n",
       "    <tr>\n",
       "      <th>2</th>\n",
       "      <td>read</td>\n",
       "      <td>484457</td>\n",
       "    </tr>\n",
       "    <tr>\n",
       "      <th>3</th>\n",
       "      <td>like</td>\n",
       "      <td>403304</td>\n",
       "    </tr>\n",
       "    <tr>\n",
       "      <th>4</th>\n",
       "      <td>story</td>\n",
       "      <td>366204</td>\n",
       "    </tr>\n",
       "    <tr>\n",
       "      <th>5</th>\n",
       "      <td>would</td>\n",
       "      <td>356268</td>\n",
       "    </tr>\n",
       "    <tr>\n",
       "      <th>6</th>\n",
       "      <td>time</td>\n",
       "      <td>288720</td>\n",
       "    </tr>\n",
       "    <tr>\n",
       "      <th>7</th>\n",
       "      <td>many</td>\n",
       "      <td>273700</td>\n",
       "    </tr>\n",
       "    <tr>\n",
       "      <th>8</th>\n",
       "      <td>much</td>\n",
       "      <td>269783</td>\n",
       "    </tr>\n",
       "    <tr>\n",
       "      <th>9</th>\n",
       "      <td>also</td>\n",
       "      <td>267480</td>\n",
       "    </tr>\n",
       "    <tr>\n",
       "      <th>10</th>\n",
       "      <td>good</td>\n",
       "      <td>262358</td>\n",
       "    </tr>\n",
       "    <tr>\n",
       "      <th>11</th>\n",
       "      <td>books</td>\n",
       "      <td>262213</td>\n",
       "    </tr>\n",
       "    <tr>\n",
       "      <th>12</th>\n",
       "      <td>even</td>\n",
       "      <td>260625</td>\n",
       "    </tr>\n",
       "    <tr>\n",
       "      <th>13</th>\n",
       "      <td>life</td>\n",
       "      <td>259771</td>\n",
       "    </tr>\n",
       "    <tr>\n",
       "      <th>14</th>\n",
       "      <td>well</td>\n",
       "      <td>247783</td>\n",
       "    </tr>\n",
       "    <tr>\n",
       "      <th>15</th>\n",
       "      <td>people</td>\n",
       "      <td>246638</td>\n",
       "    </tr>\n",
       "    <tr>\n",
       "      <th>16</th>\n",
       "      <td>first</td>\n",
       "      <td>245271</td>\n",
       "    </tr>\n",
       "    <tr>\n",
       "      <th>17</th>\n",
       "      <td>quot</td>\n",
       "      <td>235935</td>\n",
       "    </tr>\n",
       "    <tr>\n",
       "      <th>18</th>\n",
       "      <td>really</td>\n",
       "      <td>227708</td>\n",
       "    </tr>\n",
       "    <tr>\n",
       "      <th>19</th>\n",
       "      <td>get</td>\n",
       "      <td>224609</td>\n",
       "    </tr>\n",
       "  </tbody>\n",
       "</table>\n",
       "</div>"
      ],
      "text/plain": [
       "       word  frequency\n",
       "0      book    1503414\n",
       "1       one     660626\n",
       "2      read     484457\n",
       "3      like     403304\n",
       "4     story     366204\n",
       "5     would     356268\n",
       "6      time     288720\n",
       "7      many     273700\n",
       "8      much     269783\n",
       "9      also     267480\n",
       "10     good     262358\n",
       "11    books     262213\n",
       "12     even     260625\n",
       "13     life     259771\n",
       "14     well     247783\n",
       "15   people     246638\n",
       "16    first     245271\n",
       "17     quot     235935\n",
       "18   really     227708\n",
       "19      get     224609"
      ]
     },
     "execution_count": 27,
     "metadata": {},
     "output_type": "execute_result"
    }
   ],
   "source": [
    "frequencies_df[0:20]"
   ]
  },
  {
   "cell_type": "code",
   "execution_count": 28,
   "metadata": {},
   "outputs": [],
   "source": [
    "import matplotlib.pyplot as plt\n",
    "%matplotlib inline\n",
    "import warnings\n",
    "warnings.filterwarnings('ignore')"
   ]
  },
  {
   "cell_type": "code",
   "execution_count": 29,
   "metadata": {
    "collapsed": true
   },
   "outputs": [],
   "source": [
    "#%pip install python-decouple"
   ]
  },
  {
   "cell_type": "code",
   "execution_count": 30,
   "metadata": {
    "collapsed": true
   },
   "outputs": [],
   "source": [
    "from decouple import config"
   ]
  },
  {
   "cell_type": "code",
   "execution_count": 31,
   "metadata": {
    "collapsed": true
   },
   "outputs": [],
   "source": [
    "API_USERNAME = config('USER')"
   ]
  },
  {
   "cell_type": "code",
   "execution_count": 32,
   "metadata": {
    "collapsed": true
   },
   "outputs": [],
   "source": [
    "API_KEY = config('PLOTLY_API_KEY')"
   ]
  },
  {
   "cell_type": "code",
   "execution_count": 33,
   "metadata": {
    "collapsed": true
   },
   "outputs": [],
   "source": [
    "import chart_studio"
   ]
  },
  {
   "cell_type": "code",
   "execution_count": 34,
   "metadata": {
    "collapsed": true
   },
   "outputs": [],
   "source": [
    "chart_studio.tools.set_credentials_file(username=API_USERNAME, api_key=API_KEY)"
   ]
  },
  {
   "cell_type": "code",
   "execution_count": 35,
   "metadata": {
    "collapsed": true
   },
   "outputs": [],
   "source": [
    "import chart_studio.plotly as py\n",
    "import plotly.offline\n",
    "from plotly.offline import download_plotlyjs, init_notebook_mode, plot, iplot"
   ]
  },
  {
   "cell_type": "code",
   "execution_count": 36,
   "metadata": {},
   "outputs": [
    {
     "data": {
      "text/html": [
       "        <script type=\"text/javascript\">\n",
       "        window.PlotlyConfig = {MathJaxConfig: 'local'};\n",
       "        if (window.MathJax) {MathJax.Hub.Config({SVG: {font: \"STIX-Web\"}});}\n",
       "        if (typeof require !== 'undefined') {\n",
       "        require.undef(\"plotly\");\n",
       "        requirejs.config({\n",
       "            paths: {\n",
       "                'plotly': ['https://cdn.plot.ly/plotly-latest.min']\n",
       "            }\n",
       "        });\n",
       "        require(['plotly'], function(Plotly) {\n",
       "            window._Plotly = Plotly;\n",
       "        });\n",
       "        }\n",
       "        </script>\n",
       "        "
      ]
     },
     "metadata": {},
     "output_type": "display_data"
    }
   ],
   "source": [
    "import cufflinks as cf\n",
    "cf.go_offline()\n",
    "# Configure cufflings \n",
    "cf.set_config_file(offline=False, world_readable=True, theme='pearl')"
   ]
  },
  {
   "cell_type": "code",
   "execution_count": 37,
   "metadata": {},
   "outputs": [
    {
     "data": {
      "application/vnd.plotly.v1+json": {
       "config": {
        "linkText": "Export to plotly.com",
        "plotlyServerURL": "https://plotly.com",
        "showLink": true
       },
       "data": [
        {
         "marker": {
          "color": "rgba(255, 153, 51, 0.6)",
          "line": {
           "color": "rgba(255, 153, 51, 1.0)",
           "width": 1
          }
         },
         "name": "frequency",
         "orientation": "v",
         "text": "",
         "type": "bar",
         "x": [
          0,
          1,
          2,
          3,
          4,
          5,
          6,
          7,
          8,
          9,
          10,
          11,
          12,
          13,
          14,
          15,
          16,
          17,
          18,
          19,
          20,
          21,
          22,
          23,
          24,
          25,
          26,
          27,
          28,
          29,
          30,
          31,
          32,
          33,
          34,
          35,
          36,
          37,
          38,
          39,
          40,
          41,
          42,
          43,
          44,
          45,
          46,
          47,
          48,
          49,
          50,
          51,
          52,
          53,
          54,
          55,
          56,
          57,
          58,
          59,
          60,
          61,
          62,
          63,
          64,
          65,
          66,
          67,
          68,
          69,
          70,
          71,
          72,
          73,
          74
         ],
         "y": [
          1503414,
          660626,
          484457,
          403304,
          366204,
          356268,
          288720,
          273700,
          269783,
          267480,
          262358,
          262213,
          260625,
          259771,
          247783,
          246638,
          245271,
          235935,
          227708,
          224609,
          222498,
          222005,
          213722,
          208572,
          201445,
          195053,
          194213,
          192421,
          187423,
          183169,
          178867,
          175284,
          174454,
          173063,
          171969,
          165838,
          156794,
          154930,
          154869,
          150494,
          148494,
          147317,
          130947,
          130557,
          128048,
          124905,
          124819,
          124470,
          121858,
          121740,
          121560,
          120294,
          118517,
          118474,
          118413,
          116884,
          116864,
          116310,
          116109,
          114078,
          113908,
          112432,
          111464,
          110779,
          110539,
          108578,
          105269,
          104840,
          103632,
          103052,
          102985,
          101778,
          101675,
          100799,
          99785
         ]
        }
       ],
       "layout": {
        "legend": {
         "bgcolor": "#F5F6F9",
         "font": {
          "color": "#4D5663"
         }
        },
        "paper_bgcolor": "#F5F6F9",
        "plot_bgcolor": "#F5F6F9",
        "template": {
         "data": {
          "bar": [
           {
            "error_x": {
             "color": "#2a3f5f"
            },
            "error_y": {
             "color": "#2a3f5f"
            },
            "marker": {
             "line": {
              "color": "#E5ECF6",
              "width": 0.5
             }
            },
            "type": "bar"
           }
          ],
          "barpolar": [
           {
            "marker": {
             "line": {
              "color": "#E5ECF6",
              "width": 0.5
             }
            },
            "type": "barpolar"
           }
          ],
          "carpet": [
           {
            "aaxis": {
             "endlinecolor": "#2a3f5f",
             "gridcolor": "white",
             "linecolor": "white",
             "minorgridcolor": "white",
             "startlinecolor": "#2a3f5f"
            },
            "baxis": {
             "endlinecolor": "#2a3f5f",
             "gridcolor": "white",
             "linecolor": "white",
             "minorgridcolor": "white",
             "startlinecolor": "#2a3f5f"
            },
            "type": "carpet"
           }
          ],
          "choropleth": [
           {
            "colorbar": {
             "outlinewidth": 0,
             "ticks": ""
            },
            "type": "choropleth"
           }
          ],
          "contour": [
           {
            "colorbar": {
             "outlinewidth": 0,
             "ticks": ""
            },
            "colorscale": [
             [
              0,
              "#0d0887"
             ],
             [
              0.1111111111111111,
              "#46039f"
             ],
             [
              0.2222222222222222,
              "#7201a8"
             ],
             [
              0.3333333333333333,
              "#9c179e"
             ],
             [
              0.4444444444444444,
              "#bd3786"
             ],
             [
              0.5555555555555556,
              "#d8576b"
             ],
             [
              0.6666666666666666,
              "#ed7953"
             ],
             [
              0.7777777777777778,
              "#fb9f3a"
             ],
             [
              0.8888888888888888,
              "#fdca26"
             ],
             [
              1,
              "#f0f921"
             ]
            ],
            "type": "contour"
           }
          ],
          "contourcarpet": [
           {
            "colorbar": {
             "outlinewidth": 0,
             "ticks": ""
            },
            "type": "contourcarpet"
           }
          ],
          "heatmap": [
           {
            "colorbar": {
             "outlinewidth": 0,
             "ticks": ""
            },
            "colorscale": [
             [
              0,
              "#0d0887"
             ],
             [
              0.1111111111111111,
              "#46039f"
             ],
             [
              0.2222222222222222,
              "#7201a8"
             ],
             [
              0.3333333333333333,
              "#9c179e"
             ],
             [
              0.4444444444444444,
              "#bd3786"
             ],
             [
              0.5555555555555556,
              "#d8576b"
             ],
             [
              0.6666666666666666,
              "#ed7953"
             ],
             [
              0.7777777777777778,
              "#fb9f3a"
             ],
             [
              0.8888888888888888,
              "#fdca26"
             ],
             [
              1,
              "#f0f921"
             ]
            ],
            "type": "heatmap"
           }
          ],
          "heatmapgl": [
           {
            "colorbar": {
             "outlinewidth": 0,
             "ticks": ""
            },
            "colorscale": [
             [
              0,
              "#0d0887"
             ],
             [
              0.1111111111111111,
              "#46039f"
             ],
             [
              0.2222222222222222,
              "#7201a8"
             ],
             [
              0.3333333333333333,
              "#9c179e"
             ],
             [
              0.4444444444444444,
              "#bd3786"
             ],
             [
              0.5555555555555556,
              "#d8576b"
             ],
             [
              0.6666666666666666,
              "#ed7953"
             ],
             [
              0.7777777777777778,
              "#fb9f3a"
             ],
             [
              0.8888888888888888,
              "#fdca26"
             ],
             [
              1,
              "#f0f921"
             ]
            ],
            "type": "heatmapgl"
           }
          ],
          "histogram": [
           {
            "marker": {
             "colorbar": {
              "outlinewidth": 0,
              "ticks": ""
             }
            },
            "type": "histogram"
           }
          ],
          "histogram2d": [
           {
            "colorbar": {
             "outlinewidth": 0,
             "ticks": ""
            },
            "colorscale": [
             [
              0,
              "#0d0887"
             ],
             [
              0.1111111111111111,
              "#46039f"
             ],
             [
              0.2222222222222222,
              "#7201a8"
             ],
             [
              0.3333333333333333,
              "#9c179e"
             ],
             [
              0.4444444444444444,
              "#bd3786"
             ],
             [
              0.5555555555555556,
              "#d8576b"
             ],
             [
              0.6666666666666666,
              "#ed7953"
             ],
             [
              0.7777777777777778,
              "#fb9f3a"
             ],
             [
              0.8888888888888888,
              "#fdca26"
             ],
             [
              1,
              "#f0f921"
             ]
            ],
            "type": "histogram2d"
           }
          ],
          "histogram2dcontour": [
           {
            "colorbar": {
             "outlinewidth": 0,
             "ticks": ""
            },
            "colorscale": [
             [
              0,
              "#0d0887"
             ],
             [
              0.1111111111111111,
              "#46039f"
             ],
             [
              0.2222222222222222,
              "#7201a8"
             ],
             [
              0.3333333333333333,
              "#9c179e"
             ],
             [
              0.4444444444444444,
              "#bd3786"
             ],
             [
              0.5555555555555556,
              "#d8576b"
             ],
             [
              0.6666666666666666,
              "#ed7953"
             ],
             [
              0.7777777777777778,
              "#fb9f3a"
             ],
             [
              0.8888888888888888,
              "#fdca26"
             ],
             [
              1,
              "#f0f921"
             ]
            ],
            "type": "histogram2dcontour"
           }
          ],
          "mesh3d": [
           {
            "colorbar": {
             "outlinewidth": 0,
             "ticks": ""
            },
            "type": "mesh3d"
           }
          ],
          "parcoords": [
           {
            "line": {
             "colorbar": {
              "outlinewidth": 0,
              "ticks": ""
             }
            },
            "type": "parcoords"
           }
          ],
          "pie": [
           {
            "automargin": true,
            "type": "pie"
           }
          ],
          "scatter": [
           {
            "marker": {
             "colorbar": {
              "outlinewidth": 0,
              "ticks": ""
             }
            },
            "type": "scatter"
           }
          ],
          "scatter3d": [
           {
            "line": {
             "colorbar": {
              "outlinewidth": 0,
              "ticks": ""
             }
            },
            "marker": {
             "colorbar": {
              "outlinewidth": 0,
              "ticks": ""
             }
            },
            "type": "scatter3d"
           }
          ],
          "scattercarpet": [
           {
            "marker": {
             "colorbar": {
              "outlinewidth": 0,
              "ticks": ""
             }
            },
            "type": "scattercarpet"
           }
          ],
          "scattergeo": [
           {
            "marker": {
             "colorbar": {
              "outlinewidth": 0,
              "ticks": ""
             }
            },
            "type": "scattergeo"
           }
          ],
          "scattergl": [
           {
            "marker": {
             "colorbar": {
              "outlinewidth": 0,
              "ticks": ""
             }
            },
            "type": "scattergl"
           }
          ],
          "scattermapbox": [
           {
            "marker": {
             "colorbar": {
              "outlinewidth": 0,
              "ticks": ""
             }
            },
            "type": "scattermapbox"
           }
          ],
          "scatterpolar": [
           {
            "marker": {
             "colorbar": {
              "outlinewidth": 0,
              "ticks": ""
             }
            },
            "type": "scatterpolar"
           }
          ],
          "scatterpolargl": [
           {
            "marker": {
             "colorbar": {
              "outlinewidth": 0,
              "ticks": ""
             }
            },
            "type": "scatterpolargl"
           }
          ],
          "scatterternary": [
           {
            "marker": {
             "colorbar": {
              "outlinewidth": 0,
              "ticks": ""
             }
            },
            "type": "scatterternary"
           }
          ],
          "surface": [
           {
            "colorbar": {
             "outlinewidth": 0,
             "ticks": ""
            },
            "colorscale": [
             [
              0,
              "#0d0887"
             ],
             [
              0.1111111111111111,
              "#46039f"
             ],
             [
              0.2222222222222222,
              "#7201a8"
             ],
             [
              0.3333333333333333,
              "#9c179e"
             ],
             [
              0.4444444444444444,
              "#bd3786"
             ],
             [
              0.5555555555555556,
              "#d8576b"
             ],
             [
              0.6666666666666666,
              "#ed7953"
             ],
             [
              0.7777777777777778,
              "#fb9f3a"
             ],
             [
              0.8888888888888888,
              "#fdca26"
             ],
             [
              1,
              "#f0f921"
             ]
            ],
            "type": "surface"
           }
          ],
          "table": [
           {
            "cells": {
             "fill": {
              "color": "#EBF0F8"
             },
             "line": {
              "color": "white"
             }
            },
            "header": {
             "fill": {
              "color": "#C8D4E3"
             },
             "line": {
              "color": "white"
             }
            },
            "type": "table"
           }
          ]
         },
         "layout": {
          "annotationdefaults": {
           "arrowcolor": "#2a3f5f",
           "arrowhead": 0,
           "arrowwidth": 1
          },
          "coloraxis": {
           "colorbar": {
            "outlinewidth": 0,
            "ticks": ""
           }
          },
          "colorscale": {
           "diverging": [
            [
             0,
             "#8e0152"
            ],
            [
             0.1,
             "#c51b7d"
            ],
            [
             0.2,
             "#de77ae"
            ],
            [
             0.3,
             "#f1b6da"
            ],
            [
             0.4,
             "#fde0ef"
            ],
            [
             0.5,
             "#f7f7f7"
            ],
            [
             0.6,
             "#e6f5d0"
            ],
            [
             0.7,
             "#b8e186"
            ],
            [
             0.8,
             "#7fbc41"
            ],
            [
             0.9,
             "#4d9221"
            ],
            [
             1,
             "#276419"
            ]
           ],
           "sequential": [
            [
             0,
             "#0d0887"
            ],
            [
             0.1111111111111111,
             "#46039f"
            ],
            [
             0.2222222222222222,
             "#7201a8"
            ],
            [
             0.3333333333333333,
             "#9c179e"
            ],
            [
             0.4444444444444444,
             "#bd3786"
            ],
            [
             0.5555555555555556,
             "#d8576b"
            ],
            [
             0.6666666666666666,
             "#ed7953"
            ],
            [
             0.7777777777777778,
             "#fb9f3a"
            ],
            [
             0.8888888888888888,
             "#fdca26"
            ],
            [
             1,
             "#f0f921"
            ]
           ],
           "sequentialminus": [
            [
             0,
             "#0d0887"
            ],
            [
             0.1111111111111111,
             "#46039f"
            ],
            [
             0.2222222222222222,
             "#7201a8"
            ],
            [
             0.3333333333333333,
             "#9c179e"
            ],
            [
             0.4444444444444444,
             "#bd3786"
            ],
            [
             0.5555555555555556,
             "#d8576b"
            ],
            [
             0.6666666666666666,
             "#ed7953"
            ],
            [
             0.7777777777777778,
             "#fb9f3a"
            ],
            [
             0.8888888888888888,
             "#fdca26"
            ],
            [
             1,
             "#f0f921"
            ]
           ]
          },
          "colorway": [
           "#636efa",
           "#EF553B",
           "#00cc96",
           "#ab63fa",
           "#FFA15A",
           "#19d3f3",
           "#FF6692",
           "#B6E880",
           "#FF97FF",
           "#FECB52"
          ],
          "font": {
           "color": "#2a3f5f"
          },
          "geo": {
           "bgcolor": "white",
           "lakecolor": "white",
           "landcolor": "#E5ECF6",
           "showlakes": true,
           "showland": true,
           "subunitcolor": "white"
          },
          "hoverlabel": {
           "align": "left"
          },
          "hovermode": "closest",
          "mapbox": {
           "style": "light"
          },
          "paper_bgcolor": "white",
          "plot_bgcolor": "#E5ECF6",
          "polar": {
           "angularaxis": {
            "gridcolor": "white",
            "linecolor": "white",
            "ticks": ""
           },
           "bgcolor": "#E5ECF6",
           "radialaxis": {
            "gridcolor": "white",
            "linecolor": "white",
            "ticks": ""
           }
          },
          "scene": {
           "xaxis": {
            "backgroundcolor": "#E5ECF6",
            "gridcolor": "white",
            "gridwidth": 2,
            "linecolor": "white",
            "showbackground": true,
            "ticks": "",
            "zerolinecolor": "white"
           },
           "yaxis": {
            "backgroundcolor": "#E5ECF6",
            "gridcolor": "white",
            "gridwidth": 2,
            "linecolor": "white",
            "showbackground": true,
            "ticks": "",
            "zerolinecolor": "white"
           },
           "zaxis": {
            "backgroundcolor": "#E5ECF6",
            "gridcolor": "white",
            "gridwidth": 2,
            "linecolor": "white",
            "showbackground": true,
            "ticks": "",
            "zerolinecolor": "white"
           }
          },
          "shapedefaults": {
           "line": {
            "color": "#2a3f5f"
           }
          },
          "ternary": {
           "aaxis": {
            "gridcolor": "white",
            "linecolor": "white",
            "ticks": ""
           },
           "baxis": {
            "gridcolor": "white",
            "linecolor": "white",
            "ticks": ""
           },
           "bgcolor": "#E5ECF6",
           "caxis": {
            "gridcolor": "white",
            "linecolor": "white",
            "ticks": ""
           }
          },
          "title": {
           "x": 0.05
          },
          "xaxis": {
           "automargin": true,
           "gridcolor": "white",
           "linecolor": "white",
           "ticks": "",
           "title": {
            "standoff": 15
           },
           "zerolinecolor": "white",
           "zerolinewidth": 2
          },
          "yaxis": {
           "automargin": true,
           "gridcolor": "white",
           "linecolor": "white",
           "ticks": "",
           "title": {
            "standoff": 15
           },
           "zerolinecolor": "white",
           "zerolinewidth": 2
          }
         }
        },
        "title": {
         "font": {
          "color": "#4D5663"
         },
         "text": "Occurences in the Corpus per Word (Zipf's Law)"
        },
        "xaxis": {
         "gridcolor": "#E1E5ED",
         "showgrid": true,
         "tickfont": {
          "color": "#4D5663"
         },
         "title": {
          "font": {
           "color": "#4D5663"
          },
          "text": "Words"
         },
         "zerolinecolor": "#E1E5ED"
        },
        "yaxis": {
         "gridcolor": "#E1E5ED",
         "showgrid": true,
         "tickfont": {
          "color": "#4D5663"
         },
         "title": {
          "font": {
           "color": "#4D5663"
          },
          "text": "Frequency"
         },
         "zerolinecolor": "#E1E5ED"
        }
       }
      },
      "text/html": [
       "<div>\n",
       "        \n",
       "        \n",
       "            <div id=\"bc4b97e1-0324-4857-8337-356aa84b29c1\" class=\"plotly-graph-div\" style=\"height:525px; width:100%;\"></div>\n",
       "            <script type=\"text/javascript\">\n",
       "                require([\"plotly\"], function(Plotly) {\n",
       "                    window.PLOTLYENV=window.PLOTLYENV || {};\n",
       "                    window.PLOTLYENV.BASE_URL='https://plotly.com';\n",
       "                    \n",
       "                if (document.getElementById(\"bc4b97e1-0324-4857-8337-356aa84b29c1\")) {\n",
       "                    Plotly.newPlot(\n",
       "                        'bc4b97e1-0324-4857-8337-356aa84b29c1',\n",
       "                        [{\"marker\": {\"color\": \"rgba(255, 153, 51, 0.6)\", \"line\": {\"color\": \"rgba(255, 153, 51, 1.0)\", \"width\": 1}}, \"name\": \"frequency\", \"orientation\": \"v\", \"text\": \"\", \"type\": \"bar\", \"x\": [0, 1, 2, 3, 4, 5, 6, 7, 8, 9, 10, 11, 12, 13, 14, 15, 16, 17, 18, 19, 20, 21, 22, 23, 24, 25, 26, 27, 28, 29, 30, 31, 32, 33, 34, 35, 36, 37, 38, 39, 40, 41, 42, 43, 44, 45, 46, 47, 48, 49, 50, 51, 52, 53, 54, 55, 56, 57, 58, 59, 60, 61, 62, 63, 64, 65, 66, 67, 68, 69, 70, 71, 72, 73, 74], \"y\": [1503414, 660626, 484457, 403304, 366204, 356268, 288720, 273700, 269783, 267480, 262358, 262213, 260625, 259771, 247783, 246638, 245271, 235935, 227708, 224609, 222498, 222005, 213722, 208572, 201445, 195053, 194213, 192421, 187423, 183169, 178867, 175284, 174454, 173063, 171969, 165838, 156794, 154930, 154869, 150494, 148494, 147317, 130947, 130557, 128048, 124905, 124819, 124470, 121858, 121740, 121560, 120294, 118517, 118474, 118413, 116884, 116864, 116310, 116109, 114078, 113908, 112432, 111464, 110779, 110539, 108578, 105269, 104840, 103632, 103052, 102985, 101778, 101675, 100799, 99785]}],\n",
       "                        {\"legend\": {\"bgcolor\": \"#F5F6F9\", \"font\": {\"color\": \"#4D5663\"}}, \"paper_bgcolor\": \"#F5F6F9\", \"plot_bgcolor\": \"#F5F6F9\", \"template\": {\"data\": {\"bar\": [{\"error_x\": {\"color\": \"#2a3f5f\"}, \"error_y\": {\"color\": \"#2a3f5f\"}, \"marker\": {\"line\": {\"color\": \"#E5ECF6\", \"width\": 0.5}}, \"type\": \"bar\"}], \"barpolar\": [{\"marker\": {\"line\": {\"color\": \"#E5ECF6\", \"width\": 0.5}}, \"type\": \"barpolar\"}], \"carpet\": [{\"aaxis\": {\"endlinecolor\": \"#2a3f5f\", \"gridcolor\": \"white\", \"linecolor\": \"white\", \"minorgridcolor\": \"white\", \"startlinecolor\": \"#2a3f5f\"}, \"baxis\": {\"endlinecolor\": \"#2a3f5f\", \"gridcolor\": \"white\", \"linecolor\": \"white\", \"minorgridcolor\": \"white\", \"startlinecolor\": \"#2a3f5f\"}, \"type\": \"carpet\"}], \"choropleth\": [{\"colorbar\": {\"outlinewidth\": 0, \"ticks\": \"\"}, \"type\": \"choropleth\"}], \"contour\": [{\"colorbar\": {\"outlinewidth\": 0, \"ticks\": \"\"}, \"colorscale\": [[0.0, \"#0d0887\"], [0.1111111111111111, \"#46039f\"], [0.2222222222222222, \"#7201a8\"], [0.3333333333333333, \"#9c179e\"], [0.4444444444444444, \"#bd3786\"], [0.5555555555555556, \"#d8576b\"], [0.6666666666666666, \"#ed7953\"], [0.7777777777777778, \"#fb9f3a\"], [0.8888888888888888, \"#fdca26\"], [1.0, \"#f0f921\"]], \"type\": \"contour\"}], \"contourcarpet\": [{\"colorbar\": {\"outlinewidth\": 0, \"ticks\": \"\"}, \"type\": \"contourcarpet\"}], \"heatmap\": [{\"colorbar\": {\"outlinewidth\": 0, \"ticks\": \"\"}, \"colorscale\": [[0.0, \"#0d0887\"], [0.1111111111111111, \"#46039f\"], [0.2222222222222222, \"#7201a8\"], [0.3333333333333333, \"#9c179e\"], [0.4444444444444444, \"#bd3786\"], [0.5555555555555556, \"#d8576b\"], [0.6666666666666666, \"#ed7953\"], [0.7777777777777778, \"#fb9f3a\"], [0.8888888888888888, \"#fdca26\"], [1.0, \"#f0f921\"]], \"type\": \"heatmap\"}], \"heatmapgl\": [{\"colorbar\": {\"outlinewidth\": 0, \"ticks\": \"\"}, \"colorscale\": [[0.0, \"#0d0887\"], [0.1111111111111111, \"#46039f\"], [0.2222222222222222, \"#7201a8\"], [0.3333333333333333, \"#9c179e\"], [0.4444444444444444, \"#bd3786\"], [0.5555555555555556, \"#d8576b\"], [0.6666666666666666, \"#ed7953\"], [0.7777777777777778, \"#fb9f3a\"], [0.8888888888888888, \"#fdca26\"], [1.0, \"#f0f921\"]], \"type\": \"heatmapgl\"}], \"histogram\": [{\"marker\": {\"colorbar\": {\"outlinewidth\": 0, \"ticks\": \"\"}}, \"type\": \"histogram\"}], \"histogram2d\": [{\"colorbar\": {\"outlinewidth\": 0, \"ticks\": \"\"}, \"colorscale\": [[0.0, \"#0d0887\"], [0.1111111111111111, \"#46039f\"], [0.2222222222222222, \"#7201a8\"], [0.3333333333333333, \"#9c179e\"], [0.4444444444444444, \"#bd3786\"], [0.5555555555555556, \"#d8576b\"], [0.6666666666666666, \"#ed7953\"], [0.7777777777777778, \"#fb9f3a\"], [0.8888888888888888, \"#fdca26\"], [1.0, \"#f0f921\"]], \"type\": \"histogram2d\"}], \"histogram2dcontour\": [{\"colorbar\": {\"outlinewidth\": 0, \"ticks\": \"\"}, \"colorscale\": [[0.0, \"#0d0887\"], [0.1111111111111111, \"#46039f\"], [0.2222222222222222, \"#7201a8\"], [0.3333333333333333, \"#9c179e\"], [0.4444444444444444, \"#bd3786\"], [0.5555555555555556, \"#d8576b\"], [0.6666666666666666, \"#ed7953\"], [0.7777777777777778, \"#fb9f3a\"], [0.8888888888888888, \"#fdca26\"], [1.0, \"#f0f921\"]], \"type\": \"histogram2dcontour\"}], \"mesh3d\": [{\"colorbar\": {\"outlinewidth\": 0, \"ticks\": \"\"}, \"type\": \"mesh3d\"}], \"parcoords\": [{\"line\": {\"colorbar\": {\"outlinewidth\": 0, \"ticks\": \"\"}}, \"type\": \"parcoords\"}], \"pie\": [{\"automargin\": true, \"type\": \"pie\"}], \"scatter\": [{\"marker\": {\"colorbar\": {\"outlinewidth\": 0, \"ticks\": \"\"}}, \"type\": \"scatter\"}], \"scatter3d\": [{\"line\": {\"colorbar\": {\"outlinewidth\": 0, \"ticks\": \"\"}}, \"marker\": {\"colorbar\": {\"outlinewidth\": 0, \"ticks\": \"\"}}, \"type\": \"scatter3d\"}], \"scattercarpet\": [{\"marker\": {\"colorbar\": {\"outlinewidth\": 0, \"ticks\": \"\"}}, \"type\": \"scattercarpet\"}], \"scattergeo\": [{\"marker\": {\"colorbar\": {\"outlinewidth\": 0, \"ticks\": \"\"}}, \"type\": \"scattergeo\"}], \"scattergl\": [{\"marker\": {\"colorbar\": {\"outlinewidth\": 0, \"ticks\": \"\"}}, \"type\": \"scattergl\"}], \"scattermapbox\": [{\"marker\": {\"colorbar\": {\"outlinewidth\": 0, \"ticks\": \"\"}}, \"type\": \"scattermapbox\"}], \"scatterpolar\": [{\"marker\": {\"colorbar\": {\"outlinewidth\": 0, \"ticks\": \"\"}}, \"type\": \"scatterpolar\"}], \"scatterpolargl\": [{\"marker\": {\"colorbar\": {\"outlinewidth\": 0, \"ticks\": \"\"}}, \"type\": \"scatterpolargl\"}], \"scatterternary\": [{\"marker\": {\"colorbar\": {\"outlinewidth\": 0, \"ticks\": \"\"}}, \"type\": \"scatterternary\"}], \"surface\": [{\"colorbar\": {\"outlinewidth\": 0, \"ticks\": \"\"}, \"colorscale\": [[0.0, \"#0d0887\"], [0.1111111111111111, \"#46039f\"], [0.2222222222222222, \"#7201a8\"], [0.3333333333333333, \"#9c179e\"], [0.4444444444444444, \"#bd3786\"], [0.5555555555555556, \"#d8576b\"], [0.6666666666666666, \"#ed7953\"], [0.7777777777777778, \"#fb9f3a\"], [0.8888888888888888, \"#fdca26\"], [1.0, \"#f0f921\"]], \"type\": \"surface\"}], \"table\": [{\"cells\": {\"fill\": {\"color\": \"#EBF0F8\"}, \"line\": {\"color\": \"white\"}}, \"header\": {\"fill\": {\"color\": \"#C8D4E3\"}, \"line\": {\"color\": \"white\"}}, \"type\": \"table\"}]}, \"layout\": {\"annotationdefaults\": {\"arrowcolor\": \"#2a3f5f\", \"arrowhead\": 0, \"arrowwidth\": 1}, \"coloraxis\": {\"colorbar\": {\"outlinewidth\": 0, \"ticks\": \"\"}}, \"colorscale\": {\"diverging\": [[0, \"#8e0152\"], [0.1, \"#c51b7d\"], [0.2, \"#de77ae\"], [0.3, \"#f1b6da\"], [0.4, \"#fde0ef\"], [0.5, \"#f7f7f7\"], [0.6, \"#e6f5d0\"], [0.7, \"#b8e186\"], [0.8, \"#7fbc41\"], [0.9, \"#4d9221\"], [1, \"#276419\"]], \"sequential\": [[0.0, \"#0d0887\"], [0.1111111111111111, \"#46039f\"], [0.2222222222222222, \"#7201a8\"], [0.3333333333333333, \"#9c179e\"], [0.4444444444444444, \"#bd3786\"], [0.5555555555555556, \"#d8576b\"], [0.6666666666666666, \"#ed7953\"], [0.7777777777777778, \"#fb9f3a\"], [0.8888888888888888, \"#fdca26\"], [1.0, \"#f0f921\"]], \"sequentialminus\": [[0.0, \"#0d0887\"], [0.1111111111111111, \"#46039f\"], [0.2222222222222222, \"#7201a8\"], [0.3333333333333333, \"#9c179e\"], [0.4444444444444444, \"#bd3786\"], [0.5555555555555556, \"#d8576b\"], [0.6666666666666666, \"#ed7953\"], [0.7777777777777778, \"#fb9f3a\"], [0.8888888888888888, \"#fdca26\"], [1.0, \"#f0f921\"]]}, \"colorway\": [\"#636efa\", \"#EF553B\", \"#00cc96\", \"#ab63fa\", \"#FFA15A\", \"#19d3f3\", \"#FF6692\", \"#B6E880\", \"#FF97FF\", \"#FECB52\"], \"font\": {\"color\": \"#2a3f5f\"}, \"geo\": {\"bgcolor\": \"white\", \"lakecolor\": \"white\", \"landcolor\": \"#E5ECF6\", \"showlakes\": true, \"showland\": true, \"subunitcolor\": \"white\"}, \"hoverlabel\": {\"align\": \"left\"}, \"hovermode\": \"closest\", \"mapbox\": {\"style\": \"light\"}, \"paper_bgcolor\": \"white\", \"plot_bgcolor\": \"#E5ECF6\", \"polar\": {\"angularaxis\": {\"gridcolor\": \"white\", \"linecolor\": \"white\", \"ticks\": \"\"}, \"bgcolor\": \"#E5ECF6\", \"radialaxis\": {\"gridcolor\": \"white\", \"linecolor\": \"white\", \"ticks\": \"\"}}, \"scene\": {\"xaxis\": {\"backgroundcolor\": \"#E5ECF6\", \"gridcolor\": \"white\", \"gridwidth\": 2, \"linecolor\": \"white\", \"showbackground\": true, \"ticks\": \"\", \"zerolinecolor\": \"white\"}, \"yaxis\": {\"backgroundcolor\": \"#E5ECF6\", \"gridcolor\": \"white\", \"gridwidth\": 2, \"linecolor\": \"white\", \"showbackground\": true, \"ticks\": \"\", \"zerolinecolor\": \"white\"}, \"zaxis\": {\"backgroundcolor\": \"#E5ECF6\", \"gridcolor\": \"white\", \"gridwidth\": 2, \"linecolor\": \"white\", \"showbackground\": true, \"ticks\": \"\", \"zerolinecolor\": \"white\"}}, \"shapedefaults\": {\"line\": {\"color\": \"#2a3f5f\"}}, \"ternary\": {\"aaxis\": {\"gridcolor\": \"white\", \"linecolor\": \"white\", \"ticks\": \"\"}, \"baxis\": {\"gridcolor\": \"white\", \"linecolor\": \"white\", \"ticks\": \"\"}, \"bgcolor\": \"#E5ECF6\", \"caxis\": {\"gridcolor\": \"white\", \"linecolor\": \"white\", \"ticks\": \"\"}}, \"title\": {\"x\": 0.05}, \"xaxis\": {\"automargin\": true, \"gridcolor\": \"white\", \"linecolor\": \"white\", \"ticks\": \"\", \"title\": {\"standoff\": 15}, \"zerolinecolor\": \"white\", \"zerolinewidth\": 2}, \"yaxis\": {\"automargin\": true, \"gridcolor\": \"white\", \"linecolor\": \"white\", \"ticks\": \"\", \"title\": {\"standoff\": 15}, \"zerolinecolor\": \"white\", \"zerolinewidth\": 2}}}, \"title\": {\"font\": {\"color\": \"#4D5663\"}, \"text\": \"Occurences in the Corpus per Word (Zipf's Law)\"}, \"xaxis\": {\"gridcolor\": \"#E1E5ED\", \"showgrid\": true, \"tickfont\": {\"color\": \"#4D5663\"}, \"title\": {\"font\": {\"color\": \"#4D5663\"}, \"text\": \"Words\"}, \"zerolinecolor\": \"#E1E5ED\"}, \"yaxis\": {\"gridcolor\": \"#E1E5ED\", \"showgrid\": true, \"tickfont\": {\"color\": \"#4D5663\"}, \"title\": {\"font\": {\"color\": \"#4D5663\"}, \"text\": \"Frequency\"}, \"zerolinecolor\": \"#E1E5ED\"}},\n",
       "                        {\"showLink\": true, \"linkText\": \"Export to plotly.com\", \"plotlyServerURL\": \"https://plotly.com\", \"responsive\": true}\n",
       "                    ).then(function(){\n",
       "                            \n",
       "var gd = document.getElementById('bc4b97e1-0324-4857-8337-356aa84b29c1');\n",
       "var x = new MutationObserver(function (mutations, observer) {{\n",
       "        var display = window.getComputedStyle(gd).display;\n",
       "        if (!display || display === 'none') {{\n",
       "            console.log([gd, 'removed!']);\n",
       "            Plotly.purge(gd);\n",
       "            observer.disconnect();\n",
       "        }}\n",
       "}});\n",
       "\n",
       "// Listen for the removal of the full notebook cells\n",
       "var notebookContainer = gd.closest('#notebook-container');\n",
       "if (notebookContainer) {{\n",
       "    x.observe(notebookContainer, {childList: true});\n",
       "}}\n",
       "\n",
       "// Listen for the clearing of the current output cell\n",
       "var outputEl = gd.closest('.output');\n",
       "if (outputEl) {{\n",
       "    x.observe(outputEl, {childList: true});\n",
       "}}\n",
       "\n",
       "                        })\n",
       "                };\n",
       "                });\n",
       "            </script>\n",
       "        </div>"
      ]
     },
     "metadata": {},
     "output_type": "display_data"
    }
   ],
   "source": [
    "frequencies_df['frequency'][0:75].iplot(kind='bar', xTitle='Words', yTitle='Frequency', title='Occurences in the Corpus per Word (Zipf\\'s Law)')"
   ]
  },
  {
   "cell_type": "code",
   "execution_count": 38,
   "metadata": {
    "collapsed": true,
    "jupyter": {
     "outputs_hidden": true
    }
   },
   "outputs": [],
   "source": [
    "frequencies_df.to_csv(\"../data/interim/003_dictionary.csv\", sep='\\t', header=True, index=False);"
   ]
  },
  {
   "cell_type": "code",
   "execution_count": 39,
   "metadata": {},
   "outputs": [],
   "source": [
    "df = frequencies_df.reindex_axis(sorted(frequencies_df.columns, reverse=True), axis=1)"
   ]
  },
  {
   "cell_type": "code",
   "execution_count": 40,
   "metadata": {},
   "outputs": [
    {
     "data": {
      "text/plain": [
       "['word', 'frequency']"
      ]
     },
     "execution_count": 40,
     "metadata": {},
     "output_type": "execute_result"
    }
   ],
   "source": [
    "sorted(frequencies_df.columns, reverse=True)"
   ]
  },
  {
   "cell_type": "code",
   "execution_count": 41,
   "metadata": {
    "collapsed": true
   },
   "outputs": [],
   "source": [
    "final_df = frequencies_df.reindex(['word', 'frequency'], axis=1)"
   ]
  },
  {
   "cell_type": "code",
   "execution_count": 42,
   "metadata": {
    "collapsed": true,
    "jupyter": {
     "outputs_hidden": true
    }
   },
   "outputs": [],
   "source": [
    "# Save a dictionary into a pickle file.\n",
    "final_df.to_pickle(\"../data/interim/003_dictionary.p\")"
   ]
  },
  {
   "cell_type": "code",
   "execution_count": null,
   "metadata": {
    "collapsed": true,
    "jupyter": {
     "outputs_hidden": true
    }
   },
   "outputs": [],
   "source": [
    "# END_OF_FILE"
   ]
  }
 ],
 "metadata": {
  "kernelspec": {
   "display_name": "Python 3",
   "language": "python",
   "name": "python3"
  },
  "language_info": {
   "codemirror_mode": {
    "name": "ipython",
    "version": 3
   },
   "file_extension": ".py",
   "mimetype": "text/x-python",
   "name": "python",
   "nbconvert_exporter": "python",
   "pygments_lexer": "ipython3",
   "version": "3.6.7"
  }
 },
 "nbformat": 4,
 "nbformat_minor": 4
}
